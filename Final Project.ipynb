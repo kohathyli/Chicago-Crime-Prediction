{
 "cells": [
  {
   "cell_type": "markdown",
   "id": "4dbf11a4-3bd1-4b0f-ab26-f4e17c0ff72c",
   "metadata": {},
   "source": [
    "I try to solve two problems in this project. First is to predict the severity of the crime type in the future and second is to predict high crime rate district on the whole dataset.\n",
    "I use the data from City of Chicago Crime Dataset https://data.cityofchicago.org/Public-Safety/Crimes-2001-to-Present/ijzp-q8t2. I only use dat from year 2020 to 2022 here in consideration of the large volume and also the representativeness of future after COVID."
   ]
  },
  {
   "cell_type": "code",
   "execution_count": 1,
   "id": "70980cb7-71c4-4cd9-bf65-8ca085d906dd",
   "metadata": {},
   "outputs": [],
   "source": [
    "# Data Exploration\n",
    "import pandas as pd\n",
    "import numpy as np\n",
    "import seaborn as sns\n",
    "import matplotlib.pyplot as plt\n",
    "%matplotlib inline"
   ]
  },
  {
   "cell_type": "code",
   "execution_count": 2,
   "id": "bd57cd89-6134-428c-b66a-961e0df71851",
   "metadata": {},
   "outputs": [],
   "source": [
    "# read in criminal data and remove irrelevant/not meaningfull attributes for this project\n",
    "crime_data_2020 = pd.read_csv('Final Data/Crimes_-_2020.csv')\n",
    "crime_data_2021 = pd.read_csv('Final Data/Crimes_-_2021.csv')\n",
    "crime_data_2022 = pd.read_csv('Final Data/Crimes_-_2022.csv')\n",
    "# because the data file is so large and the data decades ago is not really representative and also consider the impact of COVID, I'll only use data from year 2020 to present in this project"
   ]
  },
  {
   "cell_type": "code",
   "execution_count": 3,
   "id": "4ace07a0-d310-4315-a8cd-0f3ffe554c50",
   "metadata": {},
   "outputs": [
    {
     "data": {
      "text/html": [
       "<div>\n",
       "<style scoped>\n",
       "    .dataframe tbody tr th:only-of-type {\n",
       "        vertical-align: middle;\n",
       "    }\n",
       "\n",
       "    .dataframe tbody tr th {\n",
       "        vertical-align: top;\n",
       "    }\n",
       "\n",
       "    .dataframe thead th {\n",
       "        text-align: right;\n",
       "    }\n",
       "</style>\n",
       "<table border=\"1\" class=\"dataframe\">\n",
       "  <thead>\n",
       "    <tr style=\"text-align: right;\">\n",
       "      <th></th>\n",
       "      <th>Date</th>\n",
       "      <th>Block</th>\n",
       "      <th>Primary Type</th>\n",
       "      <th>Description</th>\n",
       "      <th>Location Description</th>\n",
       "      <th>District</th>\n",
       "      <th>Latitude</th>\n",
       "      <th>Longitude</th>\n",
       "    </tr>\n",
       "  </thead>\n",
       "  <tbody>\n",
       "    <tr>\n",
       "      <th>0</th>\n",
       "      <td>03/17/2020 09:30:00 PM</td>\n",
       "      <td>039XX N LECLAIRE AVE</td>\n",
       "      <td>THEFT</td>\n",
       "      <td>$500 AND UNDER</td>\n",
       "      <td>STREET</td>\n",
       "      <td>16</td>\n",
       "      <td>41.952052</td>\n",
       "      <td>-87.754660</td>\n",
       "    </tr>\n",
       "    <tr>\n",
       "      <th>1</th>\n",
       "      <td>03/18/2020 02:03:00 AM</td>\n",
       "      <td>039XX W JACKSON BLVD</td>\n",
       "      <td>MOTOR VEHICLE THEFT</td>\n",
       "      <td>AUTOMOBILE</td>\n",
       "      <td>APARTMENT</td>\n",
       "      <td>11</td>\n",
       "      <td>41.877110</td>\n",
       "      <td>-87.723990</td>\n",
       "    </tr>\n",
       "    <tr>\n",
       "      <th>2</th>\n",
       "      <td>03/18/2020 08:50:00 AM</td>\n",
       "      <td>023XX N KEELER AVE</td>\n",
       "      <td>ASSAULT</td>\n",
       "      <td>SIMPLE</td>\n",
       "      <td>RESIDENCE</td>\n",
       "      <td>25</td>\n",
       "      <td>41.923369</td>\n",
       "      <td>-87.731634</td>\n",
       "    </tr>\n",
       "    <tr>\n",
       "      <th>3</th>\n",
       "      <td>03/18/2020 01:00:00 PM</td>\n",
       "      <td>047XX W MONROE ST</td>\n",
       "      <td>DECEPTIVE PRACTICE</td>\n",
       "      <td>CREDIT CARD FRAUD</td>\n",
       "      <td>OTHER (SPECIFY)</td>\n",
       "      <td>11</td>\n",
       "      <td>41.879264</td>\n",
       "      <td>-87.743971</td>\n",
       "    </tr>\n",
       "    <tr>\n",
       "      <th>4</th>\n",
       "      <td>03/18/2020 05:35:00 PM</td>\n",
       "      <td>003XX S CICERO AVE</td>\n",
       "      <td>NARCOTICS</td>\n",
       "      <td>MANUFACTURE / DELIVER - CRACK</td>\n",
       "      <td>SIDEWALK</td>\n",
       "      <td>15</td>\n",
       "      <td>41.876128</td>\n",
       "      <td>-87.745112</td>\n",
       "    </tr>\n",
       "  </tbody>\n",
       "</table>\n",
       "</div>"
      ],
      "text/plain": [
       "                     Date                 Block         Primary Type  \\\n",
       "0  03/17/2020 09:30:00 PM  039XX N LECLAIRE AVE                THEFT   \n",
       "1  03/18/2020 02:03:00 AM  039XX W JACKSON BLVD  MOTOR VEHICLE THEFT   \n",
       "2  03/18/2020 08:50:00 AM    023XX N KEELER AVE              ASSAULT   \n",
       "3  03/18/2020 01:00:00 PM     047XX W MONROE ST   DECEPTIVE PRACTICE   \n",
       "4  03/18/2020 05:35:00 PM    003XX S CICERO AVE            NARCOTICS   \n",
       "\n",
       "                     Description Location Description  District   Latitude  \\\n",
       "0                 $500 AND UNDER               STREET        16  41.952052   \n",
       "1                     AUTOMOBILE            APARTMENT        11  41.877110   \n",
       "2                         SIMPLE            RESIDENCE        25  41.923369   \n",
       "3              CREDIT CARD FRAUD      OTHER (SPECIFY)        11  41.879264   \n",
       "4  MANUFACTURE / DELIVER - CRACK             SIDEWALK        15  41.876128   \n",
       "\n",
       "   Longitude  \n",
       "0 -87.754660  \n",
       "1 -87.723990  \n",
       "2 -87.731634  \n",
       "3 -87.743971  \n",
       "4 -87.745112  "
      ]
     },
     "execution_count": 3,
     "metadata": {},
     "output_type": "execute_result"
    }
   ],
   "source": [
    "crime_data=pd.concat([crime_data_2020,crime_data_2021,crime_data_2022])\n",
    "crime_data=crime_data[['Date','Block','Primary Type','Description','Location Description','District','Latitude','Longitude']]\n",
    "crime_data.head()"
   ]
  },
  {
   "cell_type": "code",
   "execution_count": 4,
   "id": "ab53e850-4694-4c72-9f6a-df503cb6311a",
   "metadata": {},
   "outputs": [
    {
     "data": {
      "text/plain": [
       "(634827, 8)"
      ]
     },
     "execution_count": 4,
     "metadata": {},
     "output_type": "execute_result"
    }
   ],
   "source": [
    "crime_data.shape"
   ]
  },
  {
   "cell_type": "code",
   "execution_count": 5,
   "id": "a10a4fee-ade7-42a9-899c-456c32ebd293",
   "metadata": {},
   "outputs": [
    {
     "name": "stdout",
     "output_type": "stream",
     "text": [
      "<class 'pandas.core.frame.DataFrame'>\n",
      "Int64Index: 634827 entries, 0 to 214893\n",
      "Data columns (total 8 columns):\n",
      " #   Column                Non-Null Count   Dtype  \n",
      "---  ------                --------------   -----  \n",
      " 0   Date                  634827 non-null  object \n",
      " 1   Block                 634827 non-null  object \n",
      " 2   Primary Type          634827 non-null  object \n",
      " 3   Description           634827 non-null  object \n",
      " 4   Location Description  632083 non-null  object \n",
      " 5   District              634827 non-null  int64  \n",
      " 6   Latitude              624770 non-null  float64\n",
      " 7   Longitude             624770 non-null  float64\n",
      "dtypes: float64(2), int64(1), object(5)\n",
      "memory usage: 43.6+ MB\n"
     ]
    }
   ],
   "source": [
    "crime_data.info()"
   ]
  },
  {
   "cell_type": "code",
   "execution_count": 6,
   "id": "37003139-5b7b-4771-8f8a-0b609ffdf4cf",
   "metadata": {},
   "outputs": [],
   "source": [
    "# Drop rows with 'nan' because we have plenty of data so we just choose to drop useless rows\n",
    "crime_data.replace(to_replace=r'^\\s*$',value=np.nan,regex=True,inplace=True)\n",
    "crime_data=crime_data.dropna()"
   ]
  },
  {
   "cell_type": "code",
   "execution_count": 7,
   "id": "5c85047f-7696-4054-bd8c-2fd83a923787",
   "metadata": {},
   "outputs": [],
   "source": [
    "# Make a copy of crime data for analyzing time later\n",
    "crimes=crime_data.copy()"
   ]
  },
  {
   "cell_type": "code",
   "execution_count": 8,
   "id": "b770a5bf-08d8-4167-ba5f-446f970c7e26",
   "metadata": {},
   "outputs": [
    {
     "data": {
      "text/html": [
       "<div>\n",
       "<style scoped>\n",
       "    .dataframe tbody tr th:only-of-type {\n",
       "        vertical-align: middle;\n",
       "    }\n",
       "\n",
       "    .dataframe tbody tr th {\n",
       "        vertical-align: top;\n",
       "    }\n",
       "\n",
       "    .dataframe thead th {\n",
       "        text-align: right;\n",
       "    }\n",
       "</style>\n",
       "<table border=\"1\" class=\"dataframe\">\n",
       "  <thead>\n",
       "    <tr style=\"text-align: right;\">\n",
       "      <th></th>\n",
       "      <th>Block</th>\n",
       "      <th>Primary Type</th>\n",
       "      <th>Description</th>\n",
       "      <th>Location Description</th>\n",
       "      <th>District</th>\n",
       "      <th>Latitude</th>\n",
       "      <th>Longitude</th>\n",
       "    </tr>\n",
       "    <tr>\n",
       "      <th>Datetime</th>\n",
       "      <th></th>\n",
       "      <th></th>\n",
       "      <th></th>\n",
       "      <th></th>\n",
       "      <th></th>\n",
       "      <th></th>\n",
       "      <th></th>\n",
       "    </tr>\n",
       "  </thead>\n",
       "  <tbody>\n",
       "    <tr>\n",
       "      <th>2020-03-17 21:30:00</th>\n",
       "      <td>039XX N LECLAIRE AVE</td>\n",
       "      <td>THEFT</td>\n",
       "      <td>$500 AND UNDER</td>\n",
       "      <td>STREET</td>\n",
       "      <td>16</td>\n",
       "      <td>41.952052</td>\n",
       "      <td>-87.754660</td>\n",
       "    </tr>\n",
       "    <tr>\n",
       "      <th>2020-03-18 02:03:00</th>\n",
       "      <td>039XX W JACKSON BLVD</td>\n",
       "      <td>MOTOR VEHICLE THEFT</td>\n",
       "      <td>AUTOMOBILE</td>\n",
       "      <td>APARTMENT</td>\n",
       "      <td>11</td>\n",
       "      <td>41.877110</td>\n",
       "      <td>-87.723990</td>\n",
       "    </tr>\n",
       "    <tr>\n",
       "      <th>2020-03-18 08:50:00</th>\n",
       "      <td>023XX N KEELER AVE</td>\n",
       "      <td>ASSAULT</td>\n",
       "      <td>SIMPLE</td>\n",
       "      <td>RESIDENCE</td>\n",
       "      <td>25</td>\n",
       "      <td>41.923369</td>\n",
       "      <td>-87.731634</td>\n",
       "    </tr>\n",
       "    <tr>\n",
       "      <th>2020-03-18 13:00:00</th>\n",
       "      <td>047XX W MONROE ST</td>\n",
       "      <td>DECEPTIVE PRACTICE</td>\n",
       "      <td>CREDIT CARD FRAUD</td>\n",
       "      <td>OTHER (SPECIFY)</td>\n",
       "      <td>11</td>\n",
       "      <td>41.879264</td>\n",
       "      <td>-87.743971</td>\n",
       "    </tr>\n",
       "    <tr>\n",
       "      <th>2020-03-18 17:35:00</th>\n",
       "      <td>003XX S CICERO AVE</td>\n",
       "      <td>NARCOTICS</td>\n",
       "      <td>MANUFACTURE / DELIVER - CRACK</td>\n",
       "      <td>SIDEWALK</td>\n",
       "      <td>15</td>\n",
       "      <td>41.876128</td>\n",
       "      <td>-87.745112</td>\n",
       "    </tr>\n",
       "  </tbody>\n",
       "</table>\n",
       "</div>"
      ],
      "text/plain": [
       "                                    Block         Primary Type  \\\n",
       "Datetime                                                         \n",
       "2020-03-17 21:30:00  039XX N LECLAIRE AVE                THEFT   \n",
       "2020-03-18 02:03:00  039XX W JACKSON BLVD  MOTOR VEHICLE THEFT   \n",
       "2020-03-18 08:50:00    023XX N KEELER AVE              ASSAULT   \n",
       "2020-03-18 13:00:00     047XX W MONROE ST   DECEPTIVE PRACTICE   \n",
       "2020-03-18 17:35:00    003XX S CICERO AVE            NARCOTICS   \n",
       "\n",
       "                                       Description Location Description  \\\n",
       "Datetime                                                                  \n",
       "2020-03-17 21:30:00                 $500 AND UNDER               STREET   \n",
       "2020-03-18 02:03:00                     AUTOMOBILE            APARTMENT   \n",
       "2020-03-18 08:50:00                         SIMPLE            RESIDENCE   \n",
       "2020-03-18 13:00:00              CREDIT CARD FRAUD      OTHER (SPECIFY)   \n",
       "2020-03-18 17:35:00  MANUFACTURE / DELIVER - CRACK             SIDEWALK   \n",
       "\n",
       "                     District   Latitude  Longitude  \n",
       "Datetime                                             \n",
       "2020-03-17 21:30:00        16  41.952052 -87.754660  \n",
       "2020-03-18 02:03:00        11  41.877110 -87.723990  \n",
       "2020-03-18 08:50:00        25  41.923369 -87.731634  \n",
       "2020-03-18 13:00:00        11  41.879264 -87.743971  \n",
       "2020-03-18 17:35:00        15  41.876128 -87.745112  "
      ]
     },
     "execution_count": 8,
     "metadata": {},
     "output_type": "execute_result"
    }
   ],
   "source": [
    "# Create datetime index of times that crimes happen\n",
    "crime_data['Datetime'] = pd.to_datetime(crime_data['Date'])\n",
    "crime_data = crime_data.set_index('Datetime')\n",
    "crime_data = crime_data.drop(['Date'], axis=1)\n",
    "crime_data.head()"
   ]
  },
  {
   "cell_type": "code",
   "execution_count": 9,
   "id": "a8b13f79-b816-4711-8962-a530cc0d076d",
   "metadata": {},
   "outputs": [
    {
     "data": {
      "text/html": [
       "<div>\n",
       "<style scoped>\n",
       "    .dataframe tbody tr th:only-of-type {\n",
       "        vertical-align: middle;\n",
       "    }\n",
       "\n",
       "    .dataframe tbody tr th {\n",
       "        vertical-align: top;\n",
       "    }\n",
       "\n",
       "    .dataframe thead th {\n",
       "        text-align: right;\n",
       "    }\n",
       "</style>\n",
       "<table border=\"1\" class=\"dataframe\">\n",
       "  <thead>\n",
       "    <tr style=\"text-align: right;\">\n",
       "      <th></th>\n",
       "      <th>Block</th>\n",
       "      <th>Primary Type</th>\n",
       "      <th>Description</th>\n",
       "      <th>Location Description</th>\n",
       "      <th>District</th>\n",
       "      <th>Latitude</th>\n",
       "      <th>Longitude</th>\n",
       "    </tr>\n",
       "    <tr>\n",
       "      <th>Datetime</th>\n",
       "      <th></th>\n",
       "      <th></th>\n",
       "      <th></th>\n",
       "      <th></th>\n",
       "      <th></th>\n",
       "      <th></th>\n",
       "      <th></th>\n",
       "    </tr>\n",
       "  </thead>\n",
       "  <tbody>\n",
       "    <tr>\n",
       "      <th>2020-01-01</th>\n",
       "      <td>044XX S GREENWOOD AVE</td>\n",
       "      <td>OFFENSE INVOLVING CHILDREN</td>\n",
       "      <td>AGGRAVATED SEXUAL ASSAULT OF CHILD BY FAMILY M...</td>\n",
       "      <td>APARTMENT</td>\n",
       "      <td>2</td>\n",
       "      <td>41.814133</td>\n",
       "      <td>-87.599358</td>\n",
       "    </tr>\n",
       "    <tr>\n",
       "      <th>2020-01-01</th>\n",
       "      <td>082XX S MARYLAND AVE</td>\n",
       "      <td>BURGLARY</td>\n",
       "      <td>FORCIBLE ENTRY</td>\n",
       "      <td>RESIDENCE</td>\n",
       "      <td>6</td>\n",
       "      <td>41.745354</td>\n",
       "      <td>-87.603799</td>\n",
       "    </tr>\n",
       "    <tr>\n",
       "      <th>2020-01-01</th>\n",
       "      <td>089XX S BURLEY AVE</td>\n",
       "      <td>OFFENSE INVOLVING CHILDREN</td>\n",
       "      <td>AGGRAVATED SEXUAL ASSAULT OF CHILD BY FAMILY M...</td>\n",
       "      <td>RESIDENCE</td>\n",
       "      <td>4</td>\n",
       "      <td>41.733266</td>\n",
       "      <td>-87.545734</td>\n",
       "    </tr>\n",
       "    <tr>\n",
       "      <th>2020-01-01</th>\n",
       "      <td>063XX S DR MARTIN LUTHER KING JR DR</td>\n",
       "      <td>CRIMINAL SEXUAL ASSAULT</td>\n",
       "      <td>ATTEMPT NON-AGGRAVATED</td>\n",
       "      <td>APARTMENT</td>\n",
       "      <td>3</td>\n",
       "      <td>41.779120</td>\n",
       "      <td>-87.615599</td>\n",
       "    </tr>\n",
       "    <tr>\n",
       "      <th>2020-01-01</th>\n",
       "      <td>007XX W 61ST ST</td>\n",
       "      <td>CRIMINAL SEXUAL ASSAULT</td>\n",
       "      <td>NON-AGGRAVATED</td>\n",
       "      <td>RESIDENCE</td>\n",
       "      <td>7</td>\n",
       "      <td>41.783407</td>\n",
       "      <td>-87.643487</td>\n",
       "    </tr>\n",
       "  </tbody>\n",
       "</table>\n",
       "</div>"
      ],
      "text/plain": [
       "                                          Block                Primary Type  \\\n",
       "Datetime                                                                      \n",
       "2020-01-01                044XX S GREENWOOD AVE  OFFENSE INVOLVING CHILDREN   \n",
       "2020-01-01                 082XX S MARYLAND AVE                    BURGLARY   \n",
       "2020-01-01                   089XX S BURLEY AVE  OFFENSE INVOLVING CHILDREN   \n",
       "2020-01-01  063XX S DR MARTIN LUTHER KING JR DR     CRIMINAL SEXUAL ASSAULT   \n",
       "2020-01-01                      007XX W 61ST ST     CRIMINAL SEXUAL ASSAULT   \n",
       "\n",
       "                                                  Description  \\\n",
       "Datetime                                                        \n",
       "2020-01-01  AGGRAVATED SEXUAL ASSAULT OF CHILD BY FAMILY M...   \n",
       "2020-01-01                                     FORCIBLE ENTRY   \n",
       "2020-01-01  AGGRAVATED SEXUAL ASSAULT OF CHILD BY FAMILY M...   \n",
       "2020-01-01                             ATTEMPT NON-AGGRAVATED   \n",
       "2020-01-01                                     NON-AGGRAVATED   \n",
       "\n",
       "           Location Description  District   Latitude  Longitude  \n",
       "Datetime                                                         \n",
       "2020-01-01            APARTMENT         2  41.814133 -87.599358  \n",
       "2020-01-01            RESIDENCE         6  41.745354 -87.603799  \n",
       "2020-01-01            RESIDENCE         4  41.733266 -87.545734  \n",
       "2020-01-01            APARTMENT         3  41.779120 -87.615599  \n",
       "2020-01-01            RESIDENCE         7  41.783407 -87.643487  "
      ]
     },
     "execution_count": 9,
     "metadata": {},
     "output_type": "execute_result"
    }
   ],
   "source": [
    "# Arrange the data according to the datetime\n",
    "crime_data=crime_data.sort_index()\n",
    "crime_data.head()"
   ]
  },
  {
   "cell_type": "code",
   "execution_count": 10,
   "id": "91516cfd-8fbc-4cfd-9470-78e7bf04ef15",
   "metadata": {},
   "outputs": [
    {
     "data": {
      "image/png": "[encoded data removed]",
      "text/plain": [
       "<Figure size 864x432 with 1 Axes>"
      ]
     },
     "metadata": {
      "needs_background": "light"
     },
     "output_type": "display_data"
    }
   ],
   "source": [
    "# Chicago crimes reported by district -- number indicated Chicago police districts\n",
    "crime_data['District'].value_counts().plot.bar(figsize=(12,6))\n",
    "\n",
    "plt.ylabel('Count')\n",
    "plt.title('All crimes by District')\n",
    "plt.show()\n",
    "# 6th police district (Gresham) claims the most crime events; 20th police district (Lincoln) claims the least crime events"
   ]
  },
  {
   "cell_type": "code",
   "execution_count": 11,
   "id": "c5b4f649-d8bb-40de-8788-739f6a33479c",
   "metadata": {},
   "outputs": [
    {
     "data": {
      "text/html": [
       "<div>\n",
       "<style scoped>\n",
       "    .dataframe tbody tr th:only-of-type {\n",
       "        vertical-align: middle;\n",
       "    }\n",
       "\n",
       "    .dataframe tbody tr th {\n",
       "        vertical-align: top;\n",
       "    }\n",
       "\n",
       "    .dataframe thead th {\n",
       "        text-align: right;\n",
       "    }\n",
       "</style>\n",
       "<table border=\"1\" class=\"dataframe\">\n",
       "  <thead>\n",
       "    <tr style=\"text-align: right;\">\n",
       "      <th></th>\n",
       "      <th>Block</th>\n",
       "      <th>Primary Type</th>\n",
       "      <th>Description</th>\n",
       "      <th>Location Description</th>\n",
       "      <th>District</th>\n",
       "      <th>Latitude</th>\n",
       "      <th>Longitude</th>\n",
       "    </tr>\n",
       "    <tr>\n",
       "      <th>Datetime</th>\n",
       "      <th></th>\n",
       "      <th></th>\n",
       "      <th></th>\n",
       "      <th></th>\n",
       "      <th></th>\n",
       "      <th></th>\n",
       "      <th></th>\n",
       "    </tr>\n",
       "  </thead>\n",
       "  <tbody>\n",
       "    <tr>\n",
       "      <th>2020-01-01</th>\n",
       "      <td>044XX S GREENWOOD AVE</td>\n",
       "      <td>OFFENSE INVOLVING CHILDREN</td>\n",
       "      <td>AGGRAVATED SEXUAL ASSAULT OF CHILD BY FAMILY M...</td>\n",
       "      <td>APARTMENT</td>\n",
       "      <td>2</td>\n",
       "      <td>41.814133</td>\n",
       "      <td>-87.599358</td>\n",
       "    </tr>\n",
       "    <tr>\n",
       "      <th>2020-01-01</th>\n",
       "      <td>082XX S MARYLAND AVE</td>\n",
       "      <td>BURGLARY</td>\n",
       "      <td>FORCIBLE ENTRY</td>\n",
       "      <td>RESIDENCE</td>\n",
       "      <td>6</td>\n",
       "      <td>41.745354</td>\n",
       "      <td>-87.603799</td>\n",
       "    </tr>\n",
       "    <tr>\n",
       "      <th>2020-01-01</th>\n",
       "      <td>089XX S BURLEY AVE</td>\n",
       "      <td>OFFENSE INVOLVING CHILDREN</td>\n",
       "      <td>AGGRAVATED SEXUAL ASSAULT OF CHILD BY FAMILY M...</td>\n",
       "      <td>RESIDENCE</td>\n",
       "      <td>4</td>\n",
       "      <td>41.733266</td>\n",
       "      <td>-87.545734</td>\n",
       "    </tr>\n",
       "    <tr>\n",
       "      <th>2020-01-01</th>\n",
       "      <td>063XX S DR MARTIN LUTHER KING JR DR</td>\n",
       "      <td>CRIMINAL SEXUAL ASSAULT</td>\n",
       "      <td>ATTEMPT NON-AGGRAVATED</td>\n",
       "      <td>APARTMENT</td>\n",
       "      <td>3</td>\n",
       "      <td>41.779120</td>\n",
       "      <td>-87.615599</td>\n",
       "    </tr>\n",
       "    <tr>\n",
       "      <th>2020-01-01</th>\n",
       "      <td>007XX W 61ST ST</td>\n",
       "      <td>CRIMINAL SEXUAL ASSAULT</td>\n",
       "      <td>NON-AGGRAVATED</td>\n",
       "      <td>RESIDENCE</td>\n",
       "      <td>7</td>\n",
       "      <td>41.783407</td>\n",
       "      <td>-87.643487</td>\n",
       "    </tr>\n",
       "  </tbody>\n",
       "</table>\n",
       "</div>"
      ],
      "text/plain": [
       "                                          Block                Primary Type  \\\n",
       "Datetime                                                                      \n",
       "2020-01-01                044XX S GREENWOOD AVE  OFFENSE INVOLVING CHILDREN   \n",
       "2020-01-01                 082XX S MARYLAND AVE                    BURGLARY   \n",
       "2020-01-01                   089XX S BURLEY AVE  OFFENSE INVOLVING CHILDREN   \n",
       "2020-01-01  063XX S DR MARTIN LUTHER KING JR DR     CRIMINAL SEXUAL ASSAULT   \n",
       "2020-01-01                      007XX W 61ST ST     CRIMINAL SEXUAL ASSAULT   \n",
       "\n",
       "                                                  Description  \\\n",
       "Datetime                                                        \n",
       "2020-01-01  AGGRAVATED SEXUAL ASSAULT OF CHILD BY FAMILY M...   \n",
       "2020-01-01                                     FORCIBLE ENTRY   \n",
       "2020-01-01  AGGRAVATED SEXUAL ASSAULT OF CHILD BY FAMILY M...   \n",
       "2020-01-01                             ATTEMPT NON-AGGRAVATED   \n",
       "2020-01-01                                     NON-AGGRAVATED   \n",
       "\n",
       "           Location Description  District   Latitude  Longitude  \n",
       "Datetime                                                         \n",
       "2020-01-01            APARTMENT         2  41.814133 -87.599358  \n",
       "2020-01-01            RESIDENCE         6  41.745354 -87.603799  \n",
       "2020-01-01            RESIDENCE         4  41.733266 -87.545734  \n",
       "2020-01-01            APARTMENT         3  41.779120 -87.615599  \n",
       "2020-01-01            RESIDENCE         7  41.783407 -87.643487  "
      ]
     },
     "execution_count": 11,
     "metadata": {},
     "output_type": "execute_result"
    }
   ],
   "source": [
    "# I encounter a problem here because Chicago doesn't have a 31st district listed in its Police Department website. Also, it doesn't show many counts of crimes in this district, I will just drop rows with 31st district\n",
    "crime_data = crime_data.drop(crime_data[crime_data.District == 31].index)\n",
    "crime_data.head()"
   ]
  },
  {
   "cell_type": "code",
   "execution_count": 12,
   "id": "afcd35ce-efb7-4372-a08f-2ca8e5043488",
   "metadata": {},
   "outputs": [
    {
     "data": {
      "image/png": "[encoded data removed]",
      "text/plain": [
       "<Figure size 1008x720 with 1 Axes>"
      ]
     },
     "metadata": {
      "needs_background": "light"
     },
     "output_type": "display_data"
    }
   ],
   "source": [
    "# Plot Bar Chart visualize Crime Types\n",
    "plt.figure(figsize=(14,10))\n",
    "plt.title('Amount of Crimes by Category')\n",
    "plt.ylabel('Crime Category')\n",
    "plt.xlabel('Amount of Crimes')\n",
    "\n",
    "crime_data.groupby([crime_data['Primary Type']]).size().sort_values(ascending=True).plot(kind='barh')\n",
    "\n",
    "plt.show()\n",
    "# Theft is the most common type of criminal activity"
   ]
  },
  {
   "cell_type": "code",
   "execution_count": 13,
   "id": "90042971-557d-4d4b-9893-2e8f4588331b",
   "metadata": {},
   "outputs": [
    {
     "data": {
      "text/plain": [
       "array(['OFFENSE INVOLVING CHILDREN', 'BURGLARY',\n",
       "       'CRIMINAL SEXUAL ASSAULT', 'CRIM SEXUAL ASSAULT', 'THEFT',\n",
       "       'BATTERY', 'DECEPTIVE PRACTICE', 'SEX OFFENSE', 'CRIMINAL DAMAGE',\n",
       "       'OTHER OFFENSE', 'ASSAULT', 'WEAPONS VIOLATION', 'ROBBERY',\n",
       "       'MOTOR VEHICLE THEFT', 'NARCOTICS', 'PUBLIC PEACE VIOLATION',\n",
       "       'CRIMINAL TRESPASS', 'LIQUOR LAW VIOLATION',\n",
       "       'INTERFERENCE WITH PUBLIC OFFICER', 'KIDNAPPING',\n",
       "       'CONCEALED CARRY LICENSE VIOLATION', 'HOMICIDE', 'STALKING',\n",
       "       'ARSON', 'INTIMIDATION', 'OTHER NARCOTIC VIOLATION', 'GAMBLING',\n",
       "       'PROSTITUTION', 'OBSCENITY', 'PUBLIC INDECENCY',\n",
       "       'HUMAN TRAFFICKING', 'NON-CRIMINAL', 'RITUALISM'], dtype=object)"
      ]
     },
     "execution_count": 13,
     "metadata": {},
     "output_type": "execute_result"
    }
   ],
   "source": [
    "# Display all unique crime types\n",
    "crime_type = crime_data['Primary Type'].unique()\n",
    "crime_type"
   ]
  },
  {
   "cell_type": "code",
   "execution_count": 14,
   "id": "9b405922-f42f-43a8-9ad4-62ba1da9e1c1",
   "metadata": {},
   "outputs": [
    {
     "data": {
      "text/plain": [
       "array([ 0,  1,  2,  3,  4,  5,  6,  7,  8,  9, 10, 11, 12, 13, 14, 15, 16,\n",
       "       17, 18, 19, 20, 21, 22, 23, 24, 25, 26, 27, 28, 29, 30, 31, 32],\n",
       "      dtype=int64)"
      ]
     },
     "execution_count": 14,
     "metadata": {},
     "output_type": "execute_result"
    }
   ],
   "source": [
    "#Encode target labels into categorical variables:\n",
    "crime_data['Primary Type'] = pd.factorize(crime_data[\"Primary Type\"])[0] \n",
    "crime_data['Primary Type'].unique()"
   ]
  },
  {
   "cell_type": "code",
   "execution_count": 15,
   "id": "538928fb-0025-406a-9af7-7e0cd1068bc6",
   "metadata": {},
   "outputs": [
    {
     "data": {
      "text/html": [
       "<div>\n",
       "<style scoped>\n",
       "    .dataframe tbody tr th:only-of-type {\n",
       "        vertical-align: middle;\n",
       "    }\n",
       "\n",
       "    .dataframe tbody tr th {\n",
       "        vertical-align: top;\n",
       "    }\n",
       "\n",
       "    .dataframe thead th {\n",
       "        text-align: right;\n",
       "    }\n",
       "</style>\n",
       "<table border=\"1\" class=\"dataframe\">\n",
       "  <thead>\n",
       "    <tr style=\"text-align: right;\">\n",
       "      <th></th>\n",
       "      <th>Block</th>\n",
       "      <th>Primary Type</th>\n",
       "      <th>Description</th>\n",
       "      <th>Location Description</th>\n",
       "      <th>District</th>\n",
       "      <th>Latitude</th>\n",
       "      <th>Longitude</th>\n",
       "    </tr>\n",
       "    <tr>\n",
       "      <th>Datetime</th>\n",
       "      <th></th>\n",
       "      <th></th>\n",
       "      <th></th>\n",
       "      <th></th>\n",
       "      <th></th>\n",
       "      <th></th>\n",
       "      <th></th>\n",
       "    </tr>\n",
       "  </thead>\n",
       "  <tbody>\n",
       "    <tr>\n",
       "      <th>2020-01-01</th>\n",
       "      <td>0</td>\n",
       "      <td>0</td>\n",
       "      <td>0</td>\n",
       "      <td>0</td>\n",
       "      <td>2</td>\n",
       "      <td>41.814133</td>\n",
       "      <td>-87.599358</td>\n",
       "    </tr>\n",
       "    <tr>\n",
       "      <th>2020-01-01</th>\n",
       "      <td>1</td>\n",
       "      <td>1</td>\n",
       "      <td>1</td>\n",
       "      <td>1</td>\n",
       "      <td>6</td>\n",
       "      <td>41.745354</td>\n",
       "      <td>-87.603799</td>\n",
       "    </tr>\n",
       "    <tr>\n",
       "      <th>2020-01-01</th>\n",
       "      <td>2</td>\n",
       "      <td>0</td>\n",
       "      <td>0</td>\n",
       "      <td>1</td>\n",
       "      <td>4</td>\n",
       "      <td>41.733266</td>\n",
       "      <td>-87.545734</td>\n",
       "    </tr>\n",
       "    <tr>\n",
       "      <th>2020-01-01</th>\n",
       "      <td>3</td>\n",
       "      <td>2</td>\n",
       "      <td>2</td>\n",
       "      <td>0</td>\n",
       "      <td>3</td>\n",
       "      <td>41.779120</td>\n",
       "      <td>-87.615599</td>\n",
       "    </tr>\n",
       "    <tr>\n",
       "      <th>2020-01-01</th>\n",
       "      <td>4</td>\n",
       "      <td>2</td>\n",
       "      <td>3</td>\n",
       "      <td>1</td>\n",
       "      <td>7</td>\n",
       "      <td>41.783407</td>\n",
       "      <td>-87.643487</td>\n",
       "    </tr>\n",
       "  </tbody>\n",
       "</table>\n",
       "</div>"
      ],
      "text/plain": [
       "            Block  Primary Type  Description  Location Description  District  \\\n",
       "Datetime                                                                       \n",
       "2020-01-01      0             0            0                     0         2   \n",
       "2020-01-01      1             1            1                     1         6   \n",
       "2020-01-01      2             0            0                     1         4   \n",
       "2020-01-01      3             2            2                     0         3   \n",
       "2020-01-01      4             2            3                     1         7   \n",
       "\n",
       "             Latitude  Longitude  \n",
       "Datetime                          \n",
       "2020-01-01  41.814133 -87.599358  \n",
       "2020-01-01  41.745354 -87.603799  \n",
       "2020-01-01  41.733266 -87.545734  \n",
       "2020-01-01  41.779120 -87.615599  \n",
       "2020-01-01  41.783407 -87.643487  "
      ]
     },
     "execution_count": 15,
     "metadata": {},
     "output_type": "execute_result"
    }
   ],
   "source": [
    "# Convert Categorical Attributes to Numerical\n",
    "crime_data['Block'] = pd.factorize(crime_data[\"Block\"])[0]\n",
    "crime_data['Location Description'] = pd.factorize(crime_data[\"Location Description\"])[0]\n",
    "crime_data['Description'] = pd.factorize(crime_data[\"Description\"])[0]\n",
    "crime_data.head(5)"
   ]
  },
  {
   "cell_type": "code",
   "execution_count": 16,
   "id": "e4d169cd-6edd-42b5-8a05-548225f6c051",
   "metadata": {},
   "outputs": [
    {
     "data": {
      "text/plain": [
       "Primary Type            1.000000\n",
       "Description             0.381244\n",
       "Location Description    0.012438\n",
       "District                0.047620\n",
       "Latitude                0.058798\n",
       "Longitude               0.019512\n",
       "Name: Primary Type, dtype: float64"
      ]
     },
     "execution_count": 16,
     "metadata": {},
     "output_type": "execute_result"
    }
   ],
   "source": [
    "#Correlation with output variable\n",
    "cor = crime_data.corr()\n",
    "cor_target = abs(cor['Primary Type'])\n",
    "#Select highly correlated features\n",
    "relevant_features = cor_target[cor_target>0.01]\n",
    "relevant_features\n",
    "# Besides the description of crime activities, we find that the location (including location type, district, detailed spot) is highly correlated with crime behaviors."
   ]
  },
  {
   "cell_type": "code",
   "execution_count": 17,
   "id": "947ed5c3-ad51-42a2-850e-cc76f6c1b4a9",
   "metadata": {},
   "outputs": [
    {
     "data": {
      "text/plain": [
       "Location Description                    Location Description                  \n",
       "STREET                                  STREET                                    26.139331\n",
       "APARTMENT                               APARTMENT                                 19.176135\n",
       "RESIDENCE                               RESIDENCE                                 15.434258\n",
       "SIDEWALK                                SIDEWALK                                   5.814308\n",
       "PARKING LOT / GARAGE (NON RESIDENTIAL)  PARKING LOT / GARAGE (NON RESIDENTIAL)     3.099091\n",
       "                                                                                    ...    \n",
       "PUBLIC GRAMMAR SCHOOL                   PUBLIC GRAMMAR SCHOOL                      0.000161\n",
       "RIVER BANK                              RIVER BANK                                 0.000161\n",
       "RAILROAD PROPERTY                       RAILROAD PROPERTY                          0.000161\n",
       "CHA LOBBY                               CHA LOBBY                                  0.000161\n",
       "TAVERN                                  TAVERN                                     0.000161\n",
       "Name: Location Description, Length: 176, dtype: float64"
      ]
     },
     "execution_count": 17,
     "metadata": {},
     "output_type": "execute_result"
    }
   ],
   "source": [
    "# Let's have a look at the second-highest feature \"Location Type\"\n",
    "locationgb=crimes.groupby(['Location Description'])['Location Description'].value_counts()/len(crimes)*100\n",
    "locationgb.sort_values(ascending=False, inplace=True)\n",
    "locationgb\n",
    "# The probability that the crime happened on the street is the highest."
   ]
  },
  {
   "cell_type": "code",
   "execution_count": 18,
   "id": "ede3ac9e-753a-4f52-b7cf-b22d2dc7b025",
   "metadata": {},
   "outputs": [
    {
     "data": {
      "text/plain": [
       "Text(0, 0.5, 'Occurrence rate (%)')"
      ]
     },
     "execution_count": 18,
     "metadata": {},
     "output_type": "execute_result"
    },
    {
     "data": {
      "image/png": "[encoded data removed]",
      "text/plain": [
       "<Figure size 432x288 with 1 Axes>"
      ]
     },
     "metadata": {
      "needs_background": "light"
     },
     "output_type": "display_data"
    }
   ],
   "source": [
    "# Let's find out the relationship between crime behaviors and different time periods in a day\n",
    "from datetime import datetime\n",
    "format = '%m/%d/%Y %I:%M:%S %p'\n",
    "crimes[\"time_hour\"]=crimes.Date.apply(lambda row: datetime.strptime(row, format).strftime(\"%H\"))\n",
    "timegb=crimes.groupby(['time_hour'])[\"time_hour\"].count()/len(crimes)*100\n",
    "timegb.plot(kind='bar',title=\"Hour Crime occurred\", color = 'red')\n",
    "plt.ylabel('Occurrence rate (%)')\n",
    "# We can see that the crime is concentrated mostly at noon, afternoon and midnight 12. Early morning crimes are relatively less likely to occur."
   ]
  },
  {
   "cell_type": "code",
   "execution_count": 19,
   "id": "8df4aa87-0035-417c-853b-3309da6483ef",
   "metadata": {},
   "outputs": [
    {
     "data": {
      "text/plain": [
       "Text(0, 0.5, 'Occurrence rate (%)')"
      ]
     },
     "execution_count": 19,
     "metadata": {},
     "output_type": "execute_result"
    },
    {
     "data": {
      "image/png": "[encoded data removed]",
      "text/plain": [
       "<Figure size 432x288 with 1 Axes>"
      ]
     },
     "metadata": {
      "needs_background": "light"
     },
     "output_type": "display_data"
    }
   ],
   "source": [
    "# I also want to check the relationship between crimes happening and the day in a week\n",
    "crimes[\"Weekday\"]=crimes.Date.apply(lambda row: datetime.strptime(row, format).strftime(\"%A\"))\n",
    "crimes=pd.get_dummies(crimes,columns=[\"Weekday\"])\n",
    "weekday=crimes[[\"Weekday_Monday\",\"Weekday_Tuesday\",\"Weekday_Wednesday\",\"Weekday_Thursday\",\"Weekday_Friday\",\"Weekday_Saturday\",\"Weekday_Sunday\"]].sum()/len(crimes)*100\n",
    "\n",
    "weekday.plot(kind='bar',title=\"Day Crime occurred\",color='red')\n",
    "plt.ylabel('Occurrence rate (%)')\n",
    "# The plot returns similar results for each day in a week, which means we don't really need to care week day difference when predicting"
   ]
  },
  {
   "cell_type": "code",
   "execution_count": 20,
   "id": "04ce7dab-d837-441f-ac30-eb983e3075fe",
   "metadata": {},
   "outputs": [
    {
     "data": {
      "text/plain": [
       "Text(0, 0.5, 'Occurrence rate (%)')"
      ]
     },
     "execution_count": 20,
     "metadata": {},
     "output_type": "execute_result"
    },
    {
     "data": {
      "image/png": "[encoded data removed]",
      "text/plain": [
       "<Figure size 432x288 with 1 Axes>"
      ]
     },
     "metadata": {
      "needs_background": "light"
     },
     "output_type": "display_data"
    }
   ],
   "source": [
    "# Show crime occurence rate in different months\n",
    "crimes[\"month\"]=crimes.Date.apply(lambda row: datetime.strptime(row, format).strftime(\"%m\"))\n",
    "month_group=crimes.groupby(['month'])['month'].count()/len(crimes)*100\n",
    "month_group.plot(kind='bar',title=\"Month Crime occurred\")\n",
    "plt.ylabel('Occurrence rate (%)')\n",
    "# We can see a crime rates sharp drop in December, which hopefully will also show in the prediction results."
   ]
  },
  {
   "cell_type": "markdown",
   "id": "faebce08-bfb8-41cb-b904-7c18a3e23c19",
   "metadata": {},
   "source": [
    "First, I want to predict Chicago crime severity"
   ]
  },
  {
   "cell_type": "code",
   "execution_count": 21,
   "id": "b3b1e0a1-976d-4f12-a7ba-d97753ed4387",
   "metadata": {},
   "outputs": [
    {
     "data": {
      "text/html": [
       "<div>\n",
       "<style scoped>\n",
       "    .dataframe tbody tr th:only-of-type {\n",
       "        vertical-align: middle;\n",
       "    }\n",
       "\n",
       "    .dataframe tbody tr th {\n",
       "        vertical-align: top;\n",
       "    }\n",
       "\n",
       "    .dataframe thead th {\n",
       "        text-align: right;\n",
       "    }\n",
       "</style>\n",
       "<table border=\"1\" class=\"dataframe\">\n",
       "  <thead>\n",
       "    <tr style=\"text-align: right;\">\n",
       "      <th></th>\n",
       "      <th>Date</th>\n",
       "      <th>Block</th>\n",
       "      <th>Primary Type</th>\n",
       "      <th>Description</th>\n",
       "      <th>Location Description</th>\n",
       "      <th>District</th>\n",
       "      <th>Latitude</th>\n",
       "      <th>Longitude</th>\n",
       "      <th>time_hour</th>\n",
       "      <th>Weekday_Friday</th>\n",
       "      <th>Weekday_Monday</th>\n",
       "      <th>Weekday_Saturday</th>\n",
       "      <th>Weekday_Sunday</th>\n",
       "      <th>Weekday_Thursday</th>\n",
       "      <th>Weekday_Tuesday</th>\n",
       "      <th>Weekday_Wednesday</th>\n",
       "      <th>month</th>\n",
       "      <th>severe</th>\n",
       "    </tr>\n",
       "  </thead>\n",
       "  <tbody>\n",
       "    <tr>\n",
       "      <th>0</th>\n",
       "      <td>03/17/2020 09:30:00 PM</td>\n",
       "      <td>039XX N LECLAIRE AVE</td>\n",
       "      <td>THEFT</td>\n",
       "      <td>$500 AND UNDER</td>\n",
       "      <td>STREET</td>\n",
       "      <td>16</td>\n",
       "      <td>41.952052</td>\n",
       "      <td>-87.754660</td>\n",
       "      <td>21</td>\n",
       "      <td>0</td>\n",
       "      <td>0</td>\n",
       "      <td>0</td>\n",
       "      <td>0</td>\n",
       "      <td>0</td>\n",
       "      <td>1</td>\n",
       "      <td>0</td>\n",
       "      <td>03</td>\n",
       "      <td>0</td>\n",
       "    </tr>\n",
       "    <tr>\n",
       "      <th>1</th>\n",
       "      <td>03/18/2020 02:03:00 AM</td>\n",
       "      <td>039XX W JACKSON BLVD</td>\n",
       "      <td>MOTOR VEHICLE THEFT</td>\n",
       "      <td>AUTOMOBILE</td>\n",
       "      <td>APARTMENT</td>\n",
       "      <td>11</td>\n",
       "      <td>41.877110</td>\n",
       "      <td>-87.723990</td>\n",
       "      <td>02</td>\n",
       "      <td>0</td>\n",
       "      <td>0</td>\n",
       "      <td>0</td>\n",
       "      <td>0</td>\n",
       "      <td>0</td>\n",
       "      <td>0</td>\n",
       "      <td>1</td>\n",
       "      <td>03</td>\n",
       "      <td>0</td>\n",
       "    </tr>\n",
       "    <tr>\n",
       "      <th>2</th>\n",
       "      <td>03/18/2020 08:50:00 AM</td>\n",
       "      <td>023XX N KEELER AVE</td>\n",
       "      <td>ASSAULT</td>\n",
       "      <td>SIMPLE</td>\n",
       "      <td>RESIDENCE</td>\n",
       "      <td>25</td>\n",
       "      <td>41.923369</td>\n",
       "      <td>-87.731634</td>\n",
       "      <td>08</td>\n",
       "      <td>0</td>\n",
       "      <td>0</td>\n",
       "      <td>0</td>\n",
       "      <td>0</td>\n",
       "      <td>0</td>\n",
       "      <td>0</td>\n",
       "      <td>1</td>\n",
       "      <td>03</td>\n",
       "      <td>1</td>\n",
       "    </tr>\n",
       "    <tr>\n",
       "      <th>3</th>\n",
       "      <td>03/18/2020 01:00:00 PM</td>\n",
       "      <td>047XX W MONROE ST</td>\n",
       "      <td>DECEPTIVE PRACTICE</td>\n",
       "      <td>CREDIT CARD FRAUD</td>\n",
       "      <td>OTHER (SPECIFY)</td>\n",
       "      <td>11</td>\n",
       "      <td>41.879264</td>\n",
       "      <td>-87.743971</td>\n",
       "      <td>13</td>\n",
       "      <td>0</td>\n",
       "      <td>0</td>\n",
       "      <td>0</td>\n",
       "      <td>0</td>\n",
       "      <td>0</td>\n",
       "      <td>0</td>\n",
       "      <td>1</td>\n",
       "      <td>03</td>\n",
       "      <td>0</td>\n",
       "    </tr>\n",
       "    <tr>\n",
       "      <th>4</th>\n",
       "      <td>03/18/2020 05:35:00 PM</td>\n",
       "      <td>003XX S CICERO AVE</td>\n",
       "      <td>NARCOTICS</td>\n",
       "      <td>MANUFACTURE / DELIVER - CRACK</td>\n",
       "      <td>SIDEWALK</td>\n",
       "      <td>15</td>\n",
       "      <td>41.876128</td>\n",
       "      <td>-87.745112</td>\n",
       "      <td>17</td>\n",
       "      <td>0</td>\n",
       "      <td>0</td>\n",
       "      <td>0</td>\n",
       "      <td>0</td>\n",
       "      <td>0</td>\n",
       "      <td>0</td>\n",
       "      <td>1</td>\n",
       "      <td>03</td>\n",
       "      <td>0</td>\n",
       "    </tr>\n",
       "  </tbody>\n",
       "</table>\n",
       "</div>"
      ],
      "text/plain": [
       "                     Date                 Block         Primary Type  \\\n",
       "0  03/17/2020 09:30:00 PM  039XX N LECLAIRE AVE                THEFT   \n",
       "1  03/18/2020 02:03:00 AM  039XX W JACKSON BLVD  MOTOR VEHICLE THEFT   \n",
       "2  03/18/2020 08:50:00 AM    023XX N KEELER AVE              ASSAULT   \n",
       "3  03/18/2020 01:00:00 PM     047XX W MONROE ST   DECEPTIVE PRACTICE   \n",
       "4  03/18/2020 05:35:00 PM    003XX S CICERO AVE            NARCOTICS   \n",
       "\n",
       "                     Description Location Description  District   Latitude  \\\n",
       "0                 $500 AND UNDER               STREET        16  41.952052   \n",
       "1                     AUTOMOBILE            APARTMENT        11  41.877110   \n",
       "2                         SIMPLE            RESIDENCE        25  41.923369   \n",
       "3              CREDIT CARD FRAUD      OTHER (SPECIFY)        11  41.879264   \n",
       "4  MANUFACTURE / DELIVER - CRACK             SIDEWALK        15  41.876128   \n",
       "\n",
       "   Longitude time_hour  Weekday_Friday  Weekday_Monday  Weekday_Saturday  \\\n",
       "0 -87.754660        21               0               0                 0   \n",
       "1 -87.723990        02               0               0                 0   \n",
       "2 -87.731634        08               0               0                 0   \n",
       "3 -87.743971        13               0               0                 0   \n",
       "4 -87.745112        17               0               0                 0   \n",
       "\n",
       "   Weekday_Sunday  Weekday_Thursday  Weekday_Tuesday  Weekday_Wednesday month  \\\n",
       "0               0                 0                1                  0    03   \n",
       "1               0                 0                0                  1    03   \n",
       "2               0                 0                0                  1    03   \n",
       "3               0                 0                0                  1    03   \n",
       "4               0                 0                0                  1    03   \n",
       "\n",
       "   severe  \n",
       "0       0  \n",
       "1       0  \n",
       "2       1  \n",
       "3       0  \n",
       "4       0  "
      ]
     },
     "execution_count": 21,
     "metadata": {},
     "output_type": "execute_result"
    }
   ],
   "source": [
    "# Create target variable. Crime type is divided into multiple categories according to FBI.\n",
    "# Violent crimes: arson, assault, battery, homicide, robbery, crim sexual assault, criminal damage, criminal trespass.\n",
    "# Creating a binary target(IndexCrime) if the record is a violent crime or not.\n",
    "crimes0=crimes.copy()\n",
    "severe_crime_list=[\"ARSON\", \"ASSAULT\", \"BATTERY\", \"CRIM SEXUAL ASSAULT\", \"CRIMINAL DAMAGE\", \"CRIMINAL TRESPASS\", \"HOMICIDE\", \"ROBBERY\"]\n",
    "crimes0[\"severe\"]=np.where(crimes0['Primary Type'].isin(severe_crime_list), 1, 0)\n",
    "crimes0.head(5)"
   ]
  },
  {
   "cell_type": "code",
   "execution_count": 22,
   "id": "def0fa2c-e96e-4f77-9962-55799fb4d4cf",
   "metadata": {},
   "outputs": [
    {
     "name": "stdout",
     "output_type": "stream",
     "text": [
      "0.46601520714678074 0.5339847928532192\n"
     ]
    }
   ],
   "source": [
    "pos=crimes[crimes0['severe']==1]\n",
    "neg=crimes[crimes0['severe']==0]\n",
    "percent_severe=float(len(pos))/len(crimes)\n",
    "percent_non_severe=float(len(neg))/len(crimes)\n",
    "print (percent_severe, percent_non_severe)"
   ]
  },
  {
   "cell_type": "code",
   "execution_count": 23,
   "id": "1d1c0045-b000-4095-aa03-68f21e1aced2",
   "metadata": {},
   "outputs": [],
   "source": [
    "from sklearn.model_selection import train_test_split\n",
    "X=crimes0.drop('severe',axis=1).drop('Date',axis=1)\n",
    "y=crimes0['severe']\n",
    "X_train, X_test, y_train, y_test = train_test_split(X, y, random_state = 22, train_size=0.7)"
   ]
  },
  {
   "cell_type": "code",
   "execution_count": 26,
   "id": "72b7f3d7-0ad6-4303-b0c5-1eae39a5c2cd",
   "metadata": {},
   "outputs": [],
   "source": [
    "train,test = train_test_split(range(crimes0.shape[0]), train_size=0.7)\n",
    "mask=np.ones(crimes0.shape[0], dtype='int')\n",
    "mask[train]=1\n",
    "mask[test]=0\n",
    "mask=(mask==1)"
   ]
  },
  {
   "cell_type": "code",
   "execution_count": 27,
   "id": "b573eeb7-449c-48e3-aa3a-1fe2dc53b60b",
   "metadata": {},
   "outputs": [
    {
     "name": "stdout",
     "output_type": "stream",
     "text": [
      "0.5334506597892255 0.5352310995229708\n"
     ]
    }
   ],
   "source": [
    "#Let's make a dictionary storing confusion matrix for all the algorithms, so that we can have some comparison\n",
    "confusion_dict={}\n",
    "confusion_dict[\"Baseline_model\"]=np.asarray([[len(neg),0],[len(pos),0]])\n",
    "#Also create a dictionary to store all the models\n",
    "model_dict={}\n",
    "#The following dict will store the accuracy for training set\n",
    "accuracy_dict={}\n",
    "#The following dict will store the accuracy for test set\n",
    "accuracy_dict1={}\n",
    "train_not_severe_percent=1-float(sum(crimes0[\"severe\"].values[mask]))/len(crimes0[\"severe\"].values[mask])\n",
    "test_not_severe_percent=1-float(sum(crimes0[\"severe\"].values[~mask]))/len(crimes0[\"severe\"].values[~mask])\n",
    "print (train_not_severe_percent, test_not_severe_percent) \n",
    "accuracy_dict[\"Baseline_model\"]=train_not_severe_percent\n",
    "accuracy_dict1[\"Baseline_model\"]=test_not_severe_percent"
   ]
  },
  {
   "cell_type": "code",
   "execution_count": 28,
   "id": "af7a66fc-dd76-4493-9ffe-e77653aaaeaf",
   "metadata": {},
   "outputs": [],
   "source": [
    "from sklearn.compose import make_column_transformer \n",
    "from sklearn.preprocessing import OneHotEncoder\n",
    "encoder = make_column_transformer((OneHotEncoder(), [ 'Block','Primary Type','Description','Location Description']),\n",
    "                                  remainder = 'passthrough',\n",
    "                                  verbose_feature_names_out=False)"
   ]
  },
  {
   "cell_type": "code",
   "execution_count": 29,
   "id": "47e9efa9-15ab-4844-8cf7-1bb3d7b54709",
   "metadata": {},
   "outputs": [],
   "source": [
    "from sklearn.pipeline import Pipeline\n",
    "from sklearn.ensemble import RandomForestClassifier\n",
    "forest_pipe = Pipeline([('preprocess', encoder), \n",
    "                       ('model', RandomForestClassifier(max_depth = 2))])"
   ]
  },
  {
   "cell_type": "code",
   "execution_count": 31,
   "id": "98a87b2e-f2cd-439e-95bd-ba3a88df16a8",
   "metadata": {
    "collapsed": true,
    "jupyter": {
     "outputs_hidden": true
    },
    "tags": []
   },
   "outputs": [
    {
     "name": "stdout",
     "output_type": "stream",
     "text": [
      "0.5336319268690586\n"
     ]
    },
    {
     "ename": "ValueError",
     "evalue": "Found unknown categories ['010XX S Claremont AVE', '054XX S Woodlawn ave', '021XX W Concord Pl', '046XX N Beacon St', '057XX N OSAGE AVE', '032XX N Hoyne Ave', '006XX W 21ST ST', '014XX W 116TH ST', '012XX W Waveland Ave', '027XX N Clark ST', '040XX W Lake st', '049XX N kimball ave', '050XX S Lavergne Ave', '103XX S Commercial Ave', '051XX S Kimbark ave', '010XX N Winchester Ave', '102XX S TALMAN AVE', '070XX N HAMILTON AVE', '004XX N MARSHFIELD AVE', '031XX N Octavia Ave', '001XX W RIVERWALK S', '017XX N LAKE SHORE DR NB', '036XX N PANAMA AVE', '039XX W 110TH ST', '000XX E 121ST PL', '078XX W CORNELIA AVE', '009XX W Wrightwood Ave', '063XX N Kenmore Ave', '062XX S HAMILTON AVE', '028XX S LA SALLE ST', '022XX S LAKE SHORE DR E', '015XX W 109TH ST', '092XX S Blackstone Ave', '129XX S STONY ISLAND AVE', '021XX W SCHOOL ST', '027XX W DAKIN ST', '025XX W HOLLYWOOD AVE', '022XX N LAKE SHORE DR SB', '018XX N Natchez ave', '029XX S CALIFORNIA BLVD', '035XX W ALTGELD ST', '005XX S CONGRESS PLAZA DR', '057XX W WABANSIA AVE', '036XX W Leland Ave', '107XX S LONGWOOD DR', '037XX N LAKE SHORE DR SB', '012XX W EISENHOWER EXPY OB', '040XX E 107TH ST', '074XX S ST LOUIS AVE', '021XX N LAKE SHORE DR NB', '023XX W Arthur Ave', '040XX S WELLS ST', '018XX S Michigan Ave', '007XX W 46TH PL', '047XX N Sheridan Rd', '130XX S BISHOP FORD EXPY IB', '029XX W REDFIELD DR', '011XX N Cleveland Ave', '074XX W CORNELIA AVE', '050XX N Lincoln Ave', '002XX E 77th St', '033XX W Schubert Ave', '013XX W BLACKHAWK ST', '070XX N Greenview Ave', '057XX S BELL AVE', '037XX W Wrightwood Ave', '003XX W Chestnut St', '011XX E 59TH ST', '044XX W THORNDALE AVE', '017XX W 37TH ST', '017XX W 106TH ST', '025XX E 108TH ST', '045XX W CARROLL AVE', '0000X S Ashland ave', '013XX W 105TH PL', '004XX E Ohio St', '029XX E 132ND ST', '102XX S Oakley Ave', '073XX N OLEANDER AVE', '054XX S CORNELL ave', '036XX W 115TH PL', '011XX W Chestnut St', '043XX W 50TH ST', '029XX N Commonwealth Ave', '080XX S WALLACE ST', '069XX N Clark St', '037XX E 110TH ST', '031XX S WOLCOTT AVE', '0000X E IDA B WELLS DR', '004XX E Oakwood Blvd', '110XX S DOTY AVE E', '068XX S BENNETT AVE', '114XX S BELL AVE', '026XX W 31ST ST', '077XX W PETERSON AVE', '010XX W Oakdale ave', '047XX N Ravenswood ave', '043XX W NORWOOD AVE', '104XX S SEELEY AVE', '038XX W 48TH ST', '044XX W 82ND ST', '027XX W ADDISON ST', '033XX N Lincoln Ave', '041XX N PAULINA ST', '003XX S SPAULDING AVE', '017XX E 55th St', '031XX S EBERHART AVE', '045XX N Winchester Ave', '113XX S SPAULDING AVE', '030XX N Clark St', '026XX N Washtenaw Ave', '009XX S LA SALLE ST', '056XX W BELLE PLAINE AVE', '054XX N FRANCISCO AVE', '055XX N LOWELL AVE', '100XX S RACINE AVE', '007XX W CONCORD PL', '029XX W BURKHARDT DR', '005XX E WACKER DR', '044XX S MORGAN ST', '041XX N Campbell Ave', '0000X S LOWER WACKER DR', '012XX W GLADYS AVE', '018XX W Cuyler Ave', '028XX W 54TH ST', '016XX W Fullerton Ave', '017XX W Rascher Ave', '083XX S DAN RYAN EXPY OB', '069XX S HOLLETT DR', '001XX E 134TH ST', '031XX W 46TH ST', '071XX N CALDWELL AVE', '016XX E 84th St', '026XX N Greenview Ave', '054XX W GALE ST', '030XX N Sheridan Rd', '021XX W Grand Ave', '042XX W VICTORIA ST', '018XX N Monticello Ave', '042XX W 25TH PL', '031XX W Irving Park RD', '009XX N Ashland Ave', '015XX W BERTEAU AVE', '061XX S Western Ave', '046XX W WALTON ST', '013XX W 37TH ST', '009XX W Belmont Ave', '052XX W Addison St', '010XX W 99TH ST', '008XX E 99TH ST', '034XX E 103RD ST', '008XX N ALBANY AVE', '072XX W CORNELIA AVE', '014XX W Grand Ave', '026XX N Lakeview Ave', '006XX W Hubbard St', '026XX W FRANCIS PL', '007XX W Fulton Market', '084XX S ANTHONY AVE', '014XX W touhy ave', '004XX W 73RD ST', '060XX W Lawrence Ave', '028XX N LAKE SHORE DR NB', '024XX S LAKE SHORE DR W', '063XX S LAWLER AVE', '039XX N Ashland Ave', '080XX W BERWYN AVE', '014XX W Balmoral Ave', '002XX E 15TH PL', '050XX N CUMBERLAND AVE', '015XX S Albany Ave', '008XX S wells st', '031XX N Karlov Ave', '0000X W 33RD ST', '095XX S HAMILTON AVE', '088XX S KINGSTON AVE', '013XX W Argyle St', '035XX S DR MARTIN LUTHER KING JR SD', '017XX S KOSTNER AVE', '026XX E 122ND ST', '035XX N Racine Ave', '063XX S DAN RYAN LOCAL IB', '121XX S AVENUE O', '053XX S KARLOV AVE', '053XX W HUTCHINSON ST', '019XX N LEAMINGTON AVE', '034XX N SAYRE AVE', '132XX S DOTY AVE W', '066XX S CENTRAL PARK AVE', '026XX E 82ND ST', '009XX E 111TH ST', '055XX W ROOSEVELT RD', '007XX E MIDWAY PLAISANCE', '007XX W Cornelia Ave', '019XX N Lincoln ave', '031XX N Wolcott Ave', '008XX W 110TH ST', '037XX S MAY ST', '063XX N IONIA AVE', '051XX S MEADE AVE', '087XX S GREENWOOD AVE', '013XX W PERSHING RD', '038XX N Hoyne Ave', '063XX N MERRIMAC AVE', '007XX W 128TH PL', '057XX N LEONARD AVE', '079XX S HAMLIN AVE', '012XX E 70TH ST', '058XX S KILPATRICK AVE', '111XX S CHURCH ST', '028XX W MANN DR', '111XX S LOTHAIR AVE', '029XX S AVERS AVE', '011XX E 60TH ST', '020XX N LAKE SHORE DR SB', '067XX S HOYNE AVE', '005XX S PAULINA ST', '005XX E 108TH ST', '060XX N KEDZIE AVE', '007XX E 61st St', '037XX W 114TH ST', '001XX N State ST', '057XX N Ashland Ave', '069XX N sheridan rd', '075XX W CHASE AVE', '051XX N Damen Ave', '004XX E 18th dr', '003XX E WACKER SUB DR', '101XX S TALMAN AVE', '004XX S DESPLAINES ST', '0000X E Grand Ave', '029XX W Balmoral Ave', '029XX N SAYRE AVE', '002XX W OAK ST', '012XX W 37TH ST', '073XX N KEDZIE AVE', '058XX S Maryland Ave', '065XX S Ellis Ave', '007XX W 14th St', '057XX S KARLOV AVE', '026XX W Belden Ave', '004XX N Artesian Ave', '072XX W NORTH SHORE AVE', '049XX N NORMANDY AVE', '042XX W 48TH ST', '057XX S COLUMBIA DR', '079XX W IRVING PARK RD', '002XX E 85TH ST', '056XX W Division St', '026XX W 13TH PL', '018XX N Bissell St', '008XX W 64TH ST', '056XX N OSCEOLA AVE', '017XX W Belmont Ave', '011XX E 132ND ST', '061XX N BERNARD ST', '027XX N Wilton Ave', '039XX N NEENAH AVE', '012XX E 48TH ST', '038XX W 109TH PL', '023XX W 33RD ST', '073XX N MC VICKER AVE', '027XX E 82ND ST', '011XX N RUSH ST', '001XX W 96TH ST', '011XX W George St', '025XX W 119TH ST', '004XX W 93RD ST', '089XX S PRAIRIE AVE', '031XX N PAULINA ST', '046XX W 46TH ST', '105XX S DREW ST', '033XX N Seminary Ave', '006XX W Wayman St', '036XX W BARRY AVE', '038XX N Fremont St', '009XX N Leavitt St', '051XX W 49TH ST', '070XX W DEVON AVE', '028XX W SUNNYSIDE AVE', '025XX W addison st', '132XX S Carondolet Ave', '134XX S DR MARTIN LUTHER KING JR DR', '015XX N LUIS MUNOZ MARIN DR E', '044XX W ANN LURIE PL', '021XX N Elston Ave', '059XX S MC VICKER AVE', '003XX W 46TH PL', '016XX E MIDWAY PLAISANCE', '020XX W LAKE ST', '007XX S Campbell Ave', '047XX W 49TH ST', '008XX N Clark St', '024XX W Foster Ave', '027XX W Giddings St', '024XX S STEWART AVE', '077XX W ROSCOE ST', '076XX S Coles ave', '062XX N FOREST GLEN AVE', '008XX W Erie st', '077XX W DEVON AVE', '054XX S MILLARD AVE', '060XX N Sheridan Rd', '008XX S ADA ST', '013XX W Fulton ST', '037XX W 72ND ST', '055XX S Keeler Ave', '048XX N Talman Ave', '020XX E 94TH ST', '059XX N CALDWELL AVE', '051XX N LARAMIE AVE', '047XX N Kedvale Ave', '024XX N Kedzie Blvd', '079XX S OAKLEY AVE', '070XX S CENTRAL PARK AVE', '002XX W 27TH ST', '043XX N KILPATRICK AVE', '017XX W Highland Ave', '042XX S KEELER AVE', '007XX W Maxwell St', '068XX W 53RD ST', '0000X S WASHTENAW AVE', '020XX S PEORIA ST', '036XX S WESTERN BLVD', '003XX E 101ST ST', '066XX W BERWYN AVE', '005XX W 77TH ST', '007XX W 126TH ST', '019XX W 119TH ST', '083XX S KOMENSKY AVE', '066XX N OLYMPIA AVE', '001XX E 98TH ST', '034XX W 31ST ST', '007XX E MORGAN DR', '025XX S LOOMIS ST', '008XX N Rush St', '031XX W Grand Ave', '024XX W 102ND ST', '065XX N ridge blvd', '003XX W 125TH ST', '001XX E 102ND ST', '010XX W Polk st', '094XX S GREENWOOD AVE', '017XX S DAMEN AVE', '033XX S FEDERAL ST', '011XX E 76TH ST', '005XX W 63RD PL', '060XX N Winthrop Ave', '003XX E 100TH ST', '029XX W JARLATH ST', '074XX S GREENWOOD AVE', '107XX S HOYNE AVE', '059XX S DAN RYAN LOCAL OB', '063XX N KNOX AVE', '032XX W 110TH ST', '022XX W 112TH ST', '017XX W NEWPORT AVE', '057XX N Elston Ave', '053XX S MELVINA AVE', '057XX N KERCHEVAL AVE', '084XX W LAWRENCE AVE', '133XX S AVENUE L', '020XX W Pierce Ave', '005XX S LEAVITT ST', '028XX W Sunnyside Ave', '068XX S HOLLETT DR', '012XX E 49TH ST', '012XX E 81ST ST', '057XX S MERRIMAC AVE', '065XX N ALGONQUIN AVE', '030XX W 104TH ST', '067XX W WRIGHTWOOD AVE', '030XX N hamilton ave', '033XX N MEADE AVE', '048XX N MARMORA AVE', '037XX W 51ST ST', '045XX W PETERSON AVE', '071XX W FOREST PRESERVE AVE', '048XX N NAGLE AVE', '042XX N AVERS AVE', '031XX W 108TH ST', '0000X W Chestnut St', '006XX N Wolcott Ave', '090XX S HOLLAND RD', '072XX W BRYN MAWR AVE', '026XX W Chicago Ave', '0000X E Adams St', '067XX N FAIRFIELD AVE', '008XX W Windsor Ave', '029XX N Dawson Ave', '062XX N Nagle Ave', '057XX S PERRY AVE', '007XX W COURT PL', '042XX S WHIPPLE ST', '085XX S Lafayette Ave', '043XX W BERWYN AVE', '064XX N Albany Ave', '062XX S CENTRAL PARK AVE', '084XX S WHIPPLE ST', '012XX W Hubbard St', '008XX W WISCONSIN ST', '062XX S NEENAH AVE', '043XX W WELLINGTON AVE', '025XX W 72ND ST', '045XX W WILSON AVE', '056XX W 60TH ST', '0000X E Monroe St', '060XX W CORNELIA AVE', '0000X E Scott St', '004XX W 46TH PL', '054XX N Campbell Ave', '005XX W Dickens Ave', '050XX W BERWYN AVE', '008XX S LARAMIE AVE', '034XX N DRAKE AVE', '076XX W CORNELIA AVE', '050XX S LEAVITT ST', '053XX S Greenwood Ave', '098XX S Avenue J', '089XX S OAKLEY AVE', '064XX S SPAULDING AVE', '053XX W Argyle St', '013XX W Wilson Ave', '056XX S Narragansett Ave', '047XX W WALTON ST', '019XX W WASHBURNE AVE', '027XX W Augusta Blvd', '0000X N WOLCOTT AVE', '045XX S Vincennes Ave', '013XX E 55TH PL', '077XX W FARGO AVE', '034XX N Marshfield Ave', '017XX W AINSLIE ST', '047XX S KENWOOD AVE', '043XX W 57TH ST', '007XX S Plymouth Ct', '114XX S LAWNDALE AVE', '061XX S Greenwood Ave', '040XX S NORMAL AVE', '083XX S KOLMAR AVE', '035XX W cortland st', '005XX S FRANKLIN ST', '093XX S HAMILTON AVE', '016XX W Division St', '010XX S Clinton St', '033XX E 133RD ST', '116XX S ST LOUIS AVE', '042XX S LAKE SHORE DR SB', '019XX W irving park rd', '005XX W 109TH ST', '078XX W GLENLAKE AVE', '064XX S Kimbark Ave', '0000X E 98TH ST', '067XX N RICHMOND ST', '002XX W 46TH ST', '080XX S CENTRAL PARK AVE', '044XX S LAPORTE AVE', '130XX S BISHOP FORD EXPY OB', '005XX N STATE St', '037XX W 107TH ST', '047XX N CHESTER AVE', '110XX S CALIFORNIA AVE', '004XX W MONROE ST', '112XX S BELL AVE', '002XX W 48TH PL', '003XX S JENSEN BLVD', '043XX N Hermitage Ave', '018XX E 80TH ST', '022XX W Byron St', '004XX W 45TH PL', '031XX N clark st', '088XX S VINCENNES AVE', '060XX N BERNARD ST', '0000X W C17 ST', '009XX S PAULINA ST', '010XX W 101ST ST', '002XX N Pine Ave', '033XX W 85TH PL', '016XX N Dayton St', '073XX N CALIFORNIA AVE', '029XX W 103RD ST', '004XX W Roslyn Pl', '010XX S MORGAN ST', '126XX S BUTLER DR', '010XX W Cornelia Ave', '006XX W Schubert Ave', '007XX E 134TH PL', '044XX W 81ST ST', '062XX S LARAMIE AVE', '009XX W Waveland Ave', '013XX W BELLE PLAINE AVE', '018XX E MARQUETTE DR', '027XX N Clybourn Ave', '069XX W FOSTER AVE', '046XX N Clark St', '100XX S AVENUE G DR', '110XX S STONY ISLAND AVE', '026XX W Carmen ave', '012XX W Wellington Ave', '070XX S CICERO AVE', '061XX N Keeler Ave', '058XX N INDIAN RD', '009XX W 127TH ST', '045XX W HUTCHINSON AVE', '080XX W GRACE ST', '007XX W 118TH PL', '037XX N Fremont St', '003XX S LOWER WACKER DR', '033XX W 53RD ST', '041XX N Claremont Ave', '108XX S PRINCETON AVE', '019XX W WEBSTER AVE', '021XX N Oakley Ave', '073XX W PRATT AVE', '030XX E 88TH ST', '094XX S VINCENNES AVE', '019XX W 107TH ST', '032XX S FEDERAL ST', '078XX W RASCHER AVE', '036XX N MEADE AVE', '030XX W Diversey Ave', '025XX W SCHUBERT AVE', '108XX S LAWNDALE AVE', '019XX W Lawrence Ave', '111XX S ARTESIAN AVE', '044XX W HOLLYWOOD AVE', '057XX N MANNHEIM RD', '085XX W WILSON AVE', '0000X W superior st', '010XX W 54TH ST', '017XX W 102ND ST', '031XX N Karlov ave', '024XX W 82ND ST', '026XX E 106TH ST', '023XX W 94TH ST', '017XX W Ainslie st', '034XX S WABASH AVE', '012XX N campbell ave', '092XX S VINCENNES AVE', '030XX E 82ND ST', '081XX W SCHOOL ST', '019XX E 80TH ST', '034XX E 108TH ST', '017XX E 90TH ST', '088XX S CHICAGO SKYWAY OB', '031XX N Clybourn Ave', '078XX W ROSCOE ST', '017XX W 97th St', '031XX N ALBANY AVE', '008XX W 14th Pl', '063XX S ST LOUIS AVE', '013XX W 116TH ST', '061XX N LANDERS AVE', '086XX S Drexel Ave', '050XX N Sheridan RD', '002XX N Jefferson st', '020XX W 13TH ST', '072XX W BYRON ST', '010XX E 46th st', '004XX E HURON ST', '136XX S AVENUE O', '012XX W Albion Ave', '024XX W 113TH ST', '062XX W HYACINTH ST', '002XX N FIELD BLVD', '0000X E Lake St', '054XX S MOBILE AVE', '028XX W GEORGE ST', '018XX S CLINTON ST', '004XX W 44TH ST', '017XX W HASTINGS ST', '028XX W 15TH PL', '046XX N Beacon ST', '044XX N Greenview Ave', '032XX N LAKE SHORE DR SB', '025XX E 100TH ST', '017XX S HOYNE AVE', '108XX S BELL AVE', '071XX W SCHOOL ST', '000XX W 87TH ST', '044XX N California Ave', '016XX W Julian St', '055XX N PULASKI RD', '016XX N NORDICA AVE', '063XX W PALMER ST', '016XX N Harding ave', '008XX W 108TH ST', '027XX S SHIELDS AVE', '012XX W Carmen Ave', '023XX W CORNELIA AVE', '014XX W CORTLAND ST', '029XX W SEIPP ST', '060XX S MULLIGAN AVE', '052XX W 51ST ST', '031XX N Clark St', '037XX W 104TH ST', '057XX N KARLOV AVE', '058XX W ARDMORE AVE', '013XX E 76th st', '014XX W Lexington St', '008XX W 40TH ST', '002XX S WINCHESTER AVE', '049XX W 44TH PL', '061XX S HOMAN AVE', '002XX N LOWER COLUMBUS DR', '027XX W 36TH PL', '013XX E 76Th St', '006XX W 97TH ST', '013XX W Fletcher St', '025XX N Bosworth Ave', '006XX W 88TH ST', '043XX W 44TH ST', '065XX N CHICORA AVE', '126XX S AVENUE O', '017XX W Cullerton St', '100XX S Normal Ave', '023XX W RIVER LOFT CT', '023XX N Lincoln Park West', '013XX E 54th St', '069XX W WAVELAND AVE', '027XX W 48TH ST', '003XX W 99TH ST', '065XX W CORNELIA AVE', '100XX S HAMILTON AVE', '008XX W 35TH PL', '005XX E 138TH ST', '006XX W 105TH ST', '032XX N Elston Ave', '036XX S OAKLEY AVE', '034XX N Elaine PL', '098XX S HARPER AVE', '051XX S LAVERGNE AVE', '022XX W Ainslie ST', '010XX S SACRAMENTO BLVD', '033XX N NATOMA AVE', '007XX W 52ND ST', '022XX W 57TH ST', '044XX N Leavitt St', '043XX W GRACE ST', '006XX S HERMITAGE AVE', '115XX S HOMAN AVE', '021XX N Halsted St', '055XX S MARYLAND AVE', '045XX W SCHOOL ST', '042XX N Tripp Ave', '006XX W Wellington Ave', '032XX N OCTAVIA AVE', '001XX W hubbard st', '035XX S Lowe Ave', '008XX W Chicago Ave', '007XX S LOCKWOOD AVE', '006XX E ILLINOIS ST', '024XX N DAMEN AVE', '017XX S PULASKI RD', '022XX N Washtenaw Ave', '004XX W Division St', '070XX N OAKLEY AVE', '013XX N LAKE SHORE DR NB', '043XX W 85TH ST', '007XX W EASTMAN ST', '026XX W 86TH ST', '057XX N Jersey Ave', '032XX E 85TH ST', '058XX N EAST CIRCLE AVE', '027XX E 88TH ST', '0000X W Ontario St', '031XX W SCHOOL ST', '131XX S GREENWOOD AVE', '074XX W TOUHY AVE', '039XX S RACINE AVE', '018XX N KINGSBURY ST', '039XX S FEDERAL ST', '007XX E 120TH ST', '026XX W Pershing Rd', '040XX W Melrose st', '074XX W ROSCOE ST', '122XX S JUSTINE ST', '064XX S NATCHEZ AVE', '039XX S EMERALD AVE', '014XX W LE MOYNE ST', '043XX W 27TH ST', '037XX W SCHRAEDER DR', '004XX E GARFIELD BLVD', '023XX W OAKDALE AVE', '0000X N DESPLAINES ST', '067XX S CHICAGO SKYWAY IB', '060XX S MOODY AVE', '013XX W Randolph St', '062XX N KILPATRICK AVE', '007XX W Couch PL', '004XX W 63RD PL', '062XX N GREENVIEW AVE', '025XX N KEDZIE SD', '033XX N Oakley ave', '013XX W 113TH PL', '002XX N MOZART ST', '028XX W 45TH ST', '013XX W Elmdale Ave', '051XX W HOMER ST', '0000X E Jackson Blvd', '017XX S MUSEUM CAMPUS DR', '045XX W ROSCOE ST', '005XX W Quincy St', '014XX W Lunt Ave', '074XX N Hoyne Ave', '054XX S Kimbark Ave', '057XX S Kenneth Ave', '008XX E 105TH ST', '006XX W Cornelia Ave', '052XX N OKETO AVE', '048XX S FEDERAL ST', '028XX W 77TH ST', '011XX W Roscoe st', '064XX N LE MAI AVE', '042XX N Central Park Ave', '063XX N Wayne Ave', '0000X N WOOD ST', '060XX N kenmore ave', '060XX S KIMBARK AVE', '041XX W 85TH ST', '059XX N WEST CIRCLE AVE', '066XX N OSHKOSH AVE', '029XX W 86TH PL', '029XX W JEROME ST', '027XX W FARGO AVE', '040XX W 81ST PL', '077XX S Avalon Ave', '041XX S KEELER AVE', '023XX E 92ND PL', '026XX W chicago ave', '006XX W Wayman st', '033XX W 114TH ST', '060XX S Richmond St', '021XX W 18th St', '014XX W 122ND ST', '026XX E 104TH ST', '054XX W EDMUNDS ST', '027XX S WELLS ST', '055XX N MEADE AVE', '032XX N ANCHOR DR', '022XX W Wilson Ave', '059XX S AUSTIN AVE', '030XX W 79TH ST', '090XX S WESTERN AVE', '101XX S CENTRAL PARK AVE', '114XX S AVENUE G', '047XX S Dorchester Ave', '014XX E 64TH ST', '049XX S AVERS AVE', '035XX N KARLOV AVE', '008XX W EISENHOWER EXPY OB', '019XX N lincoln ave', '015XX W Hubbard St', '005XX E KENSINGTON AVE', '007XX W 34TH ST', '024XX W BRADLEY PL', '043XX N MANNHEIM RD', '019XX W 117TH ST', '027XX W ALTGELD ST', '107XX S AVERS AVE', '010XX E 78TH ST', '046XX W 55TH ST', '001XX S SPAULDING AVE', '057XX W POTOMAC AVE', '022XX W PETERSON AVE', '005XX E 85TH ST', '063XX W Huntington st', '029XX W MANN DR', '047XX S DAN RYAN LOCAL IB', '130XX S RHODES AVE', '024XX W Lunt Ave', '109XX S ST LOUIS AVE', '041XX W Oakdale ave', '052XX W DEVON AVE', '025XX S Michigan Ave', '016XX N LAKE SHORE DR SB', '039XX S LOWE AVE', '071XX N MERRIMAC AVE', '011XX S FAIRFIELD AVE', '019XX S Michigan Ave', '038XX W 115TH ST', '048XX S ST LOUIS AVE', '063XX N Broadway', '088XX S CHICAGO SKYWAY IB', '063XX N CALDWELL AVE', '050XX S VINCENNES AVE', '037XX N Troy St', '086XX S KILBOURN AVE', '065XX W BYRON ST', '027XX W Montrose Ave', '090XX S PRAIRIE AVE', '059XX S RUSSELL DR', '037XX N Central Park Ave', '019XX W KINZIE ST', '126XX S DOTY AVE E', '004XX E BEST DR', '013XX N NORTH PARK AVE', '022XX W 87TH ST', '018XX N HUMBOLDT SD', '062XX N WINCHESTER AVE', '022XX W BLOOMINGDALE AVE', '025XX W Winnemac Ave', '000XX N KEDZIE AVE', '015XX E 81ST ST', '010XX S Columbus Dr', '023XX N Southport Ave', '009XX W HOLLYWOOD AVE', '005XX W 128TH PL', '066XX N OCTAVIA AVE', '077XX W HOWARD ST', '119XX S ADA ST', '034XX E 112TH ST', '053XX S Harlem Ave', '063XX N LA CROSSE AVE', '051XX N OVERHILL AVE', '041XX N OAK PARK AVE', '028XX N Drake Ave', '0000X W TOOKER PL', '078XX W FOSTER AVE', '057XX N NEWCASTLE AVE', '058XX S Natchez Ave', '130XX S BUFFALO AVE', '037XX N HAMLIN AVE', '052XX W SUNNYSIDE AVE', '007XX W 97TH ST', '060XX W GEORGE ST', '019XX N Orchard St', '036XX S LA SALLE ST', '0000X E CHICAGO RIVER', '008XX E 106TH ST', '027XX N Lincoln Ave', '029XX N OAKLEY AVE', '015XX N leavitt st', '018XX N LAKE SHORE DR SB', '022XX N RACINE AVE', '034XX N Clark St', '015XX W fargo ave', '021XX W Huron St', '018XX N Kedzie Ave', '041XX S KARLOV AVE', '045XX N Broadway', '054XX N MAGNET AVE', '0000X S DOOR 3 ST', '028XX W REDFIELD DR', '066XX N CENTRAL AVE', '009XX N DEWITT PL', '013XX S Canal St', '0000X N State st', '063XX N OLCOTT AVE', '035XX N Fremont St', '048XX N OAK PARK AVE', '042XX W 84TH ST', '042XX S DAN RYAN LOCAL OB', '135XX S FOREST AVE', '018XX W 85TH ST', '074XX W EVERELL AVE', '014XX S sacramento dr', '040XX W SCHUBERT AVE', '018XX W Augusta Blvd', '011XX E 63RD ST', '017XX E 91ST ST', '065XX W RAVEN ST', '013XX S INDIANA PKWY', '107XX S RACINE AVE', '064XX S Central Ave', '041XX S PACKERS AVE', '006XX W 25TH PL', '064XX W Irving park rd', '068XX N MINNETONKA AVE', '072XX W GRACE ST', '104XX S ST LOUIS AVE', '054XX N CANFIELD AVE', '047XX W 72ND ST', '046XX N DELPHIA AVE', '011XX W 58TH ST', '005XX N Marshfield Ave', '025XX S ARTESIAN AVE', '082XX W MONTROSE AVE', '039XX W 76TH ST', '024XX E 90TH ST', '020XX N KENNEDY EXPY OB', '021XX W Walton St', '013XX S Michigan Ave', '020XX W SCHOOL ST', '021XX E 130TH ST', '032XX W 109TH ST', '029XX N GREENVIEW AVE', '034XX W 87TH ST', '039XX N Fremont St', '042XX W 19TH ST', '012XX S Indiana Ave', '011XX W Webster Ave', '026XX N Cannon dr', '066XX S SPRINGFIELD AVE', '027XX S Sawyer Ave', '044XX W ARGYLE ST', '004XX W Surf St', '031XX W ALBION AVE', '039XX E 105TH ST', '013XX W 84TH ST', '044XX W 46TH ST', '008XX W Van Buren St', '029XX S TROY ST', '028XX W 47TH PL', '052XX N Leamington Ave', '031XX N MEADE AVE', '011XX E 75TH ST', '031XX W Fullerton Ave', '003XX E 99TH PL', '006XX E 107TH ST', '003XX W Willow St', '023XX W 101ST ST', '008XX W 63RD PKWY', '091XX S MUSKEGON AVE', '051XX W Carmen Ave', '025XX W ARDMORE AVE', '014XX W Pratt Blvd', '005XX W 82ND ST', '004XX W Huron st', '049XX N lincoln ave', '047XX W 50TH ST', '006XX E RAINEY DR', '0000X S B17 ST', '013XX W 122ND ST', '083XX S WHIPPLE ST', '072XX S PULASKI RD', '060XX S CORNELL DR', '014XX S MCCORMICK PL BUSWAY', '047XX N NARRAGANSETT AVE', '048XX N Winchester Ave', '053XX S Laflin st', '024XX N Oakley Ave', '032XX W 108TH PL', '117XX S Western Ave', '032XX N Ashland Ave', '0000X W 23RD ST', '038XX S DEARBORN ST', '014XX W Morse Ave', '083XX S LAKE SHORE DR', '008XX N wood st', '011XX W 76th St', '043XX W 53RD ST', '019XX E 82ND ST', '017XX W Morse Ave', '099XX S PULASKI RD', '075XX S ROCKWELL ST', '119XX S PEORIA ST', '060XX S DAN RYAN LOCAL IB', '134XX S BRAINARD AVE', '103XX S SPRINGFIELD AVE', '066XX S HOMAN AVE', '006XX W Grace St', '055XX S Indiana ave', '010XX W 37TH ST', '020XX N Kedzie Ave', '079XX S KILDARE AVE', '059XX N MILTIMORE AVE', '013XX E 130TH ST', '060XX S OAK PARK AVE', '034XX W BARRY AVE', '061XX W LAWRENCE AVE', '037XX W Palmer St', '021XX N LAKEWOOD AVE', '014XX W 89TH ST', '019XX S KILBOURN AVE', '026XX W 115TH ST', '008XX N Hoyne Ave', '045XX N Ashland Ave', '026XX E 85TH ST', '027XX W Lunt Ave', '041XX N Sheridan Rd', '023XX N lincoln ave', '055XX S NORDICA AVE', '022XX W 65TH ST', '012XX W CORTEZ ST', '001XX N LOOMIS ST', '071XX S Campbell Ave', '017XX N Campbell ave', '003XX N Desplaines St', '004XX S LEAMINGTON AVE', '030XX W Sherwin Ave', '062XX N HARLEM AVE', '023XX W WINONA ST', '044XX N Ravenswood Ave', '008XX N LESSING ST', '064XX W HOBART AVE', '082XX W CATHERINE AVE', '079XX S SAWYER AVE', '015XX W 118TH ST', '061XX S YALE AVE', '024XX W Chicago Ave', '013XX N Paulina St', '118XX S STONY ISLAND AVE', '037XX W GRANVILLE AVE', '038XX W Devon Ave', '098XX S WENTWORTH AVE', '015XX S PAULINA ST', '005XX W 89TH ST', '049XX N JANSSEN AVE', '003XX E 119TH PL', '050XX W 52ND ST', '059XX N LEGETT AVE', '127XX S DOTY AVE E', '011XX E 92ND ST', '033XX W OGDEN SD', '005XX W Englewood Ave', '008XX W Newport Ave', '002XX W 61ST ST', '040XX N Sheridan RD', '032XX W WAVELAND AVE', '025XX N Lakeview Ave', '058XX N KENNETH AVE', '028XX S Kenneth ave', '059XX W CARMEN AVE', '009XX W Grace St', '010XX W Argyle St', '065XX S CENTRAL PARK AVE', '059XX N AVONDALE AVE', '005XX E 103RD PL', '109XX S HOYNE AVE', '022XX W SUNNYSIDE AVE', '067XX S HAMILTON AVE', '027XX E 85TH ST', '135XX S AVENUE N', '001XX E 109TH ST', '127XX S Manistee Ave', '106XX S CENTRAL PARK AVE', '000XX N MAYFIELD AVE', '014XX W Oakdale Ave', '039XX N PLAINFIELD AVE', '055XX S University Ave', '115XX W IRVING PARK RD', '063XX W LAWRENCE AVE', '059XX W POTOMAC AVE', '002XX N Garland ct', '052XX W DICKENS AVE', '045XX S DR MARTIN LUTHER KING JR SD', '037XX N Bernard St', '063XX W GREGORY ST', '077XX S yates blvd', '048XX S WALLACE ST', '076XX W HORTENSE AVE', '010XX W 14th PL', '063XX S NASHVILLE AVE', '032XX N Lake Shore Dr', '033XX N CUMBERLAND AVE', '034XX N BELMONT HARBOR DR', '056XX W BRYN MAWR AVE', '051XX S HAMLIN AVE', '002XX W 98TH PL', '056XX N RAVENSWOOD AVE', '062XX W STRONG ST', '029XX W Belden Ave', '007XX W 91ST ST', '066XX S DORCHESTER AVE', '031XX N broadway', '043XX N central ave', '037XX W CARMEN AVE', '053XX N Lincoln Ave', '025XX W Harrison St', '001XX E 124TH PL', '037XX W 114TH PL', '029XX W GRANVILLE AVE', '026XX S SENOUR AVE', '014XX W Lexington st', '038XX W 87TH ST', '038XX N MENARD AVE', '014XX E 60TH ST', '018XX E 103RD ST', '080XX W FOSTER AVE', '001XX W Lake St', '049XX S WELLS ST', '065XX S HOMAN AVE', '003XX E Randolph st', '017XX S CALIFORNIA BLVD', '044XX N Wolcott Ave', '038XX W ROSEMONT AVE', '033XX S LA SALLE ST', '053XX W Giddings st', '048XX S HAMLIN AVE', '020XX W 37TH ST', '113XX W IRVING PARK RD', '033XX W WALTON ST', '030XX W 103RD ST', '096XX S THROOP ST', '123XX S BURLEY AVE', '003XX W 38TH ST', '023XX W Wilson Ave', '070XX N TAHOMA AVE', '042XX W 45TH ST', '025XX E 99TH ST', '043XX S DR MARTIN LUTHER KING JR SD', '066XX S LAWNDALE AVE', '084XX W HIGGINS RD', '019XX E 88TH ST', '073XX W CHASE AVE', '024XX E 83RD ST', '004XX E Randolph St', '018XX S KILBOURN AVE', '041XX S PEORIA ST', '070XX W CORTLAND ST', '113XX S DOTY AVE E', '121XX S PEORIA ST', '012XX W Lake St', '004XX W 57TH ST', '027XX N Lawndale Ave', '022XX N Monticello Ave', '130XX S BURLEY AVE', '057XX N OZANAM AVE', '062XX S NEW ENGLAND AVE', '042XX S WOLCOTT AVE', '005XX E 104TH ST', '020XX W 115TH ST', '031XX W LUIS MUNOZ MARIN DR S', '110XX S ALBANY AVE', '110XX S WASHTENAW AVE', '001XX W 24TH ST', '041XX N Major Ave', '036XX E 134TH ST', '027XX W 19TH ST', '046XX N FOREST VIEW AVE', '002XX E 38TH ST', '019XX E 77TH ST', '014XX W Polk ST', '012XX W 48TH ST', '020XX W 58TH ST', '042XX W 49TH ST', '005XX E 101ST ST', '024XX W 77TH ST', '033XX W Monroe St', '113XX S BELL AVE', '053XX N LARNED AVE', '047XX W 53RD ST', '070XX N Glenwood Ave', '053XX S MASSASOIT AVE', '112XX S SAWYER AVE', '081XX S FRANCISCO AVE', '038XX W 105TH ST', '046XX W ARTHINGTON ST', '040XX N TRIPP AVE', '057XX S MAJOR AVE', '025XX W Diversey Ave', '112XX S MARSHFIELD AVE', '036XX N Hoyne Ave', '024XX N Western Ave', '026XX W 45TH ST', '008XX W 106TH ST', '121XX S DOTY AVE W', '003XX E 24TH PL', '053XX S Hyde Park Blvd', '071XX W MEDILL AVE', '051XX S NATOMA AVE', '069XX W BELDEN AVE', '009XX S Ashland Ave', '022XX W LUNT AVE', '055XX N CANFIELD AVE', '032XX W THORNDALE AVE', '083XX W BALMORAL AVE', '061XX N ORIOLE AVE', '039XX N LAKE SHORE DR SB', '094XX S CLYDE AVE', '022XX N KEDZIE SD', '021XX E MARQUETTE DR', '084XX S Vincennes Ave', '030XX W 109TH ST', '017XX N North Park Ave', '0000X E NORTH AVE', '078XX S KEDVALE AVE', '027XX W 109TH ST', '045XX S LAKE SHORE DR NB', '043XX N LAMON AVE', '029XX N HONORE ST', '020XX N Burling St', '023XX W 65TH ST', '062XX W WELLINGTON AVE', '032XX N MOBILE AVE', '019XX W CARROLL AVE', '059XX W PETERSON AVE', '020XX W WELLINGTON AVE', '052XX W ARDMORE AVE', '109XX S Western Ave', '0000X E Oak St', '005XX W IRVING PARK DR', '034XX W 48TH PL', '082XX S KOSTNER AVE', '052XX N WOLCOTT AVE', '056XX N LOCKWOOD AVE', '015XX W 92ND ST', '017XX W 70TH ST', '023XX W 13TH ST', '044XX W 30TH ST', '050XX W PALMER ST', '033XX E 105TH ST', '001XX E 101ST ST', '061XX N NICKERSON AVE', '012XX S WOLCOTT AVE', '007XX E 55TH DR', '074XX W SCHOOL ST', '027XX S Princeton ave', '044XX S LA SALLE ST', '096XX S WOOD ST', '031XX S Racine Ave', '010XX W 120TH ST', '035XX S NORMAL AVE', '007XX E RAINEY DR', '099XX S State St', '039XX W 41ST ST', '069XX N SEELEY AVE', '021XX S UNION AVE', '107XX S THROOP ST', '005XX S WACKER DR', '053XX N LAKE SHORE DR NB', '056XX S CENTRAL PARK AVE', '013XX W 58TH ST', '032XX W 52ND ST', '048XX W 46TH ST', '034XX S Morgan St', '018XX W Diversey Pkwy', '007XX W 14th Pl', '122XX S CARONDOLET AVE', '062XX N LIVERMORE AVE', '027XX W 70TH ST', '002XX N POST PL', '026XX W 40TH ST', '049XX S LAWNDALE AVE', '007XX E 113TH ST', '035XX E 111TH ST', '034XX W Walnut St', '017XX N Wilmot Ave', '014XX W FULTON st', '053XX N California Ave', '019XX W 73RD ST', '025XX N Laramie Ave', '106XX S Avenue H', '080XX W BELMONT AVE', '041XX W 32ND ST', '006XX W 32ND ST', '049XX S Drexel Blvd', '030XX W Cornelia Ave', '036XX S Winchester Ave', '057XX W 53RD ST', '089XX S LEAVITT ST', '017XX W 100TH PL', '022XX W Belden Ave', '043XX W HENDERSON ST', '056XX S NEVA AVE', '005XX E 33rd St', '006XX W deming pl', '017XX S DRAKE AVE', '075XX W FOSTER AVE', '024XX S DAN RYAN EXPY IB', '040XX W GEORGE ST', '027XX W BIRCHWOOD AVE', '024XX N Lincoln Ave', '009XX W 56TH ST', '075XX W ARDMORE AVE', '0000X W Delaware Pl', '031XX N LAKE SHORE DR SB', '107XX S CALIFORNIA AVE', '005XX E 94TH ST', '059XX N KNOX AVE', '029XX N LECLAIRE AVE', '074XX S MOZART ST', '006XX N Dearborn st', '005XX N Wells St', '112XX S SANGAMON ST', '002XX E 86TH ST', '013XX E 99TH ST', '038XX S DAN RYAN XPRS OB', '088XX S ST LAWRENCE AVE', '069XX S KEDZIE AVE', '024XX W 31ST ST', '005XX W Webster Ave', '033XX S justine St', '008XX W Waveland ave', '005XX W 87TH SD', '020XX N LOREL AVE', '018XX W 33RD PL', '004XX W WASHINGTON ST', '030XX W HOLLYWOOD AVE', '031XX W SCHUBERT AVE', '042XX S WALLACE ST', '050XX N Mango Ave', '106XX S CLAREMONT AVE', '010XX S CICERO AVE', '060XX W CULLOM AVE', '021XX W Ohio St', '054XX N OCONTO AVE', '036XX E 108TH ST', '028XX S MOE DR', '061XX N Hoyne Ave', '057XX N HARLEM AVE', '000XX E 100TH PL', '048XX N NATOMA AVE', '009XX W 102ND ST', '051XX S DEARBORN ST', '014XX W Granville Ave', '022XX W 66TH ST', '064XX W CORNELIA AVE', '005XX W 108TH ST', '031XX E 134TH ST', '027XX W 103RD ST', '018XX N KENNEDY EXPY IB', '039XX S DAN RYAN LOCAL OB', '055XX S SAYRE AVE', '014XX W Walton St', '027XX N Clark St', '002XX W 125TH ST', '036XX N Nora Ave', '069XX N OWEN AVE', '023XX E 85TH ST', '032XX W 72ND ST', '014XX W Ohio St', '042XX W 58TH ST', '025XX W Haddon Ave', '012XX S THOMPSON DR', '059XX N OKETO AVE', '076XX S Clyde Ave', '005XX W lake st', '007XX W Hubbard St', '024XX S Spaulding Ave', '023XX W 75TH ST', '034XX S Archer Ave', '006XX W 126TH ST', '001XX E 99TH ST', '044XX W KINZIE ST', '022XX S MORGAN ST', '081XX S KEATING AVE', '044XX S SPRINGFIELD AVE', '012XX W HOLLYWOOD AVE', '066XX W HAYES AVE', '026XX W 110TH ST', '025XX W Flournoy St', '002XX W North ave', '021XX W 100TH ST', '093XX S Green St', '046XX N Leamington Ave', '040XX W 74TH ST', '063XX S NARRAGANSETT AVE', '0000X W 17TH ST', '078XX S FIELDING AVE', '103XX S RIDGEWAY AVE', '021XX W HOPKINS PL', '044XX N MANOR AVE', '034XX S DAN RYAN LOCAL IB', '038XX W 33RD ST', '041XX S OAKLEY AVE', '056XX N SAYRE AVE', '011XX N lamon ave', '001XX W 93RD ST', '070XX S HAMILTON AVE', '071XX W ALTGELD ST', '069XX N OZANAM AVE', '015XX N wells st', '018XX N Dayton St', '010XX W Hollywood Ave', '013XX N Artesian Ave', '026XX S LOOMIS ST', '006XX W 98TH ST', '104XX S SAWYER AVE', '040XX N LAKE SHORE DR NB', '049XX W CATALPA AVE', '014XX E 103RD ST', '023XX E 94TH ST', '009XX W OHIO ST', '017XX W Estes ave', '006XX W sheridan rd', '097XX S WABASH AVE', '025XX W 19TH ST', '028XX N COMMONWEALTH AVE', '057XX N CENTRAL AVE', '068XX N Wayne Ave', '052XX S Artesian ave', '036XX N Wolcott Ave', '048XX W FIFTH AVE', '060XX W 62ND ST', '017XX W Lunt Ave', '089XX S Jeffery Blvd', '048XX N SAYRE AVE', '019XX W Cortland St', '020XX W CUYLER AVE', '065XX N MINNEHAHA AVE', '058XX S MC VICKER AVE', '034XX W FRANKLIN SD', '021XX W Schiller St', '005XX N STREETER DR', '027XX W Lawrence Ave', '070XX W HENDERSON ST', '016XX S Jefferson st', '045XX N RACINE AVE', '082XX S KILPATRICK AVE', '054XX N DELPHIA AVE', '064XX S NOTTINGHAM AVE', '049XX W 45TH ST', '010XX E 91ST ST', '015XX W Haddon Ave', '080XX S SCOTTSDALE AVE', '070XX N HARLEM AVE', '016XX N Vine St', '073XX W SCHOOL ST', '036XX E 105TH ST', '003XX N Central Ave', '041XX W 115TH ST', '039XX W 46TH ST', '012XX W BERWYN AVE', '019XX W 14TH ST', '102XX S SEELEY AVE', '048XX N marine dr', '061XX W BERWYN AVE', '108XX S Talman Ave', '031XX W 73RD ST', '071XX S EVANS AVE'] in column 0 during transform",
     "output_type": "error",
     "traceback": [
      "\u001b[1;31m---------------------------------------------------------------------------\u001b[0m",
      "\u001b[1;31mValueError\u001b[0m                                Traceback (most recent call last)",
      "Input \u001b[1;32mIn [31]\u001b[0m, in \u001b[0;36m<cell line: 3>\u001b[1;34m()\u001b[0m\n\u001b[0;32m      1\u001b[0m forest_pipe\u001b[38;5;241m.\u001b[39mfit(X_train, y_train)\n\u001b[0;32m      2\u001b[0m \u001b[38;5;28mprint\u001b[39m(forest_pipe\u001b[38;5;241m.\u001b[39mscore(X_train, y_train))\n\u001b[1;32m----> 3\u001b[0m \u001b[38;5;28mprint\u001b[39m(\u001b[43mforest_pipe\u001b[49m\u001b[38;5;241;43m.\u001b[39;49m\u001b[43mscore\u001b[49m\u001b[43m(\u001b[49m\u001b[43mX_test\u001b[49m\u001b[43m,\u001b[49m\u001b[43m \u001b[49m\u001b[43my_test\u001b[49m\u001b[43m)\u001b[49m)\n",
      "File \u001b[1;32mD:\\anaconda3\\lib\\site-packages\\sklearn\\utils\\metaestimators.py:113\u001b[0m, in \u001b[0;36m_AvailableIfDescriptor.__get__.<locals>.<lambda>\u001b[1;34m(*args, **kwargs)\u001b[0m\n\u001b[0;32m    110\u001b[0m         \u001b[38;5;28;01mraise\u001b[39;00m attr_err\n\u001b[0;32m    112\u001b[0m     \u001b[38;5;66;03m# lambda, but not partial, allows help() to work with update_wrapper\u001b[39;00m\n\u001b[1;32m--> 113\u001b[0m     out \u001b[38;5;241m=\u001b[39m \u001b[38;5;28;01mlambda\u001b[39;00m \u001b[38;5;241m*\u001b[39margs, \u001b[38;5;241m*\u001b[39m\u001b[38;5;241m*\u001b[39mkwargs: \u001b[38;5;28mself\u001b[39m\u001b[38;5;241m.\u001b[39mfn(obj, \u001b[38;5;241m*\u001b[39margs, \u001b[38;5;241m*\u001b[39m\u001b[38;5;241m*\u001b[39mkwargs)  \u001b[38;5;66;03m# noqa\u001b[39;00m\n\u001b[0;32m    114\u001b[0m \u001b[38;5;28;01melse\u001b[39;00m:\n\u001b[0;32m    116\u001b[0m     \u001b[38;5;28;01mdef\u001b[39;00m \u001b[38;5;21mfn\u001b[39m(\u001b[38;5;241m*\u001b[39margs, \u001b[38;5;241m*\u001b[39m\u001b[38;5;241m*\u001b[39mkwargs):\n",
      "File \u001b[1;32mD:\\anaconda3\\lib\\site-packages\\sklearn\\pipeline.py:707\u001b[0m, in \u001b[0;36mPipeline.score\u001b[1;34m(self, X, y, sample_weight)\u001b[0m\n\u001b[0;32m    705\u001b[0m Xt \u001b[38;5;241m=\u001b[39m X\n\u001b[0;32m    706\u001b[0m \u001b[38;5;28;01mfor\u001b[39;00m _, name, transform \u001b[38;5;129;01min\u001b[39;00m \u001b[38;5;28mself\u001b[39m\u001b[38;5;241m.\u001b[39m_iter(with_final\u001b[38;5;241m=\u001b[39m\u001b[38;5;28;01mFalse\u001b[39;00m):\n\u001b[1;32m--> 707\u001b[0m     Xt \u001b[38;5;241m=\u001b[39m \u001b[43mtransform\u001b[49m\u001b[38;5;241;43m.\u001b[39;49m\u001b[43mtransform\u001b[49m\u001b[43m(\u001b[49m\u001b[43mXt\u001b[49m\u001b[43m)\u001b[49m\n\u001b[0;32m    708\u001b[0m score_params \u001b[38;5;241m=\u001b[39m {}\n\u001b[0;32m    709\u001b[0m \u001b[38;5;28;01mif\u001b[39;00m sample_weight \u001b[38;5;129;01mis\u001b[39;00m \u001b[38;5;129;01mnot\u001b[39;00m \u001b[38;5;28;01mNone\u001b[39;00m:\n",
      "File \u001b[1;32mD:\\anaconda3\\lib\\site-packages\\sklearn\\compose\\_column_transformer.py:748\u001b[0m, in \u001b[0;36mColumnTransformer.transform\u001b[1;34m(self, X)\u001b[0m\n\u001b[0;32m    743\u001b[0m \u001b[38;5;28;01melse\u001b[39;00m:\n\u001b[0;32m    744\u001b[0m     \u001b[38;5;66;03m# ndarray was used for fitting or transforming, thus we only\u001b[39;00m\n\u001b[0;32m    745\u001b[0m     \u001b[38;5;66;03m# check that n_features_in_ is consistent\u001b[39;00m\n\u001b[0;32m    746\u001b[0m     \u001b[38;5;28mself\u001b[39m\u001b[38;5;241m.\u001b[39m_check_n_features(X, reset\u001b[38;5;241m=\u001b[39m\u001b[38;5;28;01mFalse\u001b[39;00m)\n\u001b[1;32m--> 748\u001b[0m Xs \u001b[38;5;241m=\u001b[39m \u001b[38;5;28;43mself\u001b[39;49m\u001b[38;5;241;43m.\u001b[39;49m\u001b[43m_fit_transform\u001b[49m\u001b[43m(\u001b[49m\n\u001b[0;32m    749\u001b[0m \u001b[43m    \u001b[49m\u001b[43mX\u001b[49m\u001b[43m,\u001b[49m\n\u001b[0;32m    750\u001b[0m \u001b[43m    \u001b[49m\u001b[38;5;28;43;01mNone\u001b[39;49;00m\u001b[43m,\u001b[49m\n\u001b[0;32m    751\u001b[0m \u001b[43m    \u001b[49m\u001b[43m_transform_one\u001b[49m\u001b[43m,\u001b[49m\n\u001b[0;32m    752\u001b[0m \u001b[43m    \u001b[49m\u001b[43mfitted\u001b[49m\u001b[38;5;241;43m=\u001b[39;49m\u001b[38;5;28;43;01mTrue\u001b[39;49;00m\u001b[43m,\u001b[49m\n\u001b[0;32m    753\u001b[0m \u001b[43m    \u001b[49m\u001b[43mcolumn_as_strings\u001b[49m\u001b[38;5;241;43m=\u001b[39;49m\u001b[43mfit_dataframe_and_transform_dataframe\u001b[49m\u001b[43m,\u001b[49m\n\u001b[0;32m    754\u001b[0m \u001b[43m\u001b[49m\u001b[43m)\u001b[49m\n\u001b[0;32m    755\u001b[0m \u001b[38;5;28mself\u001b[39m\u001b[38;5;241m.\u001b[39m_validate_output(Xs)\n\u001b[0;32m    757\u001b[0m \u001b[38;5;28;01mif\u001b[39;00m \u001b[38;5;129;01mnot\u001b[39;00m Xs:\n\u001b[0;32m    758\u001b[0m     \u001b[38;5;66;03m# All transformers are None\u001b[39;00m\n",
      "File \u001b[1;32mD:\\anaconda3\\lib\\site-packages\\sklearn\\compose\\_column_transformer.py:606\u001b[0m, in \u001b[0;36mColumnTransformer._fit_transform\u001b[1;34m(self, X, y, func, fitted, column_as_strings)\u001b[0m\n\u001b[0;32m    600\u001b[0m transformers \u001b[38;5;241m=\u001b[39m \u001b[38;5;28mlist\u001b[39m(\n\u001b[0;32m    601\u001b[0m     \u001b[38;5;28mself\u001b[39m\u001b[38;5;241m.\u001b[39m_iter(\n\u001b[0;32m    602\u001b[0m         fitted\u001b[38;5;241m=\u001b[39mfitted, replace_strings\u001b[38;5;241m=\u001b[39m\u001b[38;5;28;01mTrue\u001b[39;00m, column_as_strings\u001b[38;5;241m=\u001b[39mcolumn_as_strings\n\u001b[0;32m    603\u001b[0m     )\n\u001b[0;32m    604\u001b[0m )\n\u001b[0;32m    605\u001b[0m \u001b[38;5;28;01mtry\u001b[39;00m:\n\u001b[1;32m--> 606\u001b[0m     \u001b[38;5;28;01mreturn\u001b[39;00m \u001b[43mParallel\u001b[49m\u001b[43m(\u001b[49m\u001b[43mn_jobs\u001b[49m\u001b[38;5;241;43m=\u001b[39;49m\u001b[38;5;28;43mself\u001b[39;49m\u001b[38;5;241;43m.\u001b[39;49m\u001b[43mn_jobs\u001b[49m\u001b[43m)\u001b[49m\u001b[43m(\u001b[49m\n\u001b[0;32m    607\u001b[0m \u001b[43m        \u001b[49m\u001b[43mdelayed\u001b[49m\u001b[43m(\u001b[49m\u001b[43mfunc\u001b[49m\u001b[43m)\u001b[49m\u001b[43m(\u001b[49m\n\u001b[0;32m    608\u001b[0m \u001b[43m            \u001b[49m\u001b[43mtransformer\u001b[49m\u001b[38;5;241;43m=\u001b[39;49m\u001b[43mclone\u001b[49m\u001b[43m(\u001b[49m\u001b[43mtrans\u001b[49m\u001b[43m)\u001b[49m\u001b[43m \u001b[49m\u001b[38;5;28;43;01mif\u001b[39;49;00m\u001b[43m \u001b[49m\u001b[38;5;129;43;01mnot\u001b[39;49;00m\u001b[43m \u001b[49m\u001b[43mfitted\u001b[49m\u001b[43m \u001b[49m\u001b[38;5;28;43;01melse\u001b[39;49;00m\u001b[43m \u001b[49m\u001b[43mtrans\u001b[49m\u001b[43m,\u001b[49m\n\u001b[0;32m    609\u001b[0m \u001b[43m            \u001b[49m\u001b[43mX\u001b[49m\u001b[38;5;241;43m=\u001b[39;49m\u001b[43m_safe_indexing\u001b[49m\u001b[43m(\u001b[49m\u001b[43mX\u001b[49m\u001b[43m,\u001b[49m\u001b[43m \u001b[49m\u001b[43mcolumn\u001b[49m\u001b[43m,\u001b[49m\u001b[43m \u001b[49m\u001b[43maxis\u001b[49m\u001b[38;5;241;43m=\u001b[39;49m\u001b[38;5;241;43m1\u001b[39;49m\u001b[43m)\u001b[49m\u001b[43m,\u001b[49m\n\u001b[0;32m    610\u001b[0m \u001b[43m            \u001b[49m\u001b[43my\u001b[49m\u001b[38;5;241;43m=\u001b[39;49m\u001b[43my\u001b[49m\u001b[43m,\u001b[49m\n\u001b[0;32m    611\u001b[0m \u001b[43m            \u001b[49m\u001b[43mweight\u001b[49m\u001b[38;5;241;43m=\u001b[39;49m\u001b[43mweight\u001b[49m\u001b[43m,\u001b[49m\n\u001b[0;32m    612\u001b[0m \u001b[43m            \u001b[49m\u001b[43mmessage_clsname\u001b[49m\u001b[38;5;241;43m=\u001b[39;49m\u001b[38;5;124;43m\"\u001b[39;49m\u001b[38;5;124;43mColumnTransformer\u001b[39;49m\u001b[38;5;124;43m\"\u001b[39;49m\u001b[43m,\u001b[49m\n\u001b[0;32m    613\u001b[0m \u001b[43m            \u001b[49m\u001b[43mmessage\u001b[49m\u001b[38;5;241;43m=\u001b[39;49m\u001b[38;5;28;43mself\u001b[39;49m\u001b[38;5;241;43m.\u001b[39;49m\u001b[43m_log_message\u001b[49m\u001b[43m(\u001b[49m\u001b[43mname\u001b[49m\u001b[43m,\u001b[49m\u001b[43m \u001b[49m\u001b[43midx\u001b[49m\u001b[43m,\u001b[49m\u001b[43m \u001b[49m\u001b[38;5;28;43mlen\u001b[39;49m\u001b[43m(\u001b[49m\u001b[43mtransformers\u001b[49m\u001b[43m)\u001b[49m\u001b[43m)\u001b[49m\u001b[43m,\u001b[49m\n\u001b[0;32m    614\u001b[0m \u001b[43m        \u001b[49m\u001b[43m)\u001b[49m\n\u001b[0;32m    615\u001b[0m \u001b[43m        \u001b[49m\u001b[38;5;28;43;01mfor\u001b[39;49;00m\u001b[43m \u001b[49m\u001b[43midx\u001b[49m\u001b[43m,\u001b[49m\u001b[43m \u001b[49m\u001b[43m(\u001b[49m\u001b[43mname\u001b[49m\u001b[43m,\u001b[49m\u001b[43m \u001b[49m\u001b[43mtrans\u001b[49m\u001b[43m,\u001b[49m\u001b[43m \u001b[49m\u001b[43mcolumn\u001b[49m\u001b[43m,\u001b[49m\u001b[43m \u001b[49m\u001b[43mweight\u001b[49m\u001b[43m)\u001b[49m\u001b[43m \u001b[49m\u001b[38;5;129;43;01min\u001b[39;49;00m\u001b[43m \u001b[49m\u001b[38;5;28;43menumerate\u001b[39;49m\u001b[43m(\u001b[49m\u001b[43mtransformers\u001b[49m\u001b[43m,\u001b[49m\u001b[43m \u001b[49m\u001b[38;5;241;43m1\u001b[39;49m\u001b[43m)\u001b[49m\n\u001b[0;32m    616\u001b[0m \u001b[43m    \u001b[49m\u001b[43m)\u001b[49m\n\u001b[0;32m    617\u001b[0m \u001b[38;5;28;01mexcept\u001b[39;00m \u001b[38;5;167;01mValueError\u001b[39;00m \u001b[38;5;28;01mas\u001b[39;00m e:\n\u001b[0;32m    618\u001b[0m     \u001b[38;5;28;01mif\u001b[39;00m \u001b[38;5;124m\"\u001b[39m\u001b[38;5;124mExpected 2D array, got 1D array instead\u001b[39m\u001b[38;5;124m\"\u001b[39m \u001b[38;5;129;01min\u001b[39;00m \u001b[38;5;28mstr\u001b[39m(e):\n",
      "File \u001b[1;32mD:\\anaconda3\\lib\\site-packages\\joblib\\parallel.py:1043\u001b[0m, in \u001b[0;36mParallel.__call__\u001b[1;34m(self, iterable)\u001b[0m\n\u001b[0;32m   1034\u001b[0m \u001b[38;5;28;01mtry\u001b[39;00m:\n\u001b[0;32m   1035\u001b[0m     \u001b[38;5;66;03m# Only set self._iterating to True if at least a batch\u001b[39;00m\n\u001b[0;32m   1036\u001b[0m     \u001b[38;5;66;03m# was dispatched. In particular this covers the edge\u001b[39;00m\n\u001b[1;32m   (...)\u001b[0m\n\u001b[0;32m   1040\u001b[0m     \u001b[38;5;66;03m# was very quick and its callback already dispatched all the\u001b[39;00m\n\u001b[0;32m   1041\u001b[0m     \u001b[38;5;66;03m# remaining jobs.\u001b[39;00m\n\u001b[0;32m   1042\u001b[0m     \u001b[38;5;28mself\u001b[39m\u001b[38;5;241m.\u001b[39m_iterating \u001b[38;5;241m=\u001b[39m \u001b[38;5;28;01mFalse\u001b[39;00m\n\u001b[1;32m-> 1043\u001b[0m     \u001b[38;5;28;01mif\u001b[39;00m \u001b[38;5;28;43mself\u001b[39;49m\u001b[38;5;241;43m.\u001b[39;49m\u001b[43mdispatch_one_batch\u001b[49m\u001b[43m(\u001b[49m\u001b[43miterator\u001b[49m\u001b[43m)\u001b[49m:\n\u001b[0;32m   1044\u001b[0m         \u001b[38;5;28mself\u001b[39m\u001b[38;5;241m.\u001b[39m_iterating \u001b[38;5;241m=\u001b[39m \u001b[38;5;28mself\u001b[39m\u001b[38;5;241m.\u001b[39m_original_iterator \u001b[38;5;129;01mis\u001b[39;00m \u001b[38;5;129;01mnot\u001b[39;00m \u001b[38;5;28;01mNone\u001b[39;00m\n\u001b[0;32m   1046\u001b[0m     \u001b[38;5;28;01mwhile\u001b[39;00m \u001b[38;5;28mself\u001b[39m\u001b[38;5;241m.\u001b[39mdispatch_one_batch(iterator):\n",
      "File \u001b[1;32mD:\\anaconda3\\lib\\site-packages\\joblib\\parallel.py:861\u001b[0m, in \u001b[0;36mParallel.dispatch_one_batch\u001b[1;34m(self, iterator)\u001b[0m\n\u001b[0;32m    859\u001b[0m     \u001b[38;5;28;01mreturn\u001b[39;00m \u001b[38;5;28;01mFalse\u001b[39;00m\n\u001b[0;32m    860\u001b[0m \u001b[38;5;28;01melse\u001b[39;00m:\n\u001b[1;32m--> 861\u001b[0m     \u001b[38;5;28;43mself\u001b[39;49m\u001b[38;5;241;43m.\u001b[39;49m\u001b[43m_dispatch\u001b[49m\u001b[43m(\u001b[49m\u001b[43mtasks\u001b[49m\u001b[43m)\u001b[49m\n\u001b[0;32m    862\u001b[0m     \u001b[38;5;28;01mreturn\u001b[39;00m \u001b[38;5;28;01mTrue\u001b[39;00m\n",
      "File \u001b[1;32mD:\\anaconda3\\lib\\site-packages\\joblib\\parallel.py:779\u001b[0m, in \u001b[0;36mParallel._dispatch\u001b[1;34m(self, batch)\u001b[0m\n\u001b[0;32m    777\u001b[0m \u001b[38;5;28;01mwith\u001b[39;00m \u001b[38;5;28mself\u001b[39m\u001b[38;5;241m.\u001b[39m_lock:\n\u001b[0;32m    778\u001b[0m     job_idx \u001b[38;5;241m=\u001b[39m \u001b[38;5;28mlen\u001b[39m(\u001b[38;5;28mself\u001b[39m\u001b[38;5;241m.\u001b[39m_jobs)\n\u001b[1;32m--> 779\u001b[0m     job \u001b[38;5;241m=\u001b[39m \u001b[38;5;28;43mself\u001b[39;49m\u001b[38;5;241;43m.\u001b[39;49m\u001b[43m_backend\u001b[49m\u001b[38;5;241;43m.\u001b[39;49m\u001b[43mapply_async\u001b[49m\u001b[43m(\u001b[49m\u001b[43mbatch\u001b[49m\u001b[43m,\u001b[49m\u001b[43m \u001b[49m\u001b[43mcallback\u001b[49m\u001b[38;5;241;43m=\u001b[39;49m\u001b[43mcb\u001b[49m\u001b[43m)\u001b[49m\n\u001b[0;32m    780\u001b[0m     \u001b[38;5;66;03m# A job can complete so quickly than its callback is\u001b[39;00m\n\u001b[0;32m    781\u001b[0m     \u001b[38;5;66;03m# called before we get here, causing self._jobs to\u001b[39;00m\n\u001b[0;32m    782\u001b[0m     \u001b[38;5;66;03m# grow. To ensure correct results ordering, .insert is\u001b[39;00m\n\u001b[0;32m    783\u001b[0m     \u001b[38;5;66;03m# used (rather than .append) in the following line\u001b[39;00m\n\u001b[0;32m    784\u001b[0m     \u001b[38;5;28mself\u001b[39m\u001b[38;5;241m.\u001b[39m_jobs\u001b[38;5;241m.\u001b[39minsert(job_idx, job)\n",
      "File \u001b[1;32mD:\\anaconda3\\lib\\site-packages\\joblib\\_parallel_backends.py:208\u001b[0m, in \u001b[0;36mSequentialBackend.apply_async\u001b[1;34m(self, func, callback)\u001b[0m\n\u001b[0;32m    206\u001b[0m \u001b[38;5;28;01mdef\u001b[39;00m \u001b[38;5;21mapply_async\u001b[39m(\u001b[38;5;28mself\u001b[39m, func, callback\u001b[38;5;241m=\u001b[39m\u001b[38;5;28;01mNone\u001b[39;00m):\n\u001b[0;32m    207\u001b[0m     \u001b[38;5;124;03m\"\"\"Schedule a func to be run\"\"\"\u001b[39;00m\n\u001b[1;32m--> 208\u001b[0m     result \u001b[38;5;241m=\u001b[39m \u001b[43mImmediateResult\u001b[49m\u001b[43m(\u001b[49m\u001b[43mfunc\u001b[49m\u001b[43m)\u001b[49m\n\u001b[0;32m    209\u001b[0m     \u001b[38;5;28;01mif\u001b[39;00m callback:\n\u001b[0;32m    210\u001b[0m         callback(result)\n",
      "File \u001b[1;32mD:\\anaconda3\\lib\\site-packages\\joblib\\_parallel_backends.py:572\u001b[0m, in \u001b[0;36mImmediateResult.__init__\u001b[1;34m(self, batch)\u001b[0m\n\u001b[0;32m    569\u001b[0m \u001b[38;5;28;01mdef\u001b[39;00m \u001b[38;5;21m__init__\u001b[39m(\u001b[38;5;28mself\u001b[39m, batch):\n\u001b[0;32m    570\u001b[0m     \u001b[38;5;66;03m# Don't delay the application, to avoid keeping the input\u001b[39;00m\n\u001b[0;32m    571\u001b[0m     \u001b[38;5;66;03m# arguments in memory\u001b[39;00m\n\u001b[1;32m--> 572\u001b[0m     \u001b[38;5;28mself\u001b[39m\u001b[38;5;241m.\u001b[39mresults \u001b[38;5;241m=\u001b[39m \u001b[43mbatch\u001b[49m\u001b[43m(\u001b[49m\u001b[43m)\u001b[49m\n",
      "File \u001b[1;32mD:\\anaconda3\\lib\\site-packages\\joblib\\parallel.py:262\u001b[0m, in \u001b[0;36mBatchedCalls.__call__\u001b[1;34m(self)\u001b[0m\n\u001b[0;32m    258\u001b[0m \u001b[38;5;28;01mdef\u001b[39;00m \u001b[38;5;21m__call__\u001b[39m(\u001b[38;5;28mself\u001b[39m):\n\u001b[0;32m    259\u001b[0m     \u001b[38;5;66;03m# Set the default nested backend to self._backend but do not set the\u001b[39;00m\n\u001b[0;32m    260\u001b[0m     \u001b[38;5;66;03m# change the default number of processes to -1\u001b[39;00m\n\u001b[0;32m    261\u001b[0m     \u001b[38;5;28;01mwith\u001b[39;00m parallel_backend(\u001b[38;5;28mself\u001b[39m\u001b[38;5;241m.\u001b[39m_backend, n_jobs\u001b[38;5;241m=\u001b[39m\u001b[38;5;28mself\u001b[39m\u001b[38;5;241m.\u001b[39m_n_jobs):\n\u001b[1;32m--> 262\u001b[0m         \u001b[38;5;28;01mreturn\u001b[39;00m [func(\u001b[38;5;241m*\u001b[39margs, \u001b[38;5;241m*\u001b[39m\u001b[38;5;241m*\u001b[39mkwargs)\n\u001b[0;32m    263\u001b[0m                 \u001b[38;5;28;01mfor\u001b[39;00m func, args, kwargs \u001b[38;5;129;01min\u001b[39;00m \u001b[38;5;28mself\u001b[39m\u001b[38;5;241m.\u001b[39mitems]\n",
      "File \u001b[1;32mD:\\anaconda3\\lib\\site-packages\\joblib\\parallel.py:262\u001b[0m, in \u001b[0;36m<listcomp>\u001b[1;34m(.0)\u001b[0m\n\u001b[0;32m    258\u001b[0m \u001b[38;5;28;01mdef\u001b[39;00m \u001b[38;5;21m__call__\u001b[39m(\u001b[38;5;28mself\u001b[39m):\n\u001b[0;32m    259\u001b[0m     \u001b[38;5;66;03m# Set the default nested backend to self._backend but do not set the\u001b[39;00m\n\u001b[0;32m    260\u001b[0m     \u001b[38;5;66;03m# change the default number of processes to -1\u001b[39;00m\n\u001b[0;32m    261\u001b[0m     \u001b[38;5;28;01mwith\u001b[39;00m parallel_backend(\u001b[38;5;28mself\u001b[39m\u001b[38;5;241m.\u001b[39m_backend, n_jobs\u001b[38;5;241m=\u001b[39m\u001b[38;5;28mself\u001b[39m\u001b[38;5;241m.\u001b[39m_n_jobs):\n\u001b[1;32m--> 262\u001b[0m         \u001b[38;5;28;01mreturn\u001b[39;00m [func(\u001b[38;5;241m*\u001b[39margs, \u001b[38;5;241m*\u001b[39m\u001b[38;5;241m*\u001b[39mkwargs)\n\u001b[0;32m    263\u001b[0m                 \u001b[38;5;28;01mfor\u001b[39;00m func, args, kwargs \u001b[38;5;129;01min\u001b[39;00m \u001b[38;5;28mself\u001b[39m\u001b[38;5;241m.\u001b[39mitems]\n",
      "File \u001b[1;32mD:\\anaconda3\\lib\\site-packages\\sklearn\\utils\\fixes.py:216\u001b[0m, in \u001b[0;36m_FuncWrapper.__call__\u001b[1;34m(self, *args, **kwargs)\u001b[0m\n\u001b[0;32m    214\u001b[0m \u001b[38;5;28;01mdef\u001b[39;00m \u001b[38;5;21m__call__\u001b[39m(\u001b[38;5;28mself\u001b[39m, \u001b[38;5;241m*\u001b[39margs, \u001b[38;5;241m*\u001b[39m\u001b[38;5;241m*\u001b[39mkwargs):\n\u001b[0;32m    215\u001b[0m     \u001b[38;5;28;01mwith\u001b[39;00m config_context(\u001b[38;5;241m*\u001b[39m\u001b[38;5;241m*\u001b[39m\u001b[38;5;28mself\u001b[39m\u001b[38;5;241m.\u001b[39mconfig):\n\u001b[1;32m--> 216\u001b[0m         \u001b[38;5;28;01mreturn\u001b[39;00m \u001b[38;5;28mself\u001b[39m\u001b[38;5;241m.\u001b[39mfunction(\u001b[38;5;241m*\u001b[39margs, \u001b[38;5;241m*\u001b[39m\u001b[38;5;241m*\u001b[39mkwargs)\n",
      "File \u001b[1;32mD:\\anaconda3\\lib\\site-packages\\sklearn\\pipeline.py:876\u001b[0m, in \u001b[0;36m_transform_one\u001b[1;34m(transformer, X, y, weight, **fit_params)\u001b[0m\n\u001b[0;32m    875\u001b[0m \u001b[38;5;28;01mdef\u001b[39;00m \u001b[38;5;21m_transform_one\u001b[39m(transformer, X, y, weight, \u001b[38;5;241m*\u001b[39m\u001b[38;5;241m*\u001b[39mfit_params):\n\u001b[1;32m--> 876\u001b[0m     res \u001b[38;5;241m=\u001b[39m \u001b[43mtransformer\u001b[49m\u001b[38;5;241;43m.\u001b[39;49m\u001b[43mtransform\u001b[49m\u001b[43m(\u001b[49m\u001b[43mX\u001b[49m\u001b[43m)\u001b[49m\n\u001b[0;32m    877\u001b[0m     \u001b[38;5;66;03m# if we have a weight for this transformer, multiply output\u001b[39;00m\n\u001b[0;32m    878\u001b[0m     \u001b[38;5;28;01mif\u001b[39;00m weight \u001b[38;5;129;01mis\u001b[39;00m \u001b[38;5;28;01mNone\u001b[39;00m:\n",
      "File \u001b[1;32mD:\\anaconda3\\lib\\site-packages\\sklearn\\preprocessing\\_encoders.py:509\u001b[0m, in \u001b[0;36mOneHotEncoder.transform\u001b[1;34m(self, X)\u001b[0m\n\u001b[0;32m    507\u001b[0m \u001b[38;5;66;03m# validation of X happens in _check_X called by _transform\u001b[39;00m\n\u001b[0;32m    508\u001b[0m warn_on_unknown \u001b[38;5;241m=\u001b[39m \u001b[38;5;28mself\u001b[39m\u001b[38;5;241m.\u001b[39mhandle_unknown \u001b[38;5;241m==\u001b[39m \u001b[38;5;124m\"\u001b[39m\u001b[38;5;124mignore\u001b[39m\u001b[38;5;124m\"\u001b[39m \u001b[38;5;129;01mand\u001b[39;00m \u001b[38;5;28mself\u001b[39m\u001b[38;5;241m.\u001b[39mdrop \u001b[38;5;129;01mis\u001b[39;00m \u001b[38;5;129;01mnot\u001b[39;00m \u001b[38;5;28;01mNone\u001b[39;00m\n\u001b[1;32m--> 509\u001b[0m X_int, X_mask \u001b[38;5;241m=\u001b[39m \u001b[38;5;28;43mself\u001b[39;49m\u001b[38;5;241;43m.\u001b[39;49m\u001b[43m_transform\u001b[49m\u001b[43m(\u001b[49m\n\u001b[0;32m    510\u001b[0m \u001b[43m    \u001b[49m\u001b[43mX\u001b[49m\u001b[43m,\u001b[49m\n\u001b[0;32m    511\u001b[0m \u001b[43m    \u001b[49m\u001b[43mhandle_unknown\u001b[49m\u001b[38;5;241;43m=\u001b[39;49m\u001b[38;5;28;43mself\u001b[39;49m\u001b[38;5;241;43m.\u001b[39;49m\u001b[43mhandle_unknown\u001b[49m\u001b[43m,\u001b[49m\n\u001b[0;32m    512\u001b[0m \u001b[43m    \u001b[49m\u001b[43mforce_all_finite\u001b[49m\u001b[38;5;241;43m=\u001b[39;49m\u001b[38;5;124;43m\"\u001b[39;49m\u001b[38;5;124;43mallow-nan\u001b[39;49m\u001b[38;5;124;43m\"\u001b[39;49m\u001b[43m,\u001b[49m\n\u001b[0;32m    513\u001b[0m \u001b[43m    \u001b[49m\u001b[43mwarn_on_unknown\u001b[49m\u001b[38;5;241;43m=\u001b[39;49m\u001b[43mwarn_on_unknown\u001b[49m\u001b[43m,\u001b[49m\n\u001b[0;32m    514\u001b[0m \u001b[43m\u001b[49m\u001b[43m)\u001b[49m\n\u001b[0;32m    516\u001b[0m n_samples, n_features \u001b[38;5;241m=\u001b[39m X_int\u001b[38;5;241m.\u001b[39mshape\n\u001b[0;32m    518\u001b[0m \u001b[38;5;28;01mif\u001b[39;00m \u001b[38;5;28mself\u001b[39m\u001b[38;5;241m.\u001b[39mdrop_idx_ \u001b[38;5;129;01mis\u001b[39;00m \u001b[38;5;129;01mnot\u001b[39;00m \u001b[38;5;28;01mNone\u001b[39;00m:\n",
      "File \u001b[1;32mD:\\anaconda3\\lib\\site-packages\\sklearn\\preprocessing\\_encoders.py:142\u001b[0m, in \u001b[0;36m_BaseEncoder._transform\u001b[1;34m(self, X, handle_unknown, force_all_finite, warn_on_unknown)\u001b[0m\n\u001b[0;32m    137\u001b[0m \u001b[38;5;28;01mif\u001b[39;00m handle_unknown \u001b[38;5;241m==\u001b[39m \u001b[38;5;124m\"\u001b[39m\u001b[38;5;124merror\u001b[39m\u001b[38;5;124m\"\u001b[39m:\n\u001b[0;32m    138\u001b[0m     msg \u001b[38;5;241m=\u001b[39m (\n\u001b[0;32m    139\u001b[0m         \u001b[38;5;124m\"\u001b[39m\u001b[38;5;124mFound unknown categories \u001b[39m\u001b[38;5;132;01m{0}\u001b[39;00m\u001b[38;5;124m in column \u001b[39m\u001b[38;5;132;01m{1}\u001b[39;00m\u001b[38;5;124m\"\u001b[39m\n\u001b[0;32m    140\u001b[0m         \u001b[38;5;124m\"\u001b[39m\u001b[38;5;124m during transform\u001b[39m\u001b[38;5;124m\"\u001b[39m\u001b[38;5;241m.\u001b[39mformat(diff, i)\n\u001b[0;32m    141\u001b[0m     )\n\u001b[1;32m--> 142\u001b[0m     \u001b[38;5;28;01mraise\u001b[39;00m \u001b[38;5;167;01mValueError\u001b[39;00m(msg)\n\u001b[0;32m    143\u001b[0m \u001b[38;5;28;01melse\u001b[39;00m:\n\u001b[0;32m    144\u001b[0m     \u001b[38;5;28;01mif\u001b[39;00m warn_on_unknown:\n",
      "\u001b[1;31mValueError\u001b[0m: Found unknown categories ['010XX S Claremont AVE', '054XX S Woodlawn ave', '021XX W Concord Pl', '046XX N Beacon St', '057XX N OSAGE AVE', '032XX N Hoyne Ave', '006XX W 21ST ST', '014XX W 116TH ST', '012XX W Waveland Ave', '027XX N Clark ST', '040XX W Lake st', '049XX N kimball ave', '050XX S Lavergne Ave', '103XX S Commercial Ave', '051XX S Kimbark ave', '010XX N Winchester Ave', '102XX S TALMAN AVE', '070XX N HAMILTON AVE', '004XX N MARSHFIELD AVE', '031XX N Octavia Ave', '001XX W RIVERWALK S', '017XX N LAKE SHORE DR NB', '036XX N PANAMA AVE', '039XX W 110TH ST', '000XX E 121ST PL', '078XX W CORNELIA AVE', '009XX W Wrightwood Ave', '063XX N Kenmore Ave', '062XX S HAMILTON AVE', '028XX S LA SALLE ST', '022XX S LAKE SHORE DR E', '015XX W 109TH ST', '092XX S Blackstone Ave', '129XX S STONY ISLAND AVE', '021XX W SCHOOL ST', '027XX W DAKIN ST', '025XX W HOLLYWOOD AVE', '022XX N LAKE SHORE DR SB', '018XX N Natchez ave', '029XX S CALIFORNIA BLVD', '035XX W ALTGELD ST', '005XX S CONGRESS PLAZA DR', '057XX W WABANSIA AVE', '036XX W Leland Ave', '107XX S LONGWOOD DR', '037XX N LAKE SHORE DR SB', '012XX W EISENHOWER EXPY OB', '040XX E 107TH ST', '074XX S ST LOUIS AVE', '021XX N LAKE SHORE DR NB', '023XX W Arthur Ave', '040XX S WELLS ST', '018XX S Michigan Ave', '007XX W 46TH PL', '047XX N Sheridan Rd', '130XX S BISHOP FORD EXPY IB', '029XX W REDFIELD DR', '011XX N Cleveland Ave', '074XX W CORNELIA AVE', '050XX N Lincoln Ave', '002XX E 77th St', '033XX W Schubert Ave', '013XX W BLACKHAWK ST', '070XX N Greenview Ave', '057XX S BELL AVE', '037XX W Wrightwood Ave', '003XX W Chestnut St', '011XX E 59TH ST', '044XX W THORNDALE AVE', '017XX W 37TH ST', '017XX W 106TH ST', '025XX E 108TH ST', '045XX W CARROLL AVE', '0000X S Ashland ave', '013XX W 105TH PL', '004XX E Ohio St', '029XX E 132ND ST', '102XX S Oakley Ave', '073XX N OLEANDER AVE', '054XX S CORNELL ave', '036XX W 115TH PL', '011XX W Chestnut St', '043XX W 50TH ST', '029XX N Commonwealth Ave', '080XX S WALLACE ST', '069XX N Clark St', '037XX E 110TH ST', '031XX S WOLCOTT AVE', '0000X E IDA B WELLS DR', '004XX E Oakwood Blvd', '110XX S DOTY AVE E', '068XX S BENNETT AVE', '114XX S BELL AVE', '026XX W 31ST ST', '077XX W PETERSON AVE', '010XX W Oakdale ave', '047XX N Ravenswood ave', '043XX W NORWOOD AVE', '104XX S SEELEY AVE', '038XX W 48TH ST', '044XX W 82ND ST', '027XX W ADDISON ST', '033XX N Lincoln Ave', '041XX N PAULINA ST', '003XX S SPAULDING AVE', '017XX E 55th St', '031XX S EBERHART AVE', '045XX N Winchester Ave', '113XX S SPAULDING AVE', '030XX N Clark St', '026XX N Washtenaw Ave', '009XX S LA SALLE ST', '056XX W BELLE PLAINE AVE', '054XX N FRANCISCO AVE', '055XX N LOWELL AVE', '100XX S RACINE AVE', '007XX W CONCORD PL', '029XX W BURKHARDT DR', '005XX E WACKER DR', '044XX S MORGAN ST', '041XX N Campbell Ave', '0000X S LOWER WACKER DR', '012XX W GLADYS AVE', '018XX W Cuyler Ave', '028XX W 54TH ST', '016XX W Fullerton Ave', '017XX W Rascher Ave', '083XX S DAN RYAN EXPY OB', '069XX S HOLLETT DR', '001XX E 134TH ST', '031XX W 46TH ST', '071XX N CALDWELL AVE', '016XX E 84th St', '026XX N Greenview Ave', '054XX W GALE ST', '030XX N Sheridan Rd', '021XX W Grand Ave', '042XX W VICTORIA ST', '018XX N Monticello Ave', '042XX W 25TH PL', '031XX W Irving Park RD', '009XX N Ashland Ave', '015XX W BERTEAU AVE', '061XX S Western Ave', '046XX W WALTON ST', '013XX W 37TH ST', '009XX W Belmont Ave', '052XX W Addison St', '010XX W 99TH ST', '008XX E 99TH ST', '034XX E 103RD ST', '008XX N ALBANY AVE', '072XX W CORNELIA AVE', '014XX W Grand Ave', '026XX N Lakeview Ave', '006XX W Hubbard St', '026XX W FRANCIS PL', '007XX W Fulton Market', '084XX S ANTHONY AVE', '014XX W touhy ave', '004XX W 73RD ST', '060XX W Lawrence Ave', '028XX N LAKE SHORE DR NB', '024XX S LAKE SHORE DR W', '063XX S LAWLER AVE', '039XX N Ashland Ave', '080XX W BERWYN AVE', '014XX W Balmoral Ave', '002XX E 15TH PL', '050XX N CUMBERLAND AVE', '015XX S Albany Ave', '008XX S wells st', '031XX N Karlov Ave', '0000X W 33RD ST', '095XX S HAMILTON AVE', '088XX S KINGSTON AVE', '013XX W Argyle St', '035XX S DR MARTIN LUTHER KING JR SD', '017XX S KOSTNER AVE', '026XX E 122ND ST', '035XX N Racine Ave', '063XX S DAN RYAN LOCAL IB', '121XX S AVENUE O', '053XX S KARLOV AVE', '053XX W HUTCHINSON ST', '019XX N LEAMINGTON AVE', '034XX N SAYRE AVE', '132XX S DOTY AVE W', '066XX S CENTRAL PARK AVE', '026XX E 82ND ST', '009XX E 111TH ST', '055XX W ROOSEVELT RD', '007XX E MIDWAY PLAISANCE', '007XX W Cornelia Ave', '019XX N Lincoln ave', '031XX N Wolcott Ave', '008XX W 110TH ST', '037XX S MAY ST', '063XX N IONIA AVE', '051XX S MEADE AVE', '087XX S GREENWOOD AVE', '013XX W PERSHING RD', '038XX N Hoyne Ave', '063XX N MERRIMAC AVE', '007XX W 128TH PL', '057XX N LEONARD AVE', '079XX S HAMLIN AVE', '012XX E 70TH ST', '058XX S KILPATRICK AVE', '111XX S CHURCH ST', '028XX W MANN DR', '111XX S LOTHAIR AVE', '029XX S AVERS AVE', '011XX E 60TH ST', '020XX N LAKE SHORE DR SB', '067XX S HOYNE AVE', '005XX S PAULINA ST', '005XX E 108TH ST', '060XX N KEDZIE AVE', '007XX E 61st St', '037XX W 114TH ST', '001XX N State ST', '057XX N Ashland Ave', '069XX N sheridan rd', '075XX W CHASE AVE', '051XX N Damen Ave', '004XX E 18th dr', '003XX E WACKER SUB DR', '101XX S TALMAN AVE', '004XX S DESPLAINES ST', '0000X E Grand Ave', '029XX W Balmoral Ave', '029XX N SAYRE AVE', '002XX W OAK ST', '012XX W 37TH ST', '073XX N KEDZIE AVE', '058XX S Maryland Ave', '065XX S Ellis Ave', '007XX W 14th St', '057XX S KARLOV AVE', '026XX W Belden Ave', '004XX N Artesian Ave', '072XX W NORTH SHORE AVE', '049XX N NORMANDY AVE', '042XX W 48TH ST', '057XX S COLUMBIA DR', '079XX W IRVING PARK RD', '002XX E 85TH ST', '056XX W Division St', '026XX W 13TH PL', '018XX N Bissell St', '008XX W 64TH ST', '056XX N OSCEOLA AVE', '017XX W Belmont Ave', '011XX E 132ND ST', '061XX N BERNARD ST', '027XX N Wilton Ave', '039XX N NEENAH AVE', '012XX E 48TH ST', '038XX W 109TH PL', '023XX W 33RD ST', '073XX N MC VICKER AVE', '027XX E 82ND ST', '011XX N RUSH ST', '001XX W 96TH ST', '011XX W George St', '025XX W 119TH ST', '004XX W 93RD ST', '089XX S PRAIRIE AVE', '031XX N PAULINA ST', '046XX W 46TH ST', '105XX S DREW ST', '033XX N Seminary Ave', '006XX W Wayman St', '036XX W BARRY AVE', '038XX N Fremont St', '009XX N Leavitt St', '051XX W 49TH ST', '070XX W DEVON AVE', '028XX W SUNNYSIDE AVE', '025XX W addison st', '132XX S Carondolet Ave', '134XX S DR MARTIN LUTHER KING JR DR', '015XX N LUIS MUNOZ MARIN DR E', '044XX W ANN LURIE PL', '021XX N Elston Ave', '059XX S MC VICKER AVE', '003XX W 46TH PL', '016XX E MIDWAY PLAISANCE', '020XX W LAKE ST', '007XX S Campbell Ave', '047XX W 49TH ST', '008XX N Clark St', '024XX W Foster Ave', '027XX W Giddings St', '024XX S STEWART AVE', '077XX W ROSCOE ST', '076XX S Coles ave', '062XX N FOREST GLEN AVE', '008XX W Erie st', '077XX W DEVON AVE', '054XX S MILLARD AVE', '060XX N Sheridan Rd', '008XX S ADA ST', '013XX W Fulton ST', '037XX W 72ND ST', '055XX S Keeler Ave', '048XX N Talman Ave', '020XX E 94TH ST', '059XX N CALDWELL AVE', '051XX N LARAMIE AVE', '047XX N Kedvale Ave', '024XX N Kedzie Blvd', '079XX S OAKLEY AVE', '070XX S CENTRAL PARK AVE', '002XX W 27TH ST', '043XX N KILPATRICK AVE', '017XX W Highland Ave', '042XX S KEELER AVE', '007XX W Maxwell St', '068XX W 53RD ST', '0000X S WASHTENAW AVE', '020XX S PEORIA ST', '036XX S WESTERN BLVD', '003XX E 101ST ST', '066XX W BERWYN AVE', '005XX W 77TH ST', '007XX W 126TH ST', '019XX W 119TH ST', '083XX S KOMENSKY AVE', '066XX N OLYMPIA AVE', '001XX E 98TH ST', '034XX W 31ST ST', '007XX E MORGAN DR', '025XX S LOOMIS ST', '008XX N Rush St', '031XX W Grand Ave', '024XX W 102ND ST', '065XX N ridge blvd', '003XX W 125TH ST', '001XX E 102ND ST', '010XX W Polk st', '094XX S GREENWOOD AVE', '017XX S DAMEN AVE', '033XX S FEDERAL ST', '011XX E 76TH ST', '005XX W 63RD PL', '060XX N Winthrop Ave', '003XX E 100TH ST', '029XX W JARLATH ST', '074XX S GREENWOOD AVE', '107XX S HOYNE AVE', '059XX S DAN RYAN LOCAL OB', '063XX N KNOX AVE', '032XX W 110TH ST', '022XX W 112TH ST', '017XX W NEWPORT AVE', '057XX N Elston Ave', '053XX S MELVINA AVE', '057XX N KERCHEVAL AVE', '084XX W LAWRENCE AVE', '133XX S AVENUE L', '020XX W Pierce Ave', '005XX S LEAVITT ST', '028XX W Sunnyside Ave', '068XX S HOLLETT DR', '012XX E 49TH ST', '012XX E 81ST ST', '057XX S MERRIMAC AVE', '065XX N ALGONQUIN AVE', '030XX W 104TH ST', '067XX W WRIGHTWOOD AVE', '030XX N hamilton ave', '033XX N MEADE AVE', '048XX N MARMORA AVE', '037XX W 51ST ST', '045XX W PETERSON AVE', '071XX W FOREST PRESERVE AVE', '048XX N NAGLE AVE', '042XX N AVERS AVE', '031XX W 108TH ST', '0000X W Chestnut St', '006XX N Wolcott Ave', '090XX S HOLLAND RD', '072XX W BRYN MAWR AVE', '026XX W Chicago Ave', '0000X E Adams St', '067XX N FAIRFIELD AVE', '008XX W Windsor Ave', '029XX N Dawson Ave', '062XX N Nagle Ave', '057XX S PERRY AVE', '007XX W COURT PL', '042XX S WHIPPLE ST', '085XX S Lafayette Ave', '043XX W BERWYN AVE', '064XX N Albany Ave', '062XX S CENTRAL PARK AVE', '084XX S WHIPPLE ST', '012XX W Hubbard St', '008XX W WISCONSIN ST', '062XX S NEENAH AVE', '043XX W WELLINGTON AVE', '025XX W 72ND ST', '045XX W WILSON AVE', '056XX W 60TH ST', '0000X E Monroe St', '060XX W CORNELIA AVE', '0000X E Scott St', '004XX W 46TH PL', '054XX N Campbell Ave', '005XX W Dickens Ave', '050XX W BERWYN AVE', '008XX S LARAMIE AVE', '034XX N DRAKE AVE', '076XX W CORNELIA AVE', '050XX S LEAVITT ST', '053XX S Greenwood Ave', '098XX S Avenue J', '089XX S OAKLEY AVE', '064XX S SPAULDING AVE', '053XX W Argyle St', '013XX W Wilson Ave', '056XX S Narragansett Ave', '047XX W WALTON ST', '019XX W WASHBURNE AVE', '027XX W Augusta Blvd', '0000X N WOLCOTT AVE', '045XX S Vincennes Ave', '013XX E 55TH PL', '077XX W FARGO AVE', '034XX N Marshfield Ave', '017XX W AINSLIE ST', '047XX S KENWOOD AVE', '043XX W 57TH ST', '007XX S Plymouth Ct', '114XX S LAWNDALE AVE', '061XX S Greenwood Ave', '040XX S NORMAL AVE', '083XX S KOLMAR AVE', '035XX W cortland st', '005XX S FRANKLIN ST', '093XX S HAMILTON AVE', '016XX W Division St', '010XX S Clinton St', '033XX E 133RD ST', '116XX S ST LOUIS AVE', '042XX S LAKE SHORE DR SB', '019XX W irving park rd', '005XX W 109TH ST', '078XX W GLENLAKE AVE', '064XX S Kimbark Ave', '0000X E 98TH ST', '067XX N RICHMOND ST', '002XX W 46TH ST', '080XX S CENTRAL PARK AVE', '044XX S LAPORTE AVE', '130XX S BISHOP FORD EXPY OB', '005XX N STATE St', '037XX W 107TH ST', '047XX N CHESTER AVE', '110XX S CALIFORNIA AVE', '004XX W MONROE ST', '112XX S BELL AVE', '002XX W 48TH PL', '003XX S JENSEN BLVD', '043XX N Hermitage Ave', '018XX E 80TH ST', '022XX W Byron St', '004XX W 45TH PL', '031XX N clark st', '088XX S VINCENNES AVE', '060XX N BERNARD ST', '0000X W C17 ST', '009XX S PAULINA ST', '010XX W 101ST ST', '002XX N Pine Ave', '033XX W 85TH PL', '016XX N Dayton St', '073XX N CALIFORNIA AVE', '029XX W 103RD ST', '004XX W Roslyn Pl', '010XX S MORGAN ST', '126XX S BUTLER DR', '010XX W Cornelia Ave', '006XX W Schubert Ave', '007XX E 134TH PL', '044XX W 81ST ST', '062XX S LARAMIE AVE', '009XX W Waveland Ave', '013XX W BELLE PLAINE AVE', '018XX E MARQUETTE DR', '027XX N Clybourn Ave', '069XX W FOSTER AVE', '046XX N Clark St', '100XX S AVENUE G DR', '110XX S STONY ISLAND AVE', '026XX W Carmen ave', '012XX W Wellington Ave', '070XX S CICERO AVE', '061XX N Keeler Ave', '058XX N INDIAN RD', '009XX W 127TH ST', '045XX W HUTCHINSON AVE', '080XX W GRACE ST', '007XX W 118TH PL', '037XX N Fremont St', '003XX S LOWER WACKER DR', '033XX W 53RD ST', '041XX N Claremont Ave', '108XX S PRINCETON AVE', '019XX W WEBSTER AVE', '021XX N Oakley Ave', '073XX W PRATT AVE', '030XX E 88TH ST', '094XX S VINCENNES AVE', '019XX W 107TH ST', '032XX S FEDERAL ST', '078XX W RASCHER AVE', '036XX N MEADE AVE', '030XX W Diversey Ave', '025XX W SCHUBERT AVE', '108XX S LAWNDALE AVE', '019XX W Lawrence Ave', '111XX S ARTESIAN AVE', '044XX W HOLLYWOOD AVE', '057XX N MANNHEIM RD', '085XX W WILSON AVE', '0000X W superior st', '010XX W 54TH ST', '017XX W 102ND ST', '031XX N Karlov ave', '024XX W 82ND ST', '026XX E 106TH ST', '023XX W 94TH ST', '017XX W Ainslie st', '034XX S WABASH AVE', '012XX N campbell ave', '092XX S VINCENNES AVE', '030XX E 82ND ST', '081XX W SCHOOL ST', '019XX E 80TH ST', '034XX E 108TH ST', '017XX E 90TH ST', '088XX S CHICAGO SKYWAY OB', '031XX N Clybourn Ave', '078XX W ROSCOE ST', '017XX W 97th St', '031XX N ALBANY AVE', '008XX W 14th Pl', '063XX S ST LOUIS AVE', '013XX W 116TH ST', '061XX N LANDERS AVE', '086XX S Drexel Ave', '050XX N Sheridan RD', '002XX N Jefferson st', '020XX W 13TH ST', '072XX W BYRON ST', '010XX E 46th st', '004XX E HURON ST', '136XX S AVENUE O', '012XX W Albion Ave', '024XX W 113TH ST', '062XX W HYACINTH ST', '002XX N FIELD BLVD', '0000X E Lake St', '054XX S MOBILE AVE', '028XX W GEORGE ST', '018XX S CLINTON ST', '004XX W 44TH ST', '017XX W HASTINGS ST', '028XX W 15TH PL', '046XX N Beacon ST', '044XX N Greenview Ave', '032XX N LAKE SHORE DR SB', '025XX E 100TH ST', '017XX S HOYNE AVE', '108XX S BELL AVE', '071XX W SCHOOL ST', '000XX W 87TH ST', '044XX N California Ave', '016XX W Julian St', '055XX N PULASKI RD', '016XX N NORDICA AVE', '063XX W PALMER ST', '016XX N Harding ave', '008XX W 108TH ST', '027XX S SHIELDS AVE', '012XX W Carmen Ave', '023XX W CORNELIA AVE', '014XX W CORTLAND ST', '029XX W SEIPP ST', '060XX S MULLIGAN AVE', '052XX W 51ST ST', '031XX N Clark St', '037XX W 104TH ST', '057XX N KARLOV AVE', '058XX W ARDMORE AVE', '013XX E 76th st', '014XX W Lexington St', '008XX W 40TH ST', '002XX S WINCHESTER AVE', '049XX W 44TH PL', '061XX S HOMAN AVE', '002XX N LOWER COLUMBUS DR', '027XX W 36TH PL', '013XX E 76Th St', '006XX W 97TH ST', '013XX W Fletcher St', '025XX N Bosworth Ave', '006XX W 88TH ST', '043XX W 44TH ST', '065XX N CHICORA AVE', '126XX S AVENUE O', '017XX W Cullerton St', '100XX S Normal Ave', '023XX W RIVER LOFT CT', '023XX N Lincoln Park West', '013XX E 54th St', '069XX W WAVELAND AVE', '027XX W 48TH ST', '003XX W 99TH ST', '065XX W CORNELIA AVE', '100XX S HAMILTON AVE', '008XX W 35TH PL', '005XX E 138TH ST', '006XX W 105TH ST', '032XX N Elston Ave', '036XX S OAKLEY AVE', '034XX N Elaine PL', '098XX S HARPER AVE', '051XX S LAVERGNE AVE', '022XX W Ainslie ST', '010XX S SACRAMENTO BLVD', '033XX N NATOMA AVE', '007XX W 52ND ST', '022XX W 57TH ST', '044XX N Leavitt St', '043XX W GRACE ST', '006XX S HERMITAGE AVE', '115XX S HOMAN AVE', '021XX N Halsted St', '055XX S MARYLAND AVE', '045XX W SCHOOL ST', '042XX N Tripp Ave', '006XX W Wellington Ave', '032XX N OCTAVIA AVE', '001XX W hubbard st', '035XX S Lowe Ave', '008XX W Chicago Ave', '007XX S LOCKWOOD AVE', '006XX E ILLINOIS ST', '024XX N DAMEN AVE', '017XX S PULASKI RD', '022XX N Washtenaw Ave', '004XX W Division St', '070XX N OAKLEY AVE', '013XX N LAKE SHORE DR NB', '043XX W 85TH ST', '007XX W EASTMAN ST', '026XX W 86TH ST', '057XX N Jersey Ave', '032XX E 85TH ST', '058XX N EAST CIRCLE AVE', '027XX E 88TH ST', '0000X W Ontario St', '031XX W SCHOOL ST', '131XX S GREENWOOD AVE', '074XX W TOUHY AVE', '039XX S RACINE AVE', '018XX N KINGSBURY ST', '039XX S FEDERAL ST', '007XX E 120TH ST', '026XX W Pershing Rd', '040XX W Melrose st', '074XX W ROSCOE ST', '122XX S JUSTINE ST', '064XX S NATCHEZ AVE', '039XX S EMERALD AVE', '014XX W LE MOYNE ST', '043XX W 27TH ST', '037XX W SCHRAEDER DR', '004XX E GARFIELD BLVD', '023XX W OAKDALE AVE', '0000X N DESPLAINES ST', '067XX S CHICAGO SKYWAY IB', '060XX S MOODY AVE', '013XX W Randolph St', '062XX N KILPATRICK AVE', '007XX W Couch PL', '004XX W 63RD PL', '062XX N GREENVIEW AVE', '025XX N KEDZIE SD', '033XX N Oakley ave', '013XX W 113TH PL', '002XX N MOZART ST', '028XX W 45TH ST', '013XX W Elmdale Ave', '051XX W HOMER ST', '0000X E Jackson Blvd', '017XX S MUSEUM CAMPUS DR', '045XX W ROSCOE ST', '005XX W Quincy St', '014XX W Lunt Ave', '074XX N Hoyne Ave', '054XX S Kimbark Ave', '057XX S Kenneth Ave', '008XX E 105TH ST', '006XX W Cornelia Ave', '052XX N OKETO AVE', '048XX S FEDERAL ST', '028XX W 77TH ST', '011XX W Roscoe st', '064XX N LE MAI AVE', '042XX N Central Park Ave', '063XX N Wayne Ave', '0000X N WOOD ST', '060XX N kenmore ave', '060XX S KIMBARK AVE', '041XX W 85TH ST', '059XX N WEST CIRCLE AVE', '066XX N OSHKOSH AVE', '029XX W 86TH PL', '029XX W JEROME ST', '027XX W FARGO AVE', '040XX W 81ST PL', '077XX S Avalon Ave', '041XX S KEELER AVE', '023XX E 92ND PL', '026XX W chicago ave', '006XX W Wayman st', '033XX W 114TH ST', '060XX S Richmond St', '021XX W 18th St', '014XX W 122ND ST', '026XX E 104TH ST', '054XX W EDMUNDS ST', '027XX S WELLS ST', '055XX N MEADE AVE', '032XX N ANCHOR DR', '022XX W Wilson Ave', '059XX S AUSTIN AVE', '030XX W 79TH ST', '090XX S WESTERN AVE', '101XX S CENTRAL PARK AVE', '114XX S AVENUE G', '047XX S Dorchester Ave', '014XX E 64TH ST', '049XX S AVERS AVE', '035XX N KARLOV AVE', '008XX W EISENHOWER EXPY OB', '019XX N lincoln ave', '015XX W Hubbard St', '005XX E KENSINGTON AVE', '007XX W 34TH ST', '024XX W BRADLEY PL', '043XX N MANNHEIM RD', '019XX W 117TH ST', '027XX W ALTGELD ST', '107XX S AVERS AVE', '010XX E 78TH ST', '046XX W 55TH ST', '001XX S SPAULDING AVE', '057XX W POTOMAC AVE', '022XX W PETERSON AVE', '005XX E 85TH ST', '063XX W Huntington st', '029XX W MANN DR', '047XX S DAN RYAN LOCAL IB', '130XX S RHODES AVE', '024XX W Lunt Ave', '109XX S ST LOUIS AVE', '041XX W Oakdale ave', '052XX W DEVON AVE', '025XX S Michigan Ave', '016XX N LAKE SHORE DR SB', '039XX S LOWE AVE', '071XX N MERRIMAC AVE', '011XX S FAIRFIELD AVE', '019XX S Michigan Ave', '038XX W 115TH ST', '048XX S ST LOUIS AVE', '063XX N Broadway', '088XX S CHICAGO SKYWAY IB', '063XX N CALDWELL AVE', '050XX S VINCENNES AVE', '037XX N Troy St', '086XX S KILBOURN AVE', '065XX W BYRON ST', '027XX W Montrose Ave', '090XX S PRAIRIE AVE', '059XX S RUSSELL DR', '037XX N Central Park Ave', '019XX W KINZIE ST', '126XX S DOTY AVE E', '004XX E BEST DR', '013XX N NORTH PARK AVE', '022XX W 87TH ST', '018XX N HUMBOLDT SD', '062XX N WINCHESTER AVE', '022XX W BLOOMINGDALE AVE', '025XX W Winnemac Ave', '000XX N KEDZIE AVE', '015XX E 81ST ST', '010XX S Columbus Dr', '023XX N Southport Ave', '009XX W HOLLYWOOD AVE', '005XX W 128TH PL', '066XX N OCTAVIA AVE', '077XX W HOWARD ST', '119XX S ADA ST', '034XX E 112TH ST', '053XX S Harlem Ave', '063XX N LA CROSSE AVE', '051XX N OVERHILL AVE', '041XX N OAK PARK AVE', '028XX N Drake Ave', '0000X W TOOKER PL', '078XX W FOSTER AVE', '057XX N NEWCASTLE AVE', '058XX S Natchez Ave', '130XX S BUFFALO AVE', '037XX N HAMLIN AVE', '052XX W SUNNYSIDE AVE', '007XX W 97TH ST', '060XX W GEORGE ST', '019XX N Orchard St', '036XX S LA SALLE ST', '0000X E CHICAGO RIVER', '008XX E 106TH ST', '027XX N Lincoln Ave', '029XX N OAKLEY AVE', '015XX N leavitt st', '018XX N LAKE SHORE DR SB', '022XX N RACINE AVE', '034XX N Clark St', '015XX W fargo ave', '021XX W Huron St', '018XX N Kedzie Ave', '041XX S KARLOV AVE', '045XX N Broadway', '054XX N MAGNET AVE', '0000X S DOOR 3 ST', '028XX W REDFIELD DR', '066XX N CENTRAL AVE', '009XX N DEWITT PL', '013XX S Canal St', '0000X N State st', '063XX N OLCOTT AVE', '035XX N Fremont St', '048XX N OAK PARK AVE', '042XX W 84TH ST', '042XX S DAN RYAN LOCAL OB', '135XX S FOREST AVE', '018XX W 85TH ST', '074XX W EVERELL AVE', '014XX S sacramento dr', '040XX W SCHUBERT AVE', '018XX W Augusta Blvd', '011XX E 63RD ST', '017XX E 91ST ST', '065XX W RAVEN ST', '013XX S INDIANA PKWY', '107XX S RACINE AVE', '064XX S Central Ave', '041XX S PACKERS AVE', '006XX W 25TH PL', '064XX W Irving park rd', '068XX N MINNETONKA AVE', '072XX W GRACE ST', '104XX S ST LOUIS AVE', '054XX N CANFIELD AVE', '047XX W 72ND ST', '046XX N DELPHIA AVE', '011XX W 58TH ST', '005XX N Marshfield Ave', '025XX S ARTESIAN AVE', '082XX W MONTROSE AVE', '039XX W 76TH ST', '024XX E 90TH ST', '020XX N KENNEDY EXPY OB', '021XX W Walton St', '013XX S Michigan Ave', '020XX W SCHOOL ST', '021XX E 130TH ST', '032XX W 109TH ST', '029XX N GREENVIEW AVE', '034XX W 87TH ST', '039XX N Fremont St', '042XX W 19TH ST', '012XX S Indiana Ave', '011XX W Webster Ave', '026XX N Cannon dr', '066XX S SPRINGFIELD AVE', '027XX S Sawyer Ave', '044XX W ARGYLE ST', '004XX W Surf St', '031XX W ALBION AVE', '039XX E 105TH ST', '013XX W 84TH ST', '044XX W 46TH ST', '008XX W Van Buren St', '029XX S TROY ST', '028XX W 47TH PL', '052XX N Leamington Ave', '031XX N MEADE AVE', '011XX E 75TH ST', '031XX W Fullerton Ave', '003XX E 99TH PL', '006XX E 107TH ST', '003XX W Willow St', '023XX W 101ST ST', '008XX W 63RD PKWY', '091XX S MUSKEGON AVE', '051XX W Carmen Ave', '025XX W ARDMORE AVE', '014XX W Pratt Blvd', '005XX W 82ND ST', '004XX W Huron st', '049XX N lincoln ave', '047XX W 50TH ST', '006XX E RAINEY DR', '0000X S B17 ST', '013XX W 122ND ST', '083XX S WHIPPLE ST', '072XX S PULASKI RD', '060XX S CORNELL DR', '014XX S MCCORMICK PL BUSWAY', '047XX N NARRAGANSETT AVE', '048XX N Winchester Ave', '053XX S Laflin st', '024XX N Oakley Ave', '032XX W 108TH PL', '117XX S Western Ave', '032XX N Ashland Ave', '0000X W 23RD ST', '038XX S DEARBORN ST', '014XX W Morse Ave', '083XX S LAKE SHORE DR', '008XX N wood st', '011XX W 76th St', '043XX W 53RD ST', '019XX E 82ND ST', '017XX W Morse Ave', '099XX S PULASKI RD', '075XX S ROCKWELL ST', '119XX S PEORIA ST', '060XX S DAN RYAN LOCAL IB', '134XX S BRAINARD AVE', '103XX S SPRINGFIELD AVE', '066XX S HOMAN AVE', '006XX W Grace St', '055XX S Indiana ave', '010XX W 37TH ST', '020XX N Kedzie Ave', '079XX S KILDARE AVE', '059XX N MILTIMORE AVE', '013XX E 130TH ST', '060XX S OAK PARK AVE', '034XX W BARRY AVE', '061XX W LAWRENCE AVE', '037XX W Palmer St', '021XX N LAKEWOOD AVE', '014XX W 89TH ST', '019XX S KILBOURN AVE', '026XX W 115TH ST', '008XX N Hoyne Ave', '045XX N Ashland Ave', '026XX E 85TH ST', '027XX W Lunt Ave', '041XX N Sheridan Rd', '023XX N lincoln ave', '055XX S NORDICA AVE', '022XX W 65TH ST', '012XX W CORTEZ ST', '001XX N LOOMIS ST', '071XX S Campbell Ave', '017XX N Campbell ave', '003XX N Desplaines St', '004XX S LEAMINGTON AVE', '030XX W Sherwin Ave', '062XX N HARLEM AVE', '023XX W WINONA ST', '044XX N Ravenswood Ave', '008XX N LESSING ST', '064XX W HOBART AVE', '082XX W CATHERINE AVE', '079XX S SAWYER AVE', '015XX W 118TH ST', '061XX S YALE AVE', '024XX W Chicago Ave', '013XX N Paulina St', '118XX S STONY ISLAND AVE', '037XX W GRANVILLE AVE', '038XX W Devon Ave', '098XX S WENTWORTH AVE', '015XX S PAULINA ST', '005XX W 89TH ST', '049XX N JANSSEN AVE', '003XX E 119TH PL', '050XX W 52ND ST', '059XX N LEGETT AVE', '127XX S DOTY AVE E', '011XX E 92ND ST', '033XX W OGDEN SD', '005XX W Englewood Ave', '008XX W Newport Ave', '002XX W 61ST ST', '040XX N Sheridan RD', '032XX W WAVELAND AVE', '025XX N Lakeview Ave', '058XX N KENNETH AVE', '028XX S Kenneth ave', '059XX W CARMEN AVE', '009XX W Grace St', '010XX W Argyle St', '065XX S CENTRAL PARK AVE', '059XX N AVONDALE AVE', '005XX E 103RD PL', '109XX S HOYNE AVE', '022XX W SUNNYSIDE AVE', '067XX S HAMILTON AVE', '027XX E 85TH ST', '135XX S AVENUE N', '001XX E 109TH ST', '127XX S Manistee Ave', '106XX S CENTRAL PARK AVE', '000XX N MAYFIELD AVE', '014XX W Oakdale Ave', '039XX N PLAINFIELD AVE', '055XX S University Ave', '115XX W IRVING PARK RD', '063XX W LAWRENCE AVE', '059XX W POTOMAC AVE', '002XX N Garland ct', '052XX W DICKENS AVE', '045XX S DR MARTIN LUTHER KING JR SD', '037XX N Bernard St', '063XX W GREGORY ST', '077XX S yates blvd', '048XX S WALLACE ST', '076XX W HORTENSE AVE', '010XX W 14th PL', '063XX S NASHVILLE AVE', '032XX N Lake Shore Dr', '033XX N CUMBERLAND AVE', '034XX N BELMONT HARBOR DR', '056XX W BRYN MAWR AVE', '051XX S HAMLIN AVE', '002XX W 98TH PL', '056XX N RAVENSWOOD AVE', '062XX W STRONG ST', '029XX W Belden Ave', '007XX W 91ST ST', '066XX S DORCHESTER AVE', '031XX N broadway', '043XX N central ave', '037XX W CARMEN AVE', '053XX N Lincoln Ave', '025XX W Harrison St', '001XX E 124TH PL', '037XX W 114TH PL', '029XX W GRANVILLE AVE', '026XX S SENOUR AVE', '014XX W Lexington st', '038XX W 87TH ST', '038XX N MENARD AVE', '014XX E 60TH ST', '018XX E 103RD ST', '080XX W FOSTER AVE', '001XX W Lake St', '049XX S WELLS ST', '065XX S HOMAN AVE', '003XX E Randolph st', '017XX S CALIFORNIA BLVD', '044XX N Wolcott Ave', '038XX W ROSEMONT AVE', '033XX S LA SALLE ST', '053XX W Giddings st', '048XX S HAMLIN AVE', '020XX W 37TH ST', '113XX W IRVING PARK RD', '033XX W WALTON ST', '030XX W 103RD ST', '096XX S THROOP ST', '123XX S BURLEY AVE', '003XX W 38TH ST', '023XX W Wilson Ave', '070XX N TAHOMA AVE', '042XX W 45TH ST', '025XX E 99TH ST', '043XX S DR MARTIN LUTHER KING JR SD', '066XX S LAWNDALE AVE', '084XX W HIGGINS RD', '019XX E 88TH ST', '073XX W CHASE AVE', '024XX E 83RD ST', '004XX E Randolph St', '018XX S KILBOURN AVE', '041XX S PEORIA ST', '070XX W CORTLAND ST', '113XX S DOTY AVE E', '121XX S PEORIA ST', '012XX W Lake St', '004XX W 57TH ST', '027XX N Lawndale Ave', '022XX N Monticello Ave', '130XX S BURLEY AVE', '057XX N OZANAM AVE', '062XX S NEW ENGLAND AVE', '042XX S WOLCOTT AVE', '005XX E 104TH ST', '020XX W 115TH ST', '031XX W LUIS MUNOZ MARIN DR S', '110XX S ALBANY AVE', '110XX S WASHTENAW AVE', '001XX W 24TH ST', '041XX N Major Ave', '036XX E 134TH ST', '027XX W 19TH ST', '046XX N FOREST VIEW AVE', '002XX E 38TH ST', '019XX E 77TH ST', '014XX W Polk ST', '012XX W 48TH ST', '020XX W 58TH ST', '042XX W 49TH ST', '005XX E 101ST ST', '024XX W 77TH ST', '033XX W Monroe St', '113XX S BELL AVE', '053XX N LARNED AVE', '047XX W 53RD ST', '070XX N Glenwood Ave', '053XX S MASSASOIT AVE', '112XX S SAWYER AVE', '081XX S FRANCISCO AVE', '038XX W 105TH ST', '046XX W ARTHINGTON ST', '040XX N TRIPP AVE', '057XX S MAJOR AVE', '025XX W Diversey Ave', '112XX S MARSHFIELD AVE', '036XX N Hoyne Ave', '024XX N Western Ave', '026XX W 45TH ST', '008XX W 106TH ST', '121XX S DOTY AVE W', '003XX E 24TH PL', '053XX S Hyde Park Blvd', '071XX W MEDILL AVE', '051XX S NATOMA AVE', '069XX W BELDEN AVE', '009XX S Ashland Ave', '022XX W LUNT AVE', '055XX N CANFIELD AVE', '032XX W THORNDALE AVE', '083XX W BALMORAL AVE', '061XX N ORIOLE AVE', '039XX N LAKE SHORE DR SB', '094XX S CLYDE AVE', '022XX N KEDZIE SD', '021XX E MARQUETTE DR', '084XX S Vincennes Ave', '030XX W 109TH ST', '017XX N North Park Ave', '0000X E NORTH AVE', '078XX S KEDVALE AVE', '027XX W 109TH ST', '045XX S LAKE SHORE DR NB', '043XX N LAMON AVE', '029XX N HONORE ST', '020XX N Burling St', '023XX W 65TH ST', '062XX W WELLINGTON AVE', '032XX N MOBILE AVE', '019XX W CARROLL AVE', '059XX W PETERSON AVE', '020XX W WELLINGTON AVE', '052XX W ARDMORE AVE', '109XX S Western Ave', '0000X E Oak St', '005XX W IRVING PARK DR', '034XX W 48TH PL', '082XX S KOSTNER AVE', '052XX N WOLCOTT AVE', '056XX N LOCKWOOD AVE', '015XX W 92ND ST', '017XX W 70TH ST', '023XX W 13TH ST', '044XX W 30TH ST', '050XX W PALMER ST', '033XX E 105TH ST', '001XX E 101ST ST', '061XX N NICKERSON AVE', '012XX S WOLCOTT AVE', '007XX E 55TH DR', '074XX W SCHOOL ST', '027XX S Princeton ave', '044XX S LA SALLE ST', '096XX S WOOD ST', '031XX S Racine Ave', '010XX W 120TH ST', '035XX S NORMAL AVE', '007XX E RAINEY DR', '099XX S State St', '039XX W 41ST ST', '069XX N SEELEY AVE', '021XX S UNION AVE', '107XX S THROOP ST', '005XX S WACKER DR', '053XX N LAKE SHORE DR NB', '056XX S CENTRAL PARK AVE', '013XX W 58TH ST', '032XX W 52ND ST', '048XX W 46TH ST', '034XX S Morgan St', '018XX W Diversey Pkwy', '007XX W 14th Pl', '122XX S CARONDOLET AVE', '062XX N LIVERMORE AVE', '027XX W 70TH ST', '002XX N POST PL', '026XX W 40TH ST', '049XX S LAWNDALE AVE', '007XX E 113TH ST', '035XX E 111TH ST', '034XX W Walnut St', '017XX N Wilmot Ave', '014XX W FULTON st', '053XX N California Ave', '019XX W 73RD ST', '025XX N Laramie Ave', '106XX S Avenue H', '080XX W BELMONT AVE', '041XX W 32ND ST', '006XX W 32ND ST', '049XX S Drexel Blvd', '030XX W Cornelia Ave', '036XX S Winchester Ave', '057XX W 53RD ST', '089XX S LEAVITT ST', '017XX W 100TH PL', '022XX W Belden Ave', '043XX W HENDERSON ST', '056XX S NEVA AVE', '005XX E 33rd St', '006XX W deming pl', '017XX S DRAKE AVE', '075XX W FOSTER AVE', '024XX S DAN RYAN EXPY IB', '040XX W GEORGE ST', '027XX W BIRCHWOOD AVE', '024XX N Lincoln Ave', '009XX W 56TH ST', '075XX W ARDMORE AVE', '0000X W Delaware Pl', '031XX N LAKE SHORE DR SB', '107XX S CALIFORNIA AVE', '005XX E 94TH ST', '059XX N KNOX AVE', '029XX N LECLAIRE AVE', '074XX S MOZART ST', '006XX N Dearborn st', '005XX N Wells St', '112XX S SANGAMON ST', '002XX E 86TH ST', '013XX E 99TH ST', '038XX S DAN RYAN XPRS OB', '088XX S ST LAWRENCE AVE', '069XX S KEDZIE AVE', '024XX W 31ST ST', '005XX W Webster Ave', '033XX S justine St', '008XX W Waveland ave', '005XX W 87TH SD', '020XX N LOREL AVE', '018XX W 33RD PL', '004XX W WASHINGTON ST', '030XX W HOLLYWOOD AVE', '031XX W SCHUBERT AVE', '042XX S WALLACE ST', '050XX N Mango Ave', '106XX S CLAREMONT AVE', '010XX S CICERO AVE', '060XX W CULLOM AVE', '021XX W Ohio St', '054XX N OCONTO AVE', '036XX E 108TH ST', '028XX S MOE DR', '061XX N Hoyne Ave', '057XX N HARLEM AVE', '000XX E 100TH PL', '048XX N NATOMA AVE', '009XX W 102ND ST', '051XX S DEARBORN ST', '014XX W Granville Ave', '022XX W 66TH ST', '064XX W CORNELIA AVE', '005XX W 108TH ST', '031XX E 134TH ST', '027XX W 103RD ST', '018XX N KENNEDY EXPY IB', '039XX S DAN RYAN LOCAL OB', '055XX S SAYRE AVE', '014XX W Walton St', '027XX N Clark St', '002XX W 125TH ST', '036XX N Nora Ave', '069XX N OWEN AVE', '023XX E 85TH ST', '032XX W 72ND ST', '014XX W Ohio St', '042XX W 58TH ST', '025XX W Haddon Ave', '012XX S THOMPSON DR', '059XX N OKETO AVE', '076XX S Clyde Ave', '005XX W lake st', '007XX W Hubbard St', '024XX S Spaulding Ave', '023XX W 75TH ST', '034XX S Archer Ave', '006XX W 126TH ST', '001XX E 99TH ST', '044XX W KINZIE ST', '022XX S MORGAN ST', '081XX S KEATING AVE', '044XX S SPRINGFIELD AVE', '012XX W HOLLYWOOD AVE', '066XX W HAYES AVE', '026XX W 110TH ST', '025XX W Flournoy St', '002XX W North ave', '021XX W 100TH ST', '093XX S Green St', '046XX N Leamington Ave', '040XX W 74TH ST', '063XX S NARRAGANSETT AVE', '0000X W 17TH ST', '078XX S FIELDING AVE', '103XX S RIDGEWAY AVE', '021XX W HOPKINS PL', '044XX N MANOR AVE', '034XX S DAN RYAN LOCAL IB', '038XX W 33RD ST', '041XX S OAKLEY AVE', '056XX N SAYRE AVE', '011XX N lamon ave', '001XX W 93RD ST', '070XX S HAMILTON AVE', '071XX W ALTGELD ST', '069XX N OZANAM AVE', '015XX N wells st', '018XX N Dayton St', '010XX W Hollywood Ave', '013XX N Artesian Ave', '026XX S LOOMIS ST', '006XX W 98TH ST', '104XX S SAWYER AVE', '040XX N LAKE SHORE DR NB', '049XX W CATALPA AVE', '014XX E 103RD ST', '023XX E 94TH ST', '009XX W OHIO ST', '017XX W Estes ave', '006XX W sheridan rd', '097XX S WABASH AVE', '025XX W 19TH ST', '028XX N COMMONWEALTH AVE', '057XX N CENTRAL AVE', '068XX N Wayne Ave', '052XX S Artesian ave', '036XX N Wolcott Ave', '048XX W FIFTH AVE', '060XX W 62ND ST', '017XX W Lunt Ave', '089XX S Jeffery Blvd', '048XX N SAYRE AVE', '019XX W Cortland St', '020XX W CUYLER AVE', '065XX N MINNEHAHA AVE', '058XX S MC VICKER AVE', '034XX W FRANKLIN SD', '021XX W Schiller St', '005XX N STREETER DR', '027XX W Lawrence Ave', '070XX W HENDERSON ST', '016XX S Jefferson st', '045XX N RACINE AVE', '082XX S KILPATRICK AVE', '054XX N DELPHIA AVE', '064XX S NOTTINGHAM AVE', '049XX W 45TH ST', '010XX E 91ST ST', '015XX W Haddon Ave', '080XX S SCOTTSDALE AVE', '070XX N HARLEM AVE', '016XX N Vine St', '073XX W SCHOOL ST', '036XX E 105TH ST', '003XX N Central Ave', '041XX W 115TH ST', '039XX W 46TH ST', '012XX W BERWYN AVE', '019XX W 14TH ST', '102XX S SEELEY AVE', '048XX N marine dr', '061XX W BERWYN AVE', '108XX S Talman Ave', '031XX W 73RD ST', '071XX S EVANS AVE'] in column 0 during transform"
     ]
    }
   ],
   "source": [
    "forest_pipe.fit(X_train, y_train)\n",
    "print(forest_pipe.score(X_train, y_train))\n",
    "print(forest_pipe.score(X_test, y_test))\n",
    "# I'm not sure why I get this error for the score of test data. But based on the train score I get, we can see this model doesn't perform much better than the baseline score"
   ]
  },
  {
   "cell_type": "markdown",
   "id": "db90e004-f4e8-4643-a250-d40de89f03a3",
   "metadata": {},
   "source": [
    "Next, I want to use DecisionTreeClassifier to learn a decision tree to predict high crime district on the entire dataset"
   ]
  },
  {
   "cell_type": "code",
   "execution_count": 33,
   "id": "a5b3b138-0714-464d-926f-9a3a2e207f8f",
   "metadata": {},
   "outputs": [
    {
     "data": {
      "text/html": [
       "<div>\n",
       "<style scoped>\n",
       "    .dataframe tbody tr th:only-of-type {\n",
       "        vertical-align: middle;\n",
       "    }\n",
       "\n",
       "    .dataframe tbody tr th {\n",
       "        vertical-align: top;\n",
       "    }\n",
       "\n",
       "    .dataframe thead th {\n",
       "        text-align: right;\n",
       "    }\n",
       "</style>\n",
       "<table border=\"1\" class=\"dataframe\">\n",
       "  <thead>\n",
       "    <tr style=\"text-align: right;\">\n",
       "      <th></th>\n",
       "      <th>District Crime Rate</th>\n",
       "    </tr>\n",
       "    <tr>\n",
       "      <th>District</th>\n",
       "      <th></th>\n",
       "    </tr>\n",
       "  </thead>\n",
       "  <tbody>\n",
       "    <tr>\n",
       "      <th>1</th>\n",
       "      <td>4.570318</td>\n",
       "    </tr>\n",
       "    <tr>\n",
       "      <th>2</th>\n",
       "      <td>4.661564</td>\n",
       "    </tr>\n",
       "    <tr>\n",
       "      <th>3</th>\n",
       "      <td>5.137391</td>\n",
       "    </tr>\n",
       "    <tr>\n",
       "      <th>4</th>\n",
       "      <td>5.921172</td>\n",
       "    </tr>\n",
       "    <tr>\n",
       "      <th>5</th>\n",
       "      <td>4.560358</td>\n",
       "    </tr>\n",
       "    <tr>\n",
       "      <th>6</th>\n",
       "      <td>6.499008</td>\n",
       "    </tr>\n",
       "    <tr>\n",
       "      <th>7</th>\n",
       "      <td>5.038273</td>\n",
       "    </tr>\n",
       "    <tr>\n",
       "      <th>8</th>\n",
       "      <td>6.225271</td>\n",
       "    </tr>\n",
       "    <tr>\n",
       "      <th>9</th>\n",
       "      <td>4.397947</td>\n",
       "    </tr>\n",
       "    <tr>\n",
       "      <th>10</th>\n",
       "      <td>4.495297</td>\n",
       "    </tr>\n",
       "    <tr>\n",
       "      <th>11</th>\n",
       "      <td>6.337722</td>\n",
       "    </tr>\n",
       "    <tr>\n",
       "      <th>12</th>\n",
       "      <td>5.305906</td>\n",
       "    </tr>\n",
       "    <tr>\n",
       "      <th>14</th>\n",
       "      <td>3.256733</td>\n",
       "    </tr>\n",
       "    <tr>\n",
       "      <th>15</th>\n",
       "      <td>3.892561</td>\n",
       "    </tr>\n",
       "    <tr>\n",
       "      <th>16</th>\n",
       "      <td>3.651435</td>\n",
       "    </tr>\n",
       "    <tr>\n",
       "      <th>17</th>\n",
       "      <td>2.823958</td>\n",
       "    </tr>\n",
       "    <tr>\n",
       "      <th>18</th>\n",
       "      <td>4.712166</td>\n",
       "    </tr>\n",
       "    <tr>\n",
       "      <th>19</th>\n",
       "      <td>4.650800</td>\n",
       "    </tr>\n",
       "    <tr>\n",
       "      <th>20</th>\n",
       "      <td>1.987807</td>\n",
       "    </tr>\n",
       "    <tr>\n",
       "      <th>22</th>\n",
       "      <td>3.326131</td>\n",
       "    </tr>\n",
       "    <tr>\n",
       "      <th>24</th>\n",
       "      <td>3.343481</td>\n",
       "    </tr>\n",
       "    <tr>\n",
       "      <th>25</th>\n",
       "      <td>5.204700</td>\n",
       "    </tr>\n",
       "  </tbody>\n",
       "</table>\n",
       "</div>"
      ],
      "text/plain": [
       "          District Crime Rate\n",
       "District                     \n",
       "1                    4.570318\n",
       "2                    4.661564\n",
       "3                    5.137391\n",
       "4                    5.921172\n",
       "5                    4.560358\n",
       "6                    6.499008\n",
       "7                    5.038273\n",
       "8                    6.225271\n",
       "9                    4.397947\n",
       "10                   4.495297\n",
       "11                   6.337722\n",
       "12                   5.305906\n",
       "14                   3.256733\n",
       "15                   3.892561\n",
       "16                   3.651435\n",
       "17                   2.823958\n",
       "18                   4.712166\n",
       "19                   4.650800\n",
       "20                   1.987807\n",
       "22                   3.326131\n",
       "24                   3.343481\n",
       "25                   5.204700"
      ]
     },
     "execution_count": 33,
     "metadata": {},
     "output_type": "execute_result"
    }
   ],
   "source": [
    "percentage_district = crime_data.groupby('District').size() * 100 / len(crime_data)\n",
    "districtcrime=pd.DataFrame(percentage_district)\n",
    "districtcrime = districtcrime.rename({0: 'District Crime Rate'}, axis='columns')\n",
    "districtcrime"
   ]
  },
  {
   "cell_type": "code",
   "execution_count": 34,
   "id": "4bb49210-a484-47ce-bb28-49713dd0fe68",
   "metadata": {},
   "outputs": [
    {
     "data": {
      "text/html": [
       "<div>\n",
       "<style scoped>\n",
       "    .dataframe tbody tr th:only-of-type {\n",
       "        vertical-align: middle;\n",
       "    }\n",
       "\n",
       "    .dataframe tbody tr th {\n",
       "        vertical-align: top;\n",
       "    }\n",
       "\n",
       "    .dataframe thead th {\n",
       "        text-align: right;\n",
       "    }\n",
       "</style>\n",
       "<table border=\"1\" class=\"dataframe\">\n",
       "  <thead>\n",
       "    <tr style=\"text-align: right;\">\n",
       "      <th></th>\n",
       "      <th>Block</th>\n",
       "      <th>Primary Type</th>\n",
       "      <th>Description</th>\n",
       "      <th>Location Description</th>\n",
       "      <th>District</th>\n",
       "      <th>Latitude</th>\n",
       "      <th>Longitude</th>\n",
       "      <th>District Crime Rate</th>\n",
       "    </tr>\n",
       "    <tr>\n",
       "      <th>Datetime</th>\n",
       "      <th></th>\n",
       "      <th></th>\n",
       "      <th></th>\n",
       "      <th></th>\n",
       "      <th></th>\n",
       "      <th></th>\n",
       "      <th></th>\n",
       "      <th></th>\n",
       "    </tr>\n",
       "  </thead>\n",
       "  <tbody>\n",
       "    <tr>\n",
       "      <th>2020-01-01</th>\n",
       "      <td>0</td>\n",
       "      <td>0</td>\n",
       "      <td>0</td>\n",
       "      <td>0</td>\n",
       "      <td>2</td>\n",
       "      <td>41.814133</td>\n",
       "      <td>-87.599358</td>\n",
       "      <td>False</td>\n",
       "    </tr>\n",
       "    <tr>\n",
       "      <th>2020-01-01</th>\n",
       "      <td>1</td>\n",
       "      <td>1</td>\n",
       "      <td>1</td>\n",
       "      <td>1</td>\n",
       "      <td>6</td>\n",
       "      <td>41.745354</td>\n",
       "      <td>-87.603799</td>\n",
       "      <td>True</td>\n",
       "    </tr>\n",
       "    <tr>\n",
       "      <th>2020-01-01</th>\n",
       "      <td>2</td>\n",
       "      <td>0</td>\n",
       "      <td>0</td>\n",
       "      <td>1</td>\n",
       "      <td>4</td>\n",
       "      <td>41.733266</td>\n",
       "      <td>-87.545734</td>\n",
       "      <td>True</td>\n",
       "    </tr>\n",
       "    <tr>\n",
       "      <th>2020-01-01</th>\n",
       "      <td>3</td>\n",
       "      <td>2</td>\n",
       "      <td>2</td>\n",
       "      <td>0</td>\n",
       "      <td>3</td>\n",
       "      <td>41.779120</td>\n",
       "      <td>-87.615599</td>\n",
       "      <td>True</td>\n",
       "    </tr>\n",
       "    <tr>\n",
       "      <th>2020-01-01</th>\n",
       "      <td>4</td>\n",
       "      <td>2</td>\n",
       "      <td>3</td>\n",
       "      <td>1</td>\n",
       "      <td>7</td>\n",
       "      <td>41.783407</td>\n",
       "      <td>-87.643487</td>\n",
       "      <td>True</td>\n",
       "    </tr>\n",
       "  </tbody>\n",
       "</table>\n",
       "</div>"
      ],
      "text/plain": [
       "            Block  Primary Type  Description  Location Description  District  \\\n",
       "Datetime                                                                       \n",
       "2020-01-01      0             0            0                     0         2   \n",
       "2020-01-01      1             1            1                     1         6   \n",
       "2020-01-01      2             0            0                     1         4   \n",
       "2020-01-01      3             2            2                     0         3   \n",
       "2020-01-01      4             2            3                     1         7   \n",
       "\n",
       "             Latitude  Longitude  District Crime Rate  \n",
       "Datetime                                               \n",
       "2020-01-01  41.814133 -87.599358                False  \n",
       "2020-01-01  41.745354 -87.603799                 True  \n",
       "2020-01-01  41.733266 -87.545734                 True  \n",
       "2020-01-01  41.779120 -87.615599                 True  \n",
       "2020-01-01  41.783407 -87.643487                 True  "
      ]
     },
     "execution_count": 34,
     "metadata": {},
     "output_type": "execute_result"
    }
   ],
   "source": [
    "# I will set the crime rate higher than 5% as high crime rate\n",
    "crimes1=crime_data.copy()\n",
    "high_crime_rate_district=[3,4,6,7,8,11,12,25]\n",
    "crimes1[\"District Crime Rate\"]=np.where(crimes1['District'].isin(high_crime_rate_district), True, False)\n",
    "crimes1.head(5)"
   ]
  },
  {
   "cell_type": "markdown",
   "id": "1ec71273-47e4-4a3a-a035-32b5837c6e71",
   "metadata": {},
   "source": [
    "Create a new field “highcrime_district” which is true if the crime rate in a certain district is greater than 5, and false otherwise."
   ]
  },
  {
   "cell_type": "code",
   "execution_count": 35,
   "id": "5c0d4b84-d4f5-427a-acc0-1c6d09acadf2",
   "metadata": {},
   "outputs": [
    {
     "name": "stdout",
     "output_type": "stream",
     "text": [
      "District Crime Rate\n",
      "False    54.330557\n",
      "True     45.669443\n",
      "dtype: float64\n",
      "------------------\n",
      "Percentage Positive Instance = 45.66944312805725\n",
      "Percentage Negative Instance = 54.33055687194275 \n"
     ]
    }
   ],
   "source": [
    "percentage_intances = crimes1.groupby('District Crime Rate').size() * 100 / len(crimes1)\n",
    "print(percentage_intances)\n",
    "print(\"------------------\")\n",
    "print(\"Percentage Positive Instance = {}\\nPercentage Negative Instance = {} \".format(percentage_intances[1],percentage_intances[0]))"
   ]
  },
  {
   "cell_type": "code",
   "execution_count": 36,
   "id": "3dafaa6a-7d70-418f-8563-e33e11a6803d",
   "metadata": {},
   "outputs": [
    {
     "name": "stdout",
     "output_type": "stream",
     "text": [
      "Training Accuracy = 1.0 Precision = 1.0 Recall = 1.0\n"
     ]
    }
   ],
   "source": [
    "from sklearn.tree import DecisionTreeClassifier\n",
    "import sklearn.metrics as metrics\n",
    "#Dropping non-predictive fields as well as ViolentCrimesPerPop field \n",
    "X = crimes1.drop('District Crime Rate', axis=1).reset_index(drop=True)\n",
    "features = list(X.columns)\n",
    "y = crimes1[\"District Crime Rate\"]\n",
    "\n",
    "\n",
    "# First, we tried by not defining the max depth\n",
    "dt_clf = DecisionTreeClassifier()\n",
    "dt_clf.fit(X,y)\n",
    "predicted = dt_clf.predict(X[features])\n",
    "recall_score = metrics.recall_score(crimes1['District Crime Rate'], predicted)\n",
    "precision_score = metrics.precision_score(crimes1['District Crime Rate'], predicted)\n",
    "accuracy_score = metrics.accuracy_score(crimes1['District Crime Rate'], predicted)\n",
    "print(\"Training Accuracy = {} Precision = {} Recall = {}\".format(accuracy_score,precision_score,recall_score))"
   ]
  },
  {
   "cell_type": "markdown",
   "id": "a27b069c-9d9c-41d5-8990-51a65c16c058",
   "metadata": {},
   "source": [
    "The score values show overfitting so we can define max_depth to avoid the complexity of the tree and to reach a point from where there is a decrease in the cross validation performance."
   ]
  },
  {
   "cell_type": "code",
   "execution_count": 37,
   "id": "f6618299-7e47-4d25-9550-b47de7876afc",
   "metadata": {},
   "outputs": [
    {
     "name": "stdout",
     "output_type": "stream",
     "text": [
      "Depth: 1 Accuracy: 0.721\n",
      "Depth: 2 Accuracy: 0.865\n",
      "Depth: 3 Accuracy: 0.898\n",
      "Depth: 4 Accuracy: 0.908\n"
     ]
    }
   ],
   "source": [
    "from sklearn.model_selection import cross_val_score\n",
    "for depth in range(1,5):\n",
    "    tree_clf = DecisionTreeClassifier(max_depth=depth, random_state=22)\n",
    "    if tree_clf.fit(X,y).tree_.max_depth < depth:\n",
    "        break\n",
    "    score = np.mean(cross_val_score(tree_clf, X, y,scoring='accuracy', cv=10, n_jobs=1))\n",
    "    print(\"Depth: %i Accuracy: %.3f\" % (depth,score))"
   ]
  },
  {
   "cell_type": "markdown",
   "id": "7bb6c556-2d09-481e-9e92-f3e30a56997a",
   "metadata": {},
   "source": [
    "We can see that the depth has an increasing accuracy. Then we can specify the depth as 4 and witness the results."
   ]
  },
  {
   "cell_type": "code",
   "execution_count": 38,
   "id": "85483f0b-c956-41ff-9d1c-102ab7e012ae",
   "metadata": {},
   "outputs": [
    {
     "name": "stdout",
     "output_type": "stream",
     "text": [
      "Accuracy for DT = 0.907552671105792\n",
      "Precision for DT = 0.8316512500073134\n",
      "Recall for DT = 0.8316512500073134\n"
     ]
    }
   ],
   "source": [
    "dt_clf = DecisionTreeClassifier(max_depth=4)\n",
    "dt_clf.fit(X,y)\n",
    "#Predicting \n",
    "pred_dt= dt_clf.predict(X)\n",
    "dt_accuracy= metrics.accuracy_score(crimes1['District Crime Rate'], pred_dt)\n",
    "dt_precision= metrics.precision_score(crimes1['District Crime Rate'], pred_dt)\n",
    "dt_recall= metrics.recall_score(crimes1['District Crime Rate'], pred_dt)\n",
    "print(\"Accuracy for DT =\",dt_accuracy)\n",
    "print(\"Precision for DT =\",dt_precision)\n",
    "print(\"Recall for DT =\",dt_precision)"
   ]
  },
  {
   "cell_type": "code",
   "execution_count": 59,
   "id": "3a3f4b81-6bdb-4b3d-adc4-239347ce0d1d",
   "metadata": {},
   "outputs": [
    {
     "name": "stdout",
     "output_type": "stream",
     "text": [
      "Collecting pydotplus\n",
      "  Downloading pydotplus-2.0.2.tar.gz (278 kB)\n",
      "Requirement already satisfied: pyparsing>=2.0.1 in d:\\anaconda3\\lib\\site-packages (from pydotplus) (3.0.4)\n",
      "Building wheels for collected packages: pydotplus\n",
      "  Building wheel for pydotplus (setup.py): started\n",
      "  Building wheel for pydotplus (setup.py): finished with status 'done'\n",
      "  Created wheel for pydotplus: filename=pydotplus-2.0.2-py3-none-any.whl size=24575 sha256=c5c18e3c87b84549c21e809ed430eb2e4b5686bbfdee520bbee656053234210c\n",
      "  Stored in directory: c:\\users\\administrator\\appdata\\local\\pip\\cache\\wheels\\89\\e5\\de\\6966007cf223872eedfbebbe0e074534e72e9128c8fd4b55eb\n",
      "Successfully built pydotplus\n",
      "Installing collected packages: pydotplus\n",
      "Successfully installed pydotplus-2.0.2\n",
      "Note: you may need to restart the kernel to use updated packages.\n"
     ]
    }
   ],
   "source": [
    "pip install pydotplus"
   ]
  },
  {
   "cell_type": "code",
   "execution_count": 39,
   "id": "1de84dc1-ec88-4b57-ab3e-7e5f9e03d331",
   "metadata": {},
   "outputs": [
    {
     "data": {
      "image/png": "[encoded data removed]",
      "text/plain": [
       "<IPython.core.display.Image object>"
      ]
     },
     "execution_count": 39,
     "metadata": {},
     "output_type": "execute_result"
    }
   ],
   "source": [
    "# I want to see the main features used for classification\n",
    "from sklearn import tree\n",
    "import pydotplus\n",
    "from IPython.display import Image \n",
    "dot_data = tree.export_graphviz(dt_clf, out_file=None,feature_names=list(X))\n",
    "\n",
    "graph = pydotplus.graph_from_dot_data(dot_data)  \n",
    "Image(graph.create_png()) "
   ]
  },
  {
   "cell_type": "code",
   "execution_count": 40,
   "id": "0cd1b373-c54d-4f69-b078-c8d54089ea45",
   "metadata": {},
   "outputs": [
    {
     "name": "stdout",
     "output_type": "stream",
     "text": [
      "Feature ranking:\n",
      "The main features used for classification\n",
      "Index(['District', 'Latitude', 'Longitude', 'Location Description',\n",
      "       'Description'],\n",
      "      dtype='object')\n",
      "Top main feature is District\n"
     ]
    }
   ],
   "source": [
    "# We can check the main features used for classification by checking the feature importance, the higher the value,\n",
    "# more important the feature would be.\n",
    "# We can sort the importance scores in descending order and take the top most.\n",
    "importances=dt_clf.feature_importances_\n",
    "indices = np.argsort(importances)[::-1]\n",
    "# Print the feature ranking\n",
    "print(\"Feature ranking:\")\n",
    "# We have taken the top 5 feature \n",
    "print(\"The main features used for classification\")\n",
    "print(X.columns[indices[:5]])\n",
    "print(\"Top main feature is\",X.columns[indices[:1]][0])"
   ]
  },
  {
   "cell_type": "code",
   "execution_count": 41,
   "id": "9fc771a6-57a8-4e76-b855-bb1036fd358c",
   "metadata": {},
   "outputs": [
    {
     "name": "stdout",
     "output_type": "stream",
     "text": [
      "Cross Validation Accuracy DT: 0.907925401037071\n",
      "Cross Validation Recall DT: 0.8322828680034672\n",
      "Cross Validation Precision DT: 1.0\n"
     ]
    }
   ],
   "source": [
    "# Apply cross-validation (cross_val_score) to do 10-fold cross-validation to estimate the out-of-training accuracy of decision tree learnt above\n",
    "dt_cv_accuracy = cross_val_score(dt_clf, X, y, cv=10).mean()\n",
    "dt_cv_precision= cross_val_score(dt_clf, X, y, cv=10, scoring='precision').mean()\n",
    "dt_cv_recall = cross_val_score(dt_clf, X, y, cv=10, scoring='recall').mean()\n",
    "print(\"Cross Validation Accuracy DT:\", dt_cv_accuracy)\n",
    "print(\"Cross Validation Recall DT:\", dt_cv_precision)\n",
    "print(\"Cross Validation Precision DT:\", dt_cv_recall)"
   ]
  },
  {
   "cell_type": "markdown",
   "id": "2d175515-6acf-4c57-a875-4d9b6f6cbe69",
   "metadata": {},
   "source": [
    "Now, I will use Linear Classification to predict high crime rate district"
   ]
  },
  {
   "cell_type": "code",
   "execution_count": 42,
   "id": "02b98aa6-8c13-460a-953d-542dbf834b2a",
   "metadata": {},
   "outputs": [
    {
     "name": "stdout",
     "output_type": "stream",
     "text": [
      "Accuracy for gaussian : 0.6433962963744324\n",
      "Recall for gaussian: 0.6619191670477329\n",
      "Precision for gaussian: 0.5991824514030991\n"
     ]
    }
   ],
   "source": [
    "# Use GaussianNB to learn a Naive Bayes classifier to predict high crime rate district\n",
    "# Using GaussianNB\n",
    "from sklearn.naive_bayes import GaussianNB\n",
    "X_train,X_test,y_train,y_test = train_test_split(X,y, train_size=0.7)\n",
    "gaussian_clf = GaussianNB()\n",
    "gaussian_clf.fit(X_train, y_train)\n",
    "\n",
    "# Applying 10 fold cross validation\n",
    "gaussian_accuracy = cross_val_score(gaussian_clf, X, y, cv=10).mean()\n",
    "gaussian_precision= cross_val_score(gaussian_clf, X, y, cv=10, scoring='precision').mean()\n",
    "gaussian_recall = cross_val_score(gaussian_clf, X, y, cv=10, scoring='recall').mean()\n",
    "print(\"Accuracy for gaussian :\", gaussian_accuracy)\n",
    "print(\"Recall for gaussian:\", gaussian_recall)\n",
    "print(\"Precision for gaussian:\", gaussian_precision)"
   ]
  },
  {
   "cell_type": "code",
   "execution_count": 43,
   "id": "ab25e7b6-a8cb-4bd9-a289-6db89586afb5",
   "metadata": {},
   "outputs": [
    {
     "name": "stdout",
     "output_type": "stream",
     "text": [
      "[-0.00055797 -0.00128301 -0.00221045  0.00937515  0.09937617 -0.00325464\n",
      " -0.00048086]\n"
     ]
    }
   ],
   "source": [
    "from sklearn.inspection import permutation_importance\n",
    "imps = permutation_importance(gaussian_clf, X_test, y_test)\n",
    "print(imps.importances_mean)\n",
    "# Higher value shows greater importance. So we can see District is the most important feature and Location Description is the second important feature fo this model"
   ]
  },
  {
   "cell_type": "markdown",
   "id": "17189516-01d7-4409-b199-f0eccf719e3c",
   "metadata": {},
   "source": [
    "We can see that the all scores are higher in case of Decision Trees. So in this case of High Crime Rate District Prediction, Decision Trees works much better than Gaussian NB."
   ]
  },
  {
   "cell_type": "markdown",
   "id": "3d4e4ff0-3e1e-4058-8724-b8e9ad8a5b7f",
   "metadata": {},
   "source": [
    "Use LinearRegression to learn a linear model directly predicting the high crime rate district."
   ]
  },
  {
   "cell_type": "code",
   "execution_count": 45,
   "id": "6f065282-f44d-4f72-b118-c1ad24e629c0",
   "metadata": {},
   "outputs": [
    {
     "name": "stdout",
     "output_type": "stream",
     "text": [
      "Estimated meansquared- error (MSE) of the model is 0.2132159454080944\n"
     ]
    }
   ],
   "source": [
    "# Use 10-fold cross-validation to find the estimated meansquared- error (MSE) of the model\n",
    "from sklearn.linear_model import LinearRegression\n",
    "Y = crimes1['District Crime Rate']\n",
    "linear_regression = LinearRegression()\n",
    "mean_sq_err= cross_val_score(linear_regression,X, Y,scoring='neg_mean_squared_error',cv=10)\n",
    "print(\"Estimated meansquared- error (MSE) of the model is\",np.abs(mean_sq_err.mean()))"
   ]
  },
  {
   "cell_type": "code",
   "execution_count": 46,
   "id": "04163bb5-4d86-47d9-907e-7cf5d123d9ac",
   "metadata": {},
   "outputs": [
    {
     "name": "stdout",
     "output_type": "stream",
     "text": [
      "MSE on the training set is 0.21305075622714756\n"
     ]
    }
   ],
   "source": [
    "# Find the MSE on the training set \n",
    "linear_regression.fit(X,Y)\n",
    "yhat=linear_regression.predict(X)\n",
    "from sklearn.metrics import mean_squared_error\n",
    "MSE= mean_squared_error(y,yhat)\n",
    "print(\"MSE on the training set is\", MSE)"
   ]
  },
  {
   "cell_type": "code",
   "execution_count": 47,
   "id": "276c84c1-d8fa-4422-b76e-2b7541e569bf",
   "metadata": {},
   "outputs": [
    {
     "name": "stdout",
     "output_type": "stream",
     "text": [
      "Most Predictive Feature of a High Crime Rate is Primary Type\n",
      "Most Predictive Feature of a Low Crime Rate is Latitude\n"
     ]
    }
   ],
   "source": [
    "# Check the most predictive features by checking the coefficients, the larger the coeff, more predictive the feature.\n",
    "list_coef = np.array(linear_regression.coef_)\n",
    "print(\"Most Predictive Feature of a High Crime Rate is\", X.columns[np.argmax(list_coef)])\n",
    "print(\"Most Predictive Feature of a Low Crime Rate is\", X.columns[np.argmin(list_coef)])"
   ]
  },
  {
   "cell_type": "markdown",
   "id": "1158f2c2-9e46-412a-b8f1-9dcdf4f0c11d",
   "metadata": {},
   "source": [
    "I think that the occurrence of crime and crime severity are also related to many other factors, such as unemployment, age, income, etc., but they are not included in my data set, so my prediction is not so comprehensive.\n",
    "It's a pity that I didn't find a model that performed very well for predicting crime severity. For high crime district prediction, I have applied various models including: Decision Trees, Gaussian NB and Linear Regression. I also performed the 10 fold cross validation. The results are different. It can further be tested on many other models like Random Forests to identify the best that can be used to predict the crime rate."
   ]
  },
  {
   "cell_type": "code",
   "execution_count": null,
   "id": "4dcacd07-d8ca-4d3e-b896-fe8c00c617f6",
   "metadata": {},
   "outputs": [],
   "source": []
  }
 ],
 "metadata": {
  "kernelspec": {
   "display_name": "Python 3 (ipykernel)",
   "language": "python",
   "name": "python3"
  },
  "language_info": {
   "codemirror_mode": {
    "name": "ipython",
    "version": 3
   },
   "file_extension": ".py",
   "mimetype": "text/x-python",
   "name": "python",
   "nbconvert_exporter": "python",
   "pygments_lexer": "ipython3",
   "version": "3.9.13"
  }
 },
 "nbformat": 4,
 "nbformat_minor": 5
}
